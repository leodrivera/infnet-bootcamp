{
  "nbformat": 4,
  "nbformat_minor": 0,
  "metadata": {
    "colab": {
      "name": "Normalização / Padronização",
      "provenance": [],
      "collapsed_sections": [],
      "authorship_tag": "ABX9TyNDVJzS0xSnr4cp5EZ+7IsG",
      "include_colab_link": true
    },
    "kernelspec": {
      "name": "python3",
      "display_name": "Python 3"
    }
  },
  "cells": [
    {
      "cell_type": "markdown",
      "metadata": {
        "id": "view-in-github",
        "colab_type": "text"
      },
      "source": [
        "<a href=\"https://colab.research.google.com/github/paulopestanaj/infnet-bootcamp/blob/master/Normaliza%C3%A7%C3%A3o_Padroniza%C3%A7%C3%A3o.ipynb\" target=\"_parent\"><img src=\"https://colab.research.google.com/assets/colab-badge.svg\" alt=\"Open In Colab\"/></a>"
      ]
    },
    {
      "cell_type": "markdown",
      "metadata": {
        "id": "j44KMaXJtV3G"
      },
      "source": [
        "## Padronização\n",
        "\n",
        "Padronização é quando as features sofrem uma mudança de escala, e passam a ter as propriedades de uma distribuição normal com média $\\mu = 0$ e desvio padrão $\\sigma = 1$.\n",
        "\n",
        "Na padronização, os z-scores são calculados da seguinte maneira:\n",
        "\n",
        "$$\n",
        "z = \\frac{x - \\mu}{\\sigma}\n",
        "$$"
      ]
    },
    {
      "cell_type": "markdown",
      "metadata": {
        "id": "GAp7iY2RzzgN"
      },
      "source": [
        "Vamos verificar com o dataset de Vinhos da UCI.\n",
        "\n",
        "https://archive.ics.uci.edu/ml/datasets/wine"
      ]
    },
    {
      "cell_type": "code",
      "metadata": {
        "id": "PueSu5SkzRpt"
      },
      "source": [
        "import pandas as pd\n",
        "import matplotlib.pyplot as plt\n",
        "from sklearn.preprocessing import StandardScaler, MinMaxScaler"
      ],
      "execution_count": null,
      "outputs": []
    },
    {
      "cell_type": "code",
      "metadata": {
        "colab": {
          "base_uri": "https://localhost:8080/",
          "height": 197
        },
        "id": "9U4R2_Zy0jyS",
        "outputId": "ad4aaf17-caa3-4f3f-fcba-8cb9f97e4d84"
      },
      "source": [
        "df = pd.read_csv('https://archive.ics.uci.edu/ml/machine-learning-databases/wine/wine.data', header=None).iloc[:, 0:3]\n",
        "df.columns = ['target', 'Alcohol', 'MalicAcid']\n",
        "df.head()"
      ],
      "execution_count": null,
      "outputs": [
        {
          "output_type": "execute_result",
          "data": {
            "text/html": [
              "<div>\n",
              "<style scoped>\n",
              "    .dataframe tbody tr th:only-of-type {\n",
              "        vertical-align: middle;\n",
              "    }\n",
              "\n",
              "    .dataframe tbody tr th {\n",
              "        vertical-align: top;\n",
              "    }\n",
              "\n",
              "    .dataframe thead th {\n",
              "        text-align: right;\n",
              "    }\n",
              "</style>\n",
              "<table border=\"1\" class=\"dataframe\">\n",
              "  <thead>\n",
              "    <tr style=\"text-align: right;\">\n",
              "      <th></th>\n",
              "      <th>target</th>\n",
              "      <th>Alcohol</th>\n",
              "      <th>MalicAcid</th>\n",
              "    </tr>\n",
              "  </thead>\n",
              "  <tbody>\n",
              "    <tr>\n",
              "      <th>0</th>\n",
              "      <td>1</td>\n",
              "      <td>14.23</td>\n",
              "      <td>1.71</td>\n",
              "    </tr>\n",
              "    <tr>\n",
              "      <th>1</th>\n",
              "      <td>1</td>\n",
              "      <td>13.20</td>\n",
              "      <td>1.78</td>\n",
              "    </tr>\n",
              "    <tr>\n",
              "      <th>2</th>\n",
              "      <td>1</td>\n",
              "      <td>13.16</td>\n",
              "      <td>2.36</td>\n",
              "    </tr>\n",
              "    <tr>\n",
              "      <th>3</th>\n",
              "      <td>1</td>\n",
              "      <td>14.37</td>\n",
              "      <td>1.95</td>\n",
              "    </tr>\n",
              "    <tr>\n",
              "      <th>4</th>\n",
              "      <td>1</td>\n",
              "      <td>13.24</td>\n",
              "      <td>2.59</td>\n",
              "    </tr>\n",
              "  </tbody>\n",
              "</table>\n",
              "</div>"
            ],
            "text/plain": [
              "   target  Alcohol  MalicAcid\n",
              "0       1    14.23       1.71\n",
              "1       1    13.20       1.78\n",
              "2       1    13.16       2.36\n",
              "3       1    14.37       1.95\n",
              "4       1    13.24       2.59"
            ]
          },
          "metadata": {
            "tags": []
          },
          "execution_count": 100
        }
      ]
    },
    {
      "cell_type": "markdown",
      "metadata": {
        "id": "lDV9m8r33YFR"
      },
      "source": [
        "Para padronizar, usaremos o Standard Scaler. "
      ]
    },
    {
      "cell_type": "code",
      "metadata": {
        "colab": {
          "base_uri": "https://localhost:8080/",
          "height": 264
        },
        "id": "Zi0j3b6E3VOD",
        "outputId": "a454f2b7-7ad5-462f-aa20-a69d3d022b47"
      },
      "source": [
        "# padronização\n",
        "std = StandardScaler().fit_transform(df[['Alcohol', 'MalicAcid']])\n",
        "\n",
        "# plotar\n",
        "fig, ax = plt.subplots()\n",
        "ax.scatter('Alcohol', 'MalicAcid', c='red', s=3, label='Original', alpha=.7, data=df)\n",
        "ax.scatter(std[:,0], std[:,1], c='blue', s=3, label='Padronizado', alpha=.7)\n",
        "plt.legend(loc='upper left')\n",
        "plt.show()"
      ],
      "execution_count": null,
      "outputs": [
        {
          "output_type": "display_data",
          "data": {
            "image/png": "[encoded data removed]",
            "text/plain": [
              "<Figure size 432x288 with 1 Axes>"
            ]
          },
          "metadata": {
            "tags": [],
            "needs_background": "light"
          }
        }
      ]
    },
    {
      "cell_type": "markdown",
      "metadata": {
        "id": "e2kbFJKL3zFQ"
      },
      "source": [
        "Podemos ver na mão a conta que foi feita aplicando a formula."
      ]
    },
    {
      "cell_type": "code",
      "metadata": {
        "colab": {
          "base_uri": "https://localhost:8080/"
        },
        "id": "8Wl22PQi5I7Q",
        "outputId": "891d25a8-9423-47b4-c233-74255dbc238c"
      },
      "source": [
        "print('Alcohol standard for the first register is '+ str((df['Alcohol'][0] - df['Alcohol'].mean()) / df['Alcohol'].std()))\n",
        "print('MalicAcid standard for the first register is '+ str((df['MalicAcid'][0] - df['MalicAcid'].mean()) / df['MalicAcid'].std()))"
      ],
      "execution_count": null,
      "outputs": [
        {
          "output_type": "stream",
          "text": [
            "Alcohol standard for the first register is 1.5143407672921458\n",
            "MalicAcid standard for the first register is -0.560668220516758\n"
          ],
          "name": "stdout"
        }
      ]
    },
    {
      "cell_type": "code",
      "metadata": {
        "colab": {
          "base_uri": "https://localhost:8080/"
        },
        "id": "yowe5YtP5K2W",
        "outputId": "0fc3dd2d-ac70-48b8-bdd4-c3cf480192f8"
      },
      "source": [
        "std[0]"
      ],
      "execution_count": null,
      "outputs": [
        {
          "output_type": "execute_result",
          "data": {
            "text/plain": [
              "array([ 1.51861254, -0.5622498 ])"
            ]
          },
          "metadata": {
            "tags": []
          },
          "execution_count": 117
        }
      ]
    },
    {
      "cell_type": "markdown",
      "metadata": {
        "id": "dZctlQkV5U-Y"
      },
      "source": [
        "A Padronização tende a colocar os valores a partir da média 0 e a 1 desvio padrão. \n"
      ]
    },
    {
      "cell_type": "markdown",
      "metadata": {
        "id": "01tIyy0MtmEv"
      },
      "source": [
        "## Normalização\n",
        "\n",
        "Basicamente, a normalização coloca os dados dentro de uma escala $[0, 1]$. Apesar de não ser a única forma de normalização, utiliza-se mais frequentemente o `Min-Max scaling`, que é calculado da seguinte maneira:\n",
        "\n",
        "$$\n",
        "X_{norm} = \\frac{X - X_{min}}{X_{max} - X_{min}}\n",
        "$$"
      ]
    },
    {
      "cell_type": "code",
      "metadata": {
        "colab": {
          "base_uri": "https://localhost:8080/",
          "height": 264
        },
        "id": "xqthog2y5jIH",
        "outputId": "a7dddd9b-92fa-4bed-d5d8-c39be97848cd"
      },
      "source": [
        "# Normalização\n",
        "minmax = MinMaxScaler().fit_transform(df[['Alcohol', 'MalicAcid']])\n",
        "\n",
        "# plotar\n",
        "fig, ax = plt.subplots()\n",
        "ax.scatter('Alcohol', 'MalicAcid', c='red', s=3, label='Original', alpha=.7, data=df)\n",
        "ax.scatter(std[:,0], std[:,1], c='blue', s=3, label='Padronizado', alpha=.7)\n",
        "ax.scatter(minmax[:,0], minmax[:,1], c='green', s=3, label='Normalizado', alpha=.7)\n",
        "plt.legend(loc='upper left')\n",
        "plt.show()"
      ],
      "execution_count": null,
      "outputs": [
        {
          "output_type": "display_data",
          "data": {
            "image/png": "[encoded data removed]",
            "text/plain": [
              "<Figure size 432x288 with 1 Axes>"
            ]
          },
          "metadata": {
            "tags": [],
            "needs_background": "light"
          }
        }
      ]
    },
    {
      "cell_type": "markdown",
      "metadata": {
        "id": "rVWN04Gf5oHe"
      },
      "source": [
        "Vamos colocar na formula para comparar."
      ]
    },
    {
      "cell_type": "code",
      "metadata": {
        "colab": {
          "base_uri": "https://localhost:8080/"
        },
        "id": "n67VzQWY5vSn",
        "outputId": "39cc2973-bbe6-468c-cb76-d9da8a581b95"
      },
      "source": [
        "print('Alcohol normal for the first register is '+str((df['Alcohol'][0] - df['Alcohol'].min()) / (df['Alcohol'].max() - df['Alcohol'].min())))\n",
        "print('MalicAcid normal for the first register is '+str((df['MalicAcid'][0] - df['MalicAcid'].min()) / (df['MalicAcid'].max() - df['MalicAcid'].min())))"
      ],
      "execution_count": null,
      "outputs": [
        {
          "output_type": "stream",
          "text": [
            "Alcohol normal for the first register is 0.8421052631578949\n",
            "MalicAcid normal for the first register is 0.191699604743083\n"
          ],
          "name": "stdout"
        }
      ]
    },
    {
      "cell_type": "code",
      "metadata": {
        "colab": {
          "base_uri": "https://localhost:8080/"
        },
        "id": "CmThUzCM5r2v",
        "outputId": "c1dbba25-3beb-42b4-e0b8-e020b223252e"
      },
      "source": [
        "minmax[0]"
      ],
      "execution_count": null,
      "outputs": [
        {
          "output_type": "execute_result",
          "data": {
            "text/plain": [
              "array([0.84210526, 0.1916996 ])"
            ]
          },
          "metadata": {
            "tags": []
          },
          "execution_count": 120
        }
      ]
    },
    {
      "cell_type": "markdown",
      "metadata": {
        "id": "qflYhjmPtsK3"
      },
      "source": [
        "**Quando padronizar ou normalizar?**\n",
        "\n",
        "Não há uma resposta óbiva e única para isso. Depende muito do algoritmo, aplicação e dados que você está usando.\n",
        "\n",
        "Veja alguns exemplos:\n",
        "* A padronização é essencial na análise de clusters, uma vez que se compara a similaridade das features por meio das distâncias.\n",
        "* A padronização é mais desejável no PCA, por causa da maximização da variância.\n",
        "* As imagens RGB, com escala original entre 0 e 255, devem levar essa intensidade de pixels para valores entre 0 e 1, ou seja, preferiremos normalizar os valores.\n",
        "* Redes neurais normalmente irão esperar valores normalizados entre 0 e 1.\n",
        "* Normalização é muito mais sensível à presença de outliers."
      ]
    },
    {
      "cell_type": "markdown",
      "metadata": {
        "id": "sKflUNNv8QxO"
      },
      "source": [
        "# Referências:\n",
        "\n",
        "- https://scikit-learn.org/stable/auto_examples/preprocessing/plot_all_scaling.html\n",
        "- https://towardsdatascience.com/normalization-vs-standardization-quantitative-analysis-a91e8a79cebf\n",
        "- https://www.analyticsvidhya.com/blog/2020/04/feature-scaling-machine-learning-normalization-standardization/\n",
        "- https://sebastianraschka.com/Articles/2014_about_feature_scaling.html"
      ]
    },
    {
      "cell_type": "code",
      "metadata": {
        "id": "p11Lfcpv7_CH"
      },
      "source": [
        ""
      ],
      "execution_count": null,
      "outputs": []
    }
  ]
}