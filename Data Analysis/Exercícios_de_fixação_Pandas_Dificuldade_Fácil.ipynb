{
  "nbformat": 4,
  "nbformat_minor": 0,
  "metadata": {
    "colab": {
      "name": "Exercícios de fixação Pandas - Dificuldade: Fácil",
      "provenance": [],
      "collapsed_sections": []
    },
    "kernelspec": {
      "name": "python3",
      "display_name": "Python 3"
    }
  },
  "cells": [
    {
      "cell_type": "markdown",
      "metadata": {
        "id": "IY8lvfVOteMd"
      },
      "source": [
        "# Primeiros passos e verificando a configuração do seu pandas\r\n",
        "Dificuldade: **fácil**\r\n",
        "\r\n",
        "1. Importe pandas com o alias pd.\r\n",
        "2. Imprima a versão dos pandas que foi importada.\r\n",
        "3. Imprima todas as informações de versão das bibliotecas exigidas pela biblioteca do pandas."
      ]
    },
    {
      "cell_type": "markdown",
      "metadata": {
        "id": "4u_MD6xds7Kq"
      },
      "source": [
        "# Noções básicas do DataFrame\r\n",
        "\r\n",
        "Algumas das rotinas fundamentais para selecionar, classificar, adicionar e agregar dados em DataFrames.\r\n",
        "\r\n",
        "Dificuldade: ***fácil***\r\n",
        "\r\n",
        "Nota: lembre-se de importar numpy usando:\r\n",
        "\r\n",
        "import numpy as np\r\n",
        "\r\n",
        "Considere os seguintes dados de dicionário Python e rótulos de lista Python:\r\n",
        "\r\n",
        "data = {'animal': ['gato', 'gato', 'cobra', 'cachorro', 'cachorro', 'gato', 'cobra', 'gato', 'cachorro', 'cachorro'],\r\n",
        "        'idade': [2,5, 3, 0,5, np.nan, 5, 2, 4,5, np.nan, 7, 3],\r\n",
        "        'visitas': [1, 3, 2, 3, 2, 3, 1, 1, 2, 1],\r\n",
        "        'prioridade': ['sim', 'sim', 'não', 'sim', 'não', 'não', 'não', 'sim', 'não', 'não']}\r\n",
        "\r\n",
        "rótulos = ['a', 'b', 'c', 'd', 'e', ​​'f', 'g', 'h', 'i', 'j']\r\n",
        "\r\n",
        "\r\n",
        "(Estes são apenas alguns dados sem sentido que inventei com o tema de animais e viagens ao veterinário.)\r\n",
        "\r\n",
        "4. Crie um DataFrame df a partir desses dados de dicionário que possuem os rótulos de índice.\r\n",
        "df = # (complete esta linha de código)\r\n",
        "5. Mostre um resumo das informações básicas sobre este DataFrame e seus dados (dica: existe um único método que pode ser chamado no DataFrame).\r\n",
        "6. Retorne as 3 primeiras linhas do DataFrame df.\r\n",
        "7. Selecione apenas as colunas 'animal' e 'idade' do DataFrame df.\r\n",
        "8. Selecione os dados nas linhas [3, 4, 8] e nas colunas ['animal', 'idade'].\r\n",
        "9. Selecione apenas as linhas em que o número de visitas seja maior que 3.\r\n",
        "10. Selecione as linhas em que falta a idade, ou seja, é NaN.\r\n",
        "11. Selecione as linhas em que o animal é um gato e a idade é inferior a 3 anos.\r\n",
        "12. Selecione as linhas em que a idade está entre 2 e 4 (inclusive).\r\n",
        "13. Altere a idade na linha 'f' para 1,5.\r\n",
        "14. Calcule a soma de todas as visitas em df (ou seja, encontre o número total de visitas).\r\n",
        "15. Calcule a idade média para cada animal diferente em df.\r\n",
        "16. Anexe uma nova linha 'k' a df com sua escolha de valores para cada coluna. Em seguida, exclua essa linha para retornar o DataFrame original.\r\n",
        "17. Conte o número de cada tipo de animal em df.\r\n",
        "18. Classifique df primeiro pelos valores na 'idade' em ordem decrescente, depois pelo valor na coluna 'visitas' em ordem crescente (então a linha i deve ser a primeira e a linha d deve ser a última).\r\n",
        "19. A coluna 'prioridade' contém os valores 'sim' e 'não'. Substitua esta coluna por uma coluna de valores booleanos: 'sim' deve ser Verdadeiro e 'não' deve ser Falso.\r\n",
        "20. Na coluna 'animal', altere as entradas 'cobra' para 'python'.\r\n",
        "21. Para cada tipo de animal e cada número de visitas, encontre a idade média. Em outras palavras, cada linha é um animal, cada coluna é um número de visitas e os valores são as idades médias (dica: use uma tabela dinâmica)."
      ]
    },
    {
      "cell_type": "code",
      "metadata": {
        "id": "5cABfT69-UQo"
      },
      "source": [
        ""
      ],
      "execution_count": null,
      "outputs": []
    }
  ]
}