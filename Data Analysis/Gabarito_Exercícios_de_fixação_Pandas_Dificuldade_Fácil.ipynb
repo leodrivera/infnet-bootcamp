{
  "nbformat": 4,
  "nbformat_minor": 0,
  "metadata": {
    "colab": {
      "name": "Gabarito - Exercícios de fixação Pandas - Dificuldade: Fácil",
      "provenance": []
    },
    "kernelspec": {
      "name": "python3",
      "display_name": "Python 3"
    }
  },
  "cells": [
    {
      "cell_type": "markdown",
      "metadata": {
        "id": "CEp_IlERwN2z"
      },
      "source": [
        "1) import pandas as pd\r\n",
        "\r\n",
        "2) pd.__version__\r\n",
        "\r\n",
        "3) pd.show_versions()\r\n",
        "\r\n"
      ]
    },
    {
      "cell_type": "markdown",
      "metadata": {
        "id": "NQC1I-n0wb4i"
      },
      "source": [
        "4) import numpy as np\r\n",
        "\r\n",
        "data = {'animal': ['gato', 'gato', 'cobra', 'cachorro', 'cachorro', 'gato', 'cobra', 'gato', 'cachorro', 'cachorro'],\r\n",
        "        'idade': [2,5, 3, 0,5, np.nan, 5, 2, 4,5, np.nan, 7, 3],\r\n",
        "        'visitas': [1, 3, 2, 3, 2, 3, 1, 1, 2, 1],\r\n",
        "        'prioridade': ['sim', 'sim', 'não', 'sim', 'não', 'não', 'não', 'sim', 'não', 'não']}\r\n",
        "\r\n",
        "rótulos = ['a', 'b', 'c', 'd', 'e', ​​'f', 'g', 'h', 'i', 'j']\r\n",
        "\r\n",
        "df = pd.DataFrame(data, index=labels)\r\n",
        "\r\n",
        "5) df.info() ou df.describe()\r\n",
        "\r\n",
        "6) df.iloc[:3] ou df.head(3)\r\n",
        "\r\n",
        "7) df.loc[:, ['animal', 'age']] OU df[['animal', 'age']]\r\n",
        "\r\n",
        "8) df.loc[df.index[[3, 4, 8]], ['animal', 'age']]\r\n",
        "\r\n",
        "9) df[df['visits'] > 3]\r\n",
        "\r\n",
        "10) df[df['age'].isnull()] \r\n",
        "\r\n",
        "11) df[(df['animal'] == 'cat') & (df['age'] < 3)]\r\n",
        "\r\n",
        "12) df[df['age'].between(2, 4)]\r\n",
        "\r\n",
        "13) df.loc['f', 'age'] = 1.5\r\n",
        "\r\n",
        "14) df['visits'].sum()\r\n",
        "\r\n",
        "15) df.groupby('animal')['age'].mean()\r\n",
        "\r\n",
        "16) Appending: df.loc['k'] = [5.5, 'dog', 'no', 2]\r\n",
        "    Deleting: df = df.drop('k')\r\n",
        "\r\n",
        "17) df['animal'].value_counts()\r\n",
        "\r\n",
        "18) df.sort_values(by=['age', 'visits'], ascending=[False, True])\r\n",
        "\r\n",
        "19) df['priority'] = df['priority'].map({'sim': True, 'não': False})\r\n",
        "\r\n",
        "20) df['animal'] = df['animal'].replace('snake', 'python')\r\n",
        "\r\n",
        "21) df.pivot_table(index='animal', columns='visits', values='age', aggfunc='mean')\r\n"
      ]
    },
    {
      "cell_type": "code",
      "metadata": {
        "id": "OHwN-VX38dGa"
      },
      "source": [
        ""
      ],
      "execution_count": null,
      "outputs": []
    }
  ]
}