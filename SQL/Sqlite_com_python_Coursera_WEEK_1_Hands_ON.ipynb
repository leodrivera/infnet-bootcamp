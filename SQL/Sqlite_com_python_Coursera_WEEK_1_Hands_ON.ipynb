{
  "nbformat": 4,
  "nbformat_minor": 0,
  "metadata": {
    "colab": {
      "name": "Sqlite com python - Coursera WEEK 1 Hands ON",
      "provenance": [],
      "collapsed_sections": []
    },
    "kernelspec": {
      "name": "python3",
      "display_name": "Python 3"
    }
  },
  "cells": [
    {
      "cell_type": "markdown",
      "metadata": {
        "id": "CAAL3F65U3FZ"
      },
      "source": [
        "# Hands-on 1: Composing and Running basic SQL queries\r\n",
        "\r\n",
        "\r\n",
        "- Task 0: Drop the table INSTRUCTOR from the database in case it already exists, so that we start from a clean state.\r\n",
        "(Hint: Ignore the undefined error if this table does not already exist in your database)\r\n",
        "\r\n",
        "- Task 1: Create the INSTRUCTOR table as defined above. Have the ins_id be the primary key, and ensure the lastname and firstname are not null.\r\n",
        "(Hint: ins_id is of type INTEGER, country of type CHAR(2), and rest of the fields VARCHAR)\r\n",
        "\r\n",
        "- Task 2A: Insert one row into the INSTRUCTOR table for the the instructor Rav Ahuja.\r\n",
        "(Hint: values for the character fields require a singe quotation mark (') before and after each value)\r\n",
        "\r\n",
        "- Task 2B: Insert two rows at once in the INSTRUCTOR table for instructors Raul Chong and Hima Vasudevan.\r\n",
        "(Hint: list the values for the second row after the first row)\r\n",
        "\r\n",
        "- Task 3: Select all rows from the INSTRUCTOR table.\r\n",
        "\r\n",
        "- Task 3B: Select the firstname, lastname and country where the city is Toronto\r\n",
        "\r\n",
        "- Task 4: Update the row for Rav Ahuja and change his city to Markham.\r\n",
        "\r\n",
        "- Task 5: Delete the row for Raul Chong from the table.\r\n",
        "\r\n",
        "- Task 5B: Retrieve all rows in the INSTRUCTOR table "
      ]
    },
    {
      "cell_type": "code",
      "metadata": {
        "id": "qaDkkPnPORzD"
      },
      "source": [
        "import sqlite3"
      ],
      "execution_count": null,
      "outputs": []
    },
    {
      "cell_type": "code",
      "metadata": {
        "id": "0a0SaR6aOVq3"
      },
      "source": [
        "# conectando...\r\n",
        "conn = sqlite3.connect('coursera.db')\r\n"
      ],
      "execution_count": null,
      "outputs": []
    },
    {
      "cell_type": "code",
      "metadata": {
        "id": "JGE7KN71OfVK"
      },
      "source": [
        "# definindo um cursor\r\n",
        "cursor = conn.cursor()"
      ],
      "execution_count": null,
      "outputs": []
    },
    {
      "cell_type": "markdown",
      "metadata": {
        "id": "FvTES7WDVFOK"
      },
      "source": [
        "## Task 0"
      ]
    },
    {
      "cell_type": "code",
      "metadata": {
        "colab": {
          "base_uri": "https://localhost:8080/",
          "height": 266
        },
        "id": "_uD0v1INVEWK",
        "outputId": "b45379c4-e756-4a6c-9c94-301d14dacd0a"
      },
      "source": [
        "cursor.execute(\"\"\"\r\n",
        "drop table INSTRUCTOR\r\n",
        ";\r\n",
        "\"\"\")"
      ],
      "execution_count": null,
      "outputs": [
        {
          "output_type": "stream",
          "text": [
            "ERROR:root:An unexpected error occurred while tokenizing input\n",
            "The following traceback may be corrupted or invalid\n",
            "The error message is: ('EOF in multi-line string', (1, 0))\n",
            "\n"
          ],
          "name": "stderr"
        },
        {
          "output_type": "error",
          "ename": "OperationalError",
          "evalue": "ignored",
          "traceback": [
            "\u001b[0;31m---------------------------------------------------------------------------\u001b[0m",
            "\u001b[0;31mOperationalError\u001b[0m                          Traceback (most recent call last)",
            "\u001b[0;32m<ipython-input-77-1a6a148ed8b1>\u001b[0m in \u001b[0;36m<module>\u001b[0;34m()\u001b[0m\n\u001b[1;32m      2\u001b[0m \u001b[0mdrop\u001b[0m \u001b[0mtable\u001b[0m \u001b[0mINSTRUCTOR\u001b[0m\u001b[0;34m\u001b[0m\u001b[0;34m\u001b[0m\u001b[0m\n\u001b[1;32m      3\u001b[0m \u001b[0;34m;\u001b[0m\u001b[0;34m\u001b[0m\u001b[0;34m\u001b[0m\u001b[0m\n\u001b[0;32m----> 4\u001b[0;31m \"\"\")\n\u001b[0m",
            "\u001b[0;31mOperationalError\u001b[0m: no such table: INSTRUCTOR"
          ]
        }
      ]
    },
    {
      "cell_type": "code",
      "metadata": {
        "colab": {
          "base_uri": "https://localhost:8080/"
        },
        "id": "54BTNa4BcsFr",
        "outputId": "7942dca8-8545-483f-87ab-ce53ec9f515b"
      },
      "source": [
        "cursor.execute(\"\"\"\r\n",
        "drop table IF EXISTS INSTRUCTOR\r\n",
        ";\r\n",
        "\"\"\")"
      ],
      "execution_count": null,
      "outputs": [
        {
          "output_type": "execute_result",
          "data": {
            "text/plain": [
              "<sqlite3.Cursor at 0x7f4518d18960>"
            ]
          },
          "metadata": {
            "tags": []
          },
          "execution_count": 78
        }
      ]
    },
    {
      "cell_type": "markdown",
      "metadata": {
        "id": "psTwOLZxXErM"
      },
      "source": [
        "Seguindo as recomendações do exercicio, iremos ignorar o erro seguir para a proxima etapa."
      ]
    },
    {
      "cell_type": "markdown",
      "metadata": {
        "id": "3Je4uOaVXKyr"
      },
      "source": [
        "## Task 1:"
      ]
    },
    {
      "cell_type": "code",
      "metadata": {
        "colab": {
          "base_uri": "https://localhost:8080/"
        },
        "id": "Pe0HCyjeVBoD",
        "outputId": "44608d10-54d5-4eff-b3b6-c091a5bd4ca4"
      },
      "source": [
        "# criando a tabela\r\n",
        "cursor.execute(\"\"\"\r\n",
        "CREATE TABLE  INSTRUCTOR\r\n",
        "  (ins_id INTEGER PRIMARY KEY NOT NULL, \r\n",
        "   lastname VARCHAR(15) NOT NULL, \r\n",
        "   firstname VARCHAR(15) NOT NULL, \r\n",
        "   city VARCHAR(15), \r\n",
        "   country CHAR(2)\r\n",
        "  )\r\n",
        ";\r\n",
        "\"\"\")\r\n",
        "\r\n",
        "print('Tabela criada com sucesso.')\r\n"
      ],
      "execution_count": null,
      "outputs": [
        {
          "output_type": "stream",
          "text": [
            "Tabela criada com sucesso.\n"
          ],
          "name": "stdout"
        }
      ]
    },
    {
      "cell_type": "markdown",
      "metadata": {
        "id": "t6PPSUFQXij1"
      },
      "source": [
        "## Task 2A:"
      ]
    },
    {
      "cell_type": "code",
      "metadata": {
        "colab": {
          "base_uri": "https://localhost:8080/"
        },
        "id": "aVE-oaWeOxO3",
        "outputId": "450a406c-0ca2-48f0-c88c-d35f25f91a44"
      },
      "source": [
        "cursor.execute(\"\"\"\r\n",
        "INSERT INTO INSTRUCTOR\r\n",
        "  (ins_id, lastname, firstname, city, country)\r\n",
        "  VALUES \r\n",
        "  (1, 'Ahuja', 'Rav', 'Toronto', 'CA')\r\n",
        ";\r\n",
        "\"\"\")\r\n",
        "\r\n",
        "\r\n",
        "print('Dados inseridos com sucesso')"
      ],
      "execution_count": null,
      "outputs": [
        {
          "output_type": "stream",
          "text": [
            "Dados inseridos com sucesso\n"
          ],
          "name": "stdout"
        }
      ]
    },
    {
      "cell_type": "markdown",
      "metadata": {
        "id": "KqBRkc31XpvM"
      },
      "source": [
        "## Task 2B:"
      ]
    },
    {
      "cell_type": "code",
      "metadata": {
        "colab": {
          "base_uri": "https://localhost:8080/"
        },
        "id": "sfDatp50O5-i",
        "outputId": "965c2cc4-d15b-4b21-8078-ebee9e92f338"
      },
      "source": [
        "cursor.execute(\"\"\"\r\n",
        "INSERT INTO INSTRUCTOR\r\n",
        "  VALUES\r\n",
        "  (2, 'Chong', 'Raul', 'Toronto', 'CA'),\r\n",
        "  (3, 'Vasudevan', 'Hima', 'Chicago', 'US')\r\n",
        ";\r\n",
        "\"\"\")\r\n",
        "\r\n",
        "\r\n",
        "print('Dados inseridos com sucesso')"
      ],
      "execution_count": null,
      "outputs": [
        {
          "output_type": "stream",
          "text": [
            "Dados inseridos com sucesso\n"
          ],
          "name": "stdout"
        }
      ]
    },
    {
      "cell_type": "markdown",
      "metadata": {
        "id": "zCYKbmeuYgpD"
      },
      "source": [
        "## Task 3:"
      ]
    },
    {
      "cell_type": "code",
      "metadata": {
        "colab": {
          "base_uri": "https://localhost:8080/"
        },
        "id": "R3KZY0tGO_HW",
        "outputId": "899e4708-5b90-4a44-cbd4-1697e8f9b7c4"
      },
      "source": [
        "cursor.execute(\"\"\"\r\n",
        "SELECT * FROM INSTRUCTOR\r\n",
        ";\r\n",
        "\"\"\")\r\n",
        "\r\n",
        "cursor.fetchall()"
      ],
      "execution_count": null,
      "outputs": [
        {
          "output_type": "execute_result",
          "data": {
            "text/plain": [
              "[(1, 'Ahuja', 'Rav', 'Toronto', 'CA'),\n",
              " (2, 'Chong', 'Raul', 'Toronto', 'CA'),\n",
              " (3, 'Vasudevan', 'Hima', 'Chicago', 'US')]"
            ]
          },
          "metadata": {
            "tags": []
          },
          "execution_count": 82
        }
      ]
    },
    {
      "cell_type": "markdown",
      "metadata": {
        "id": "1cnVsDYhYj-z"
      },
      "source": [
        "## Task 3B:"
      ]
    },
    {
      "cell_type": "code",
      "metadata": {
        "colab": {
          "base_uri": "https://localhost:8080/"
        },
        "id": "B7WC2daaPU50",
        "outputId": "98605bf5-126c-4102-ab21-2a79839166d2"
      },
      "source": [
        "cursor.execute(\"\"\"\r\n",
        "SELECT firstname, lastname, country from INSTRUCTOR where city='Toronto'\r\n",
        ";\r\n",
        "\"\"\")\r\n",
        "\r\n",
        "\r\n",
        "cursor.fetchall()"
      ],
      "execution_count": null,
      "outputs": [
        {
          "output_type": "execute_result",
          "data": {
            "text/plain": [
              "[]"
            ]
          },
          "metadata": {
            "tags": []
          },
          "execution_count": 67
        }
      ]
    },
    {
      "cell_type": "markdown",
      "metadata": {
        "id": "-WHnllDLYnQ8"
      },
      "source": [
        "## Task 4:"
      ]
    },
    {
      "cell_type": "code",
      "metadata": {
        "colab": {
          "base_uri": "https://localhost:8080/"
        },
        "id": "1JAQhb6uQDzP",
        "outputId": "07660822-7444-4559-d24b-0786c23c2beb"
      },
      "source": [
        "cursor.execute(\"\"\"\r\n",
        "UPDATE INSTRUCTOR SET city='Markham' where ins_id=1\r\n",
        ";\r\n",
        "\"\"\")\r\n",
        "\r\n",
        "# commitando alterações\r\n",
        "conn.commit()\r\n",
        "\r\n",
        "print('Dados atualizados com sucesso.')"
      ],
      "execution_count": null,
      "outputs": [
        {
          "output_type": "stream",
          "text": [
            "Dados atualizados com sucesso.\n"
          ],
          "name": "stdout"
        }
      ]
    },
    {
      "cell_type": "markdown",
      "metadata": {
        "id": "9ymt31jWYo4s"
      },
      "source": [
        "## Task 5:"
      ]
    },
    {
      "cell_type": "code",
      "metadata": {
        "colab": {
          "base_uri": "https://localhost:8080/"
        },
        "id": "KUibmfc0QJkm",
        "outputId": "52a11059-983d-4adb-f17c-a6b7c48ad769"
      },
      "source": [
        "cursor.execute(\"\"\"\r\n",
        "DELETE FROM INSTRUCTOR where ins_id=2\r\n",
        ";\r\n",
        "\"\"\")\r\n",
        "\r\n",
        "# commitando alterações\r\n",
        "conn.commit()\r\n",
        "\r\n",
        "print('Registro excluido com sucesso.')"
      ],
      "execution_count": null,
      "outputs": [
        {
          "output_type": "stream",
          "text": [
            "Registro excluido com sucesso.\n"
          ],
          "name": "stdout"
        }
      ]
    },
    {
      "cell_type": "markdown",
      "metadata": {
        "id": "1Jie5QiLYrPF"
      },
      "source": [
        "## Task 5B:"
      ]
    },
    {
      "cell_type": "code",
      "metadata": {
        "colab": {
          "base_uri": "https://localhost:8080/"
        },
        "id": "iYcS3KYqQLef",
        "outputId": "1e80e862-39e1-4f68-a438-6ecbb693fb5b"
      },
      "source": [
        "cursor.execute(\"\"\"\r\n",
        "SELECT * FROM INSTRUCTOR\r\n",
        ";\r\n",
        "\"\"\")\r\n",
        "\r\n",
        "cursor.fetchall()"
      ],
      "execution_count": null,
      "outputs": [
        {
          "output_type": "execute_result",
          "data": {
            "text/plain": [
              "[(1, 'Ahuja', 'Rav', 'Markham', 'CA'),\n",
              " (3, 'Vasudevan', 'Hima', 'Chicago', 'US')]"
            ]
          },
          "metadata": {
            "tags": []
          },
          "execution_count": 91
        }
      ]
    },
    {
      "cell_type": "code",
      "metadata": {
        "id": "gQEOVgfVUUjz"
      },
      "source": [
        "conn.close()"
      ],
      "execution_count": null,
      "outputs": []
    }
  ]
}