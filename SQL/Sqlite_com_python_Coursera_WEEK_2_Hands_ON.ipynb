{
  "nbformat": 4,
  "nbformat_minor": 0,
  "metadata": {
    "colab": {
      "name": "Sqlite com python - Coursera WEEK 2 Hands ON",
      "provenance": [],
      "collapsed_sections": []
    },
    "kernelspec": {
      "display_name": "Python 3",
      "name": "python3"
    }
  },
  "cells": [
    {
      "cell_type": "markdown",
      "metadata": {
        "id": "CAAL3F65U3FZ"
      },
      "source": [
        "# Hands-on 2: String Patterns, Sorting & Grouping\r\n",
        "\r\n",
        "Follow the instructions in [here](https://d3c33hcgiwev3.cloudfront.net/8Pz9EjZZT8O8_RI2WZ_DSg_207c96a4a1aa4243bede99404b9a85f7_Week2Lab1v5.pdf?Expires=1614211200&Signature=fMlsT0y4W4XUKTmYiViJcRCylVfx-20TxlNIr~2ZDiQ74~BuuIvI3KtqGb1G0G5R2s-HLdnYPbY2JicHwajX2P5~eMe8JngJuLFoL8HBZieDghjygSpIad1De1Nf-eJoBHN5a8976DnrggAmc6KVB7WtPd0qPb7~8o3lWdKw00U_&Key-Pair-Id=APKAJLTNE6QMUY6HBC5A)\r\n",
        "\r\n",
        "\r\n",
        "HR Database\r\n",
        "We will be working on a sample HR database for this Lab. \r\n",
        "\r\n",
        "This HR database schema consists of 5 tables called EMPLOYEES, JOB_HISTORY, JOBS, DEPARTMENTS and LOCATIONS. \r\n",
        "\r\n",
        "Each table has a few rows of sample data.\r\n",
        "\r\n"
      ]
    },
    {
      "cell_type": "markdown",
      "metadata": {
        "id": "XHteAUbkccWm"
      },
      "source": [
        "# Part I: CREATING TABLES"
      ]
    },
    {
      "cell_type": "code",
      "metadata": {
        "id": "qaDkkPnPORzD"
      },
      "source": [
        "import sqlite3\r\n",
        "import csv "
      ],
      "execution_count": null,
      "outputs": []
    },
    {
      "cell_type": "code",
      "metadata": {
        "id": "0a0SaR6aOVq3"
      },
      "source": [
        "# conectando...\r\n",
        "conn = sqlite3.connect('hr.db')"
      ],
      "execution_count": null,
      "outputs": []
    },
    {
      "cell_type": "code",
      "metadata": {
        "id": "JGE7KN71OfVK"
      },
      "source": [
        "# definindo um cursor\r\n",
        "cursor = conn.cursor()"
      ],
      "execution_count": null,
      "outputs": []
    },
    {
      "cell_type": "markdown",
      "metadata": {
        "id": "FvTES7WDVFOK"
      },
      "source": [
        "## Reading the script_Create_tables.sql for create the tables"
      ]
    },
    {
      "cell_type": "code",
      "metadata": {
        "id": "_uD0v1INVEWK"
      },
      "source": [
        "# Open and read the file as a single buffer\r\n",
        "fd = open('/content/Script_Create_Tables.sql', 'r')\r\n",
        "sqlFile = fd.read()\r\n",
        "fd.close()"
      ],
      "execution_count": null,
      "outputs": []
    },
    {
      "cell_type": "code",
      "metadata": {
        "colab": {
          "base_uri": "https://localhost:8080/"
        },
        "id": "wu82UZm5d4o0",
        "outputId": "d8d38b44-9b3d-4eb8-8e93-38d9aeb5115b"
      },
      "source": [
        "cursor.executescript(sqlFile)\r\n",
        "\r\n",
        "print('Tabelas criadas com sucesso.')\r\n",
        "\r\n"
      ],
      "execution_count": null,
      "outputs": [
        {
          "output_type": "stream",
          "text": [
            "Tabelas criadas com sucesso.\n"
          ],
          "name": "stdout"
        }
      ]
    },
    {
      "cell_type": "markdown",
      "metadata": {
        "id": "u87ZM1KsrQ3o"
      },
      "source": [
        "# Part II: LOADING DATA"
      ]
    },
    {
      "cell_type": "markdown",
      "metadata": {
        "id": "fgK6dwX1e3yt"
      },
      "source": [
        "# Inserting databases into tables"
      ]
    },
    {
      "cell_type": "markdown",
      "metadata": {
        "id": "MwAW8091hiJW"
      },
      "source": [
        "## Insert into EMPLOYEEES\r\n",
        "\r\n"
      ]
    },
    {
      "cell_type": "code",
      "metadata": {
        "id": "VJaLHm4LdcL1",
        "colab": {
          "base_uri": "https://localhost:8080/"
        },
        "outputId": "9e34bb7b-523c-4fbb-c43a-6bc518ce46c1"
      },
      "source": [
        "employees = open(\"/content/Employees.csv\")\r\n",
        "employees_rows = csv.reader(employees)\r\n",
        "cursor.executemany(\"INSERT INTO EMPLOYEES VALUES (?, ?, ?, ?, ?, ?, ?, ?, ?, ?, ?)\", employees_rows)"
      ],
      "execution_count": null,
      "outputs": [
        {
          "output_type": "execute_result",
          "data": {
            "text/plain": [
              "<sqlite3.Cursor at 0x7f28c731ec00>"
            ]
          },
          "metadata": {
            "tags": []
          },
          "execution_count": 121
        }
      ]
    },
    {
      "cell_type": "code",
      "metadata": {
        "colab": {
          "base_uri": "https://localhost:8080/"
        },
        "id": "23qh56rafeGt",
        "outputId": "8525923f-8d75-4393-9724-d7689105bd1c"
      },
      "source": [
        "cursor.execute(\"SELECT * FROM EMPLOYEES\")\r\n",
        "\r\n",
        "for linha in cursor.fetchall():\r\n",
        "  print(linha)"
      ],
      "execution_count": null,
      "outputs": [
        {
          "output_type": "stream",
          "text": [
            "('E1001', 'John', 'Thomas', '123456', '01/09/1976', 'M', '5631 Rice, OakPark,IL', '100', 100000, '30001', '2')\n",
            "('E1002', 'Alice', 'James', '123457', '07/31/1972', 'F', '980 Berry ln, Elgin,IL', '200', 80000, '30002', '5')\n",
            "('E1003', 'Steve', 'Wells', '123458', '08/10/1980', 'M', '291 Springs, Gary,IL', '300', 50000, '30002', '5')\n",
            "('E1004', 'Santosh', 'Kumar', '123459', '07/20/1985', 'M', '511 Aurora Av, Aurora,IL', '400', 60000, '30004', '5')\n",
            "('E1005', 'Ahmed', 'Hussain', '123410', '01/04/1981', 'M', '216 Oak Tree, Geneva,IL', '500', 70000, '30001', '2')\n",
            "('E1006', 'Nancy', 'Allen', '123411', '02/06/1978', 'F', '111 Green Pl, Elgin,IL', '600', 90000, '30001', '2')\n",
            "('E1007', 'Mary', 'Thomas', '123412', '05/05/1975', 'F', '100 Rose Pl, Gary,IL', '650', 65000, '30003', '7')\n",
            "('E1008', 'Bharath', 'Gupta', '123413', '05/06/1985', 'M', '145 Berry Ln, Naperville,IL', '660', 65000, '30003', '7')\n",
            "('E1009', 'Andrea', 'Jones', '123414', '07/09/1990', 'F', '120 Fall Creek, Gary,IL', '234', 70000, '30003', '7')\n",
            "('E1010', 'Ann', 'Jacob', '123415', '03/30/1982', 'F', '111 Britany Springs,Elgin,IL', '220', 70000, '30004', '5')\n"
          ],
          "name": "stdout"
        }
      ]
    },
    {
      "cell_type": "markdown",
      "metadata": {
        "id": "1zR-Lci6h75V"
      },
      "source": [
        "## Insert into JOB_HISTORY"
      ]
    },
    {
      "cell_type": "code",
      "metadata": {
        "colab": {
          "base_uri": "https://localhost:8080/"
        },
        "id": "iT6u6yOaiClg",
        "outputId": "d5dfcb34-b3c8-4606-b699-edeb0d8c27f8"
      },
      "source": [
        "jobsHistory = open(\"/content/JobsHistory.csv\")\r\n",
        "jobsHistory_rows = csv.reader(jobsHistory)\r\n",
        "cursor.executemany(\"INSERT INTO JOB_HISTORY VALUES (?, ?, ?, ?)\", jobsHistory_rows)"
      ],
      "execution_count": null,
      "outputs": [
        {
          "output_type": "execute_result",
          "data": {
            "text/plain": [
              "<sqlite3.Cursor at 0x7f28c731ec00>"
            ]
          },
          "metadata": {
            "tags": []
          },
          "execution_count": 123
        }
      ]
    },
    {
      "cell_type": "code",
      "metadata": {
        "colab": {
          "base_uri": "https://localhost:8080/"
        },
        "id": "T8ntk99_iDM4",
        "outputId": "d6f81f84-7223-4181-8d5a-9f8e95f7ef47"
      },
      "source": [
        "cursor.execute(\"SELECT * FROM JOB_HISTORY\")\r\n",
        "\r\n",
        "for linha in cursor.fetchall():\r\n",
        "  print(linha)"
      ],
      "execution_count": null,
      "outputs": [
        {
          "output_type": "stream",
          "text": [
            "('E1001', '08/01/2000', '100', '2')\n",
            "('E1002', '08/01/2001', '200', '5')\n",
            "('E1003', '08/16/2001', '300', '5')\n",
            "('E1004', '08/16/2000', '400', '5')\n",
            "('E1005', '05/30/2000', '500', '2')\n",
            "('E1006', '08/16/2001', '600', '2')\n",
            "('E1007', '05/30/2002', '650', '7')\n",
            "('E1008', '05/06/2010', '660', '7')\n",
            "('E1009', '08/16/2016', '234', '7')\n",
            "('E1010', '08/16/2016', '220', '5')\n"
          ],
          "name": "stdout"
        }
      ]
    },
    {
      "cell_type": "markdown",
      "metadata": {
        "id": "3Je4uOaVXKyr"
      },
      "source": [
        "## Insert into JOBS"
      ]
    },
    {
      "cell_type": "code",
      "metadata": {
        "colab": {
          "base_uri": "https://localhost:8080/"
        },
        "id": "osNl9ZkFiZnQ",
        "outputId": "bd421662-2e52-46fe-ff7f-cd6245465303"
      },
      "source": [
        "jobs = open(\"/content/Jobs.csv\")\r\n",
        "jobs_rows = csv.reader(jobs)\r\n",
        "cursor.executemany(\"INSERT INTO JOBS VALUES (?, ?, ?, ?)\", jobs_rows)"
      ],
      "execution_count": null,
      "outputs": [
        {
          "output_type": "execute_result",
          "data": {
            "text/plain": [
              "<sqlite3.Cursor at 0x7f28c731ec00>"
            ]
          },
          "metadata": {
            "tags": []
          },
          "execution_count": 125
        }
      ]
    },
    {
      "cell_type": "code",
      "metadata": {
        "colab": {
          "base_uri": "https://localhost:8080/"
        },
        "id": "xjMVMkFXih02",
        "outputId": "5c041c7b-9bb6-4f15-be10-e99bc8a514c2"
      },
      "source": [
        "cursor.execute(\"SELECT * FROM JOBS\")\r\n",
        "\r\n",
        "for linha in cursor.fetchall():\r\n",
        "  print(linha)"
      ],
      "execution_count": null,
      "outputs": [
        {
          "output_type": "stream",
          "text": [
            "('100', 'Sr. Architect', 60000, 100000)\n",
            "('200', 'Sr. Software Developer', 60000, 80000)\n",
            "('300', 'Jr.Software Developer', 40000, 60000)\n",
            "('400', 'Jr.Software Developer', 40000, 60000)\n",
            "('500', 'Jr. Architect', 50000, 70000)\n",
            "('600', 'Lead Architect', 70000, 100000)\n",
            "('650', 'Jr. Designer', 60000, 70000)\n",
            "('660', 'Jr. Designer', 60000, 70000)\n",
            "('234', 'Sr. Designer', 70000, 90000)\n",
            "('220', 'Sr. Designer', 70000, 90000)\n"
          ],
          "name": "stdout"
        }
      ]
    },
    {
      "cell_type": "markdown",
      "metadata": {
        "id": "b4zn3Ed_is3F"
      },
      "source": [
        "## Insert into DEPARTMENTS"
      ]
    },
    {
      "cell_type": "code",
      "metadata": {
        "id": "zwtHIofiilTD"
      },
      "source": [
        "departments = open(\"/content/Departments.csv\")\r\n",
        "departments_rows = csv.reader(departments)\r\n",
        "\r\n",
        "# Precisei fazer isso para desconsiderar o valor de chave duplicada.\r\n",
        "try:\r\n",
        "    cursor.executemany(\"INSERT INTO DEPARTMENTS VALUES (?, ?, ?, ?)\", departments_rows)\r\n",
        "except sqlite3.Error:\r\n",
        "    pass\r\n"
      ],
      "execution_count": null,
      "outputs": []
    },
    {
      "cell_type": "code",
      "metadata": {
        "colab": {
          "base_uri": "https://localhost:8080/"
        },
        "id": "PLfDtce_ivZO",
        "outputId": "5deeed58-85f0-4d53-c29b-f8a315f821f9"
      },
      "source": [
        "cursor.execute(\"SELECT * FROM DEPARTMENTS\")\r\n",
        "\r\n",
        "for linha in cursor.fetchall():\r\n",
        "  print(linha)"
      ],
      "execution_count": null,
      "outputs": [
        {
          "output_type": "stream",
          "text": [
            "('2', 'Architect Group', '30001', 'L0001')\n",
            "('5', 'Software Group', '30002', 'L0002')\n",
            "('7', 'Design Team', '30003', 'L0003')\n"
          ],
          "name": "stdout"
        }
      ]
    },
    {
      "cell_type": "markdown",
      "metadata": {
        "id": "s-WCdu-LkV0-"
      },
      "source": [
        "## Insert into LOCATIONS"
      ]
    },
    {
      "cell_type": "code",
      "metadata": {
        "colab": {
          "base_uri": "https://localhost:8080/"
        },
        "id": "Jg-6eKkqkVTZ",
        "outputId": "a79fb2de-0f8e-47e4-8eba-76e4d0f69dc9"
      },
      "source": [
        "locations = open(\"/content/Locations.csv\")\r\n",
        "locations_rows = csv.reader(locations)\r\n",
        "cursor.executemany(\"INSERT INTO LOCATIONS VALUES (?, ?)\", locations_rows)"
      ],
      "execution_count": null,
      "outputs": [
        {
          "output_type": "execute_result",
          "data": {
            "text/plain": [
              "<sqlite3.Cursor at 0x7f28c731ec00>"
            ]
          },
          "metadata": {
            "tags": []
          },
          "execution_count": 129
        }
      ]
    },
    {
      "cell_type": "code",
      "metadata": {
        "colab": {
          "base_uri": "https://localhost:8080/"
        },
        "id": "mQ-1bzuMtCxB",
        "outputId": "5aebf0ca-70e2-4596-d6f2-eb56ba75b38d"
      },
      "source": [
        "cursor.execute(\"SELECT * FROM LOCATIONS\")\r\n",
        "\r\n",
        "for linha in cursor.fetchall():\r\n",
        "  print(linha)"
      ],
      "execution_count": null,
      "outputs": [
        {
          "output_type": "stream",
          "text": [
            "('L0001', '2')\n",
            "('L0002', '5')\n",
            "('L0003', '7')\n"
          ],
          "name": "stdout"
        }
      ]
    },
    {
      "cell_type": "markdown",
      "metadata": {
        "id": "Qm-PUtofrapn"
      },
      "source": [
        "# Part III: COMPOSING AND RUNNING QUERIES\r\n"
      ]
    },
    {
      "cell_type": "markdown",
      "metadata": {
        "id": "CI55KJsLrjB5"
      },
      "source": [
        "- Query 1: Retrieve all employees whose address is in Elgin,IL\r\n",
        "[Hint: Use the LIKE operator to find similar strings]\r\n",
        "- Query 2: Retrieve all employees who were born during the 1970's.\r\n",
        "[Hint: Use the LIKE operator to find similar strings]\r\n",
        "- Query 3: Retrieve all employees in department 5 whose salary is between 60000 and 70000 .\r\n",
        "[Hint: Use the keyword BETWEEN for this query ]\r\n",
        "- Query 4A: Retrieve a list of employees ordered by department ID.\r\n",
        "[Hint: Use the ORDER BY clause for this query]\r\n",
        "- Query 4B: Retrieve a list of employees ordered in descending order by department ID and within each department ordered alphabetically in descending order by last name.\r\n",
        "- Query 5A: For each department ID retrieve the number of employees in the department.\r\n",
        "[Hint: Use COUNT(*) to retrieve the total count of a column, and then GROUP BY]\r\n",
        "- Query 5B: For each department retrieve the number of employees in the department, and the average employees salary in the department.\r\n",
        "[Hint: Use COUNT(*) to retrieve the total count of a column, and AVG() function to compute average salaries, and then group]\r\n",
        "- Query 5C: Label the computed columns in the result set of Query 5B as “NUM_EMPLOYEES” and “AVG_SALARY”.\r\n",
        "[Hint: Use AS “LABEL_NAME” after the column name]\r\n",
        "- Query 5D: In Query 5C order the result set by Average Salary.\r\n",
        "[Hint: Use ORDER BY after the GROUP BY]\r\n",
        "- Query 5E: In Query 5D limit the result to departments with fewer than 4 employees.\r\n",
        "[Hint: Use HAVING after the GROUP BY, and use the count() function in the HAVING clause instead of the column label. Note: WHERE clause is used for filtering the entire result set whereas the HAVING clause is used for filtering the result of the grouping]\r\n",
        "\r\n",
        "\r\n",
        "\r\n",
        "- BONUS Query 6: Similar to 4B but instead of department ID use department name. Retrieve a list of employees ordered by department name, and within each department ordered alphabetically in descending order by last name.\r\n",
        "[Hint: Department name is in the DEPARTMENTS table. So your query will need to retrieve data from more than one table. Don’t worry if you are not able to figure this one out … we’ll cover working with multiple tables in the next lesson.] "
      ]
    },
    {
      "cell_type": "markdown",
      "metadata": {
        "id": "pPqiiO1ysKj6"
      },
      "source": [
        "## Query 1"
      ]
    },
    {
      "cell_type": "code",
      "metadata": {
        "colab": {
          "base_uri": "https://localhost:8080/"
        },
        "id": "kXkNsWZWrbdG",
        "outputId": "d1013f9f-7a8e-412c-e7a2-3e8898bff6ba"
      },
      "source": [
        "cursor.execute(\"\"\"\r\n",
        "select *\r\n",
        "from EMPLOYEES\r\n",
        "where ADDRESS LIKE '%Elgin,IL%' ;\r\n",
        "\"\"\")\r\n",
        "\r\n",
        "for linha in cursor.fetchall():\r\n",
        "  print(linha)"
      ],
      "execution_count": null,
      "outputs": [
        {
          "output_type": "stream",
          "text": [
            "('E1002', 'Alice', 'James', '123457', '07/31/1972', 'F', '980 Berry ln, Elgin,IL', '200', 80000, '30002', '5')\n",
            "('E1006', 'Nancy', 'Allen', '123411', '02/06/1978', 'F', '111 Green Pl, Elgin,IL', '600', 90000, '30001', '2')\n",
            "('E1010', 'Ann', 'Jacob', '123415', '03/30/1982', 'F', '111 Britany Springs,Elgin,IL', '220', 70000, '30004', '5')\n"
          ],
          "name": "stdout"
        }
      ]
    },
    {
      "cell_type": "markdown",
      "metadata": {
        "id": "-X4sbcA2tWr4"
      },
      "source": [
        "## Query 2"
      ]
    },
    {
      "cell_type": "code",
      "metadata": {
        "id": "8jXChR-bsc9J",
        "colab": {
          "base_uri": "https://localhost:8080/"
        },
        "outputId": "4cd6c07a-341b-40cc-f547-ccf9b52d9096"
      },
      "source": [
        "cursor.execute(\"\"\"\r\n",
        "select *\r\n",
        "from EMPLOYEES\r\n",
        "where B_DATE LIKE '%197%'\r\n",
        "\"\"\")\r\n",
        "\r\n",
        "for linha in cursor.fetchall():\r\n",
        "  print(linha)\r\n",
        "\r\n"
      ],
      "execution_count": null,
      "outputs": [
        {
          "output_type": "stream",
          "text": [
            "('E1001', 'John', 'Thomas', '123456', '01/09/1976', 'M', '5631 Rice, OakPark,IL', '100', 100000, '30001', '2')\n",
            "('E1002', 'Alice', 'James', '123457', '07/31/1972', 'F', '980 Berry ln, Elgin,IL', '200', 80000, '30002', '5')\n",
            "('E1006', 'Nancy', 'Allen', '123411', '02/06/1978', 'F', '111 Green Pl, Elgin,IL', '600', 90000, '30001', '2')\n",
            "('E1007', 'Mary', 'Thomas', '123412', '05/05/1975', 'F', '100 Rose Pl, Gary,IL', '650', 65000, '30003', '7')\n"
          ],
          "name": "stdout"
        }
      ]
    },
    {
      "cell_type": "markdown",
      "metadata": {
        "id": "UKZ2bLaWuNXi"
      },
      "source": [
        "## Query 3"
      ]
    },
    {
      "cell_type": "code",
      "metadata": {
        "colab": {
          "base_uri": "https://localhost:8080/"
        },
        "id": "2oksL2iNtdKM",
        "outputId": "e9b72c19-3dee-499e-ddc3-2ee22289058a"
      },
      "source": [
        "cursor.execute(\"\"\"\r\n",
        "select *\r\n",
        "from EMPLOYEES\r\n",
        "where (SALARY BETWEEN 60000 and 70000)  \r\n",
        "and DEP_ID = 5 ;\r\n",
        "\"\"\")\r\n",
        "\r\n",
        "for linha in cursor.fetchall():\r\n",
        "  print(linha)"
      ],
      "execution_count": null,
      "outputs": [
        {
          "output_type": "stream",
          "text": [
            "('E1004', 'Santosh', 'Kumar', '123459', '07/20/1985', 'M', '511 Aurora Av, Aurora,IL', '400', 60000, '30004', '5')\n",
            "('E1010', 'Ann', 'Jacob', '123415', '03/30/1982', 'F', '111 Britany Springs,Elgin,IL', '220', 70000, '30004', '5')\n"
          ],
          "name": "stdout"
        }
      ]
    },
    {
      "cell_type": "markdown",
      "metadata": {
        "id": "ue2E6wjAudL6"
      },
      "source": [
        "## Query 4A\r\n"
      ]
    },
    {
      "cell_type": "code",
      "metadata": {
        "colab": {
          "base_uri": "https://localhost:8080/"
        },
        "id": "Rt1gnC6BudMA",
        "outputId": "b5765e6b-3ced-4c2c-90eb-9ecb57275fe0"
      },
      "source": [
        "cursor.execute(\"\"\"\r\n",
        "select *\r\n",
        "from EMPLOYEES\r\n",
        "order by DEP_ID\r\n",
        "\"\"\")\r\n",
        "\r\n",
        "for linha in cursor.fetchall():\r\n",
        "  print(linha)"
      ],
      "execution_count": null,
      "outputs": [
        {
          "output_type": "stream",
          "text": [
            "('E1001', 'John', 'Thomas', '123456', '01/09/1976', 'M', '5631 Rice, OakPark,IL', '100', 100000, '30001', '2')\n",
            "('E1005', 'Ahmed', 'Hussain', '123410', '01/04/1981', 'M', '216 Oak Tree, Geneva,IL', '500', 70000, '30001', '2')\n",
            "('E1006', 'Nancy', 'Allen', '123411', '02/06/1978', 'F', '111 Green Pl, Elgin,IL', '600', 90000, '30001', '2')\n",
            "('E1002', 'Alice', 'James', '123457', '07/31/1972', 'F', '980 Berry ln, Elgin,IL', '200', 80000, '30002', '5')\n",
            "('E1003', 'Steve', 'Wells', '123458', '08/10/1980', 'M', '291 Springs, Gary,IL', '300', 50000, '30002', '5')\n",
            "('E1004', 'Santosh', 'Kumar', '123459', '07/20/1985', 'M', '511 Aurora Av, Aurora,IL', '400', 60000, '30004', '5')\n",
            "('E1010', 'Ann', 'Jacob', '123415', '03/30/1982', 'F', '111 Britany Springs,Elgin,IL', '220', 70000, '30004', '5')\n",
            "('E1007', 'Mary', 'Thomas', '123412', '05/05/1975', 'F', '100 Rose Pl, Gary,IL', '650', 65000, '30003', '7')\n",
            "('E1008', 'Bharath', 'Gupta', '123413', '05/06/1985', 'M', '145 Berry Ln, Naperville,IL', '660', 65000, '30003', '7')\n",
            "('E1009', 'Andrea', 'Jones', '123414', '07/09/1990', 'F', '120 Fall Creek, Gary,IL', '234', 70000, '30003', '7')\n"
          ],
          "name": "stdout"
        }
      ]
    },
    {
      "cell_type": "markdown",
      "metadata": {
        "id": "mFiPjfEcuizv"
      },
      "source": [
        "## Query 4B\r\n"
      ]
    },
    {
      "cell_type": "code",
      "metadata": {
        "colab": {
          "base_uri": "https://localhost:8080/"
        },
        "id": "Dmm-OlOUuizv",
        "outputId": "c1ff8f00-3ded-4dac-b930-9b97d4434ec1"
      },
      "source": [
        "cursor.execute(\"\"\"\r\n",
        "select *\r\n",
        "from EMPLOYEES\r\n",
        "order by DEP_ID desc, L_NAME desc;\r\n",
        "\"\"\")\r\n",
        "\r\n",
        "for linha in cursor.fetchall():\r\n",
        "  print(linha)"
      ],
      "execution_count": null,
      "outputs": [
        {
          "output_type": "stream",
          "text": [
            "('E1007', 'Mary', 'Thomas', '123412', '05/05/1975', 'F', '100 Rose Pl, Gary,IL', '650', 65000, '30003', '7')\n",
            "('E1009', 'Andrea', 'Jones', '123414', '07/09/1990', 'F', '120 Fall Creek, Gary,IL', '234', 70000, '30003', '7')\n",
            "('E1008', 'Bharath', 'Gupta', '123413', '05/06/1985', 'M', '145 Berry Ln, Naperville,IL', '660', 65000, '30003', '7')\n",
            "('E1003', 'Steve', 'Wells', '123458', '08/10/1980', 'M', '291 Springs, Gary,IL', '300', 50000, '30002', '5')\n",
            "('E1004', 'Santosh', 'Kumar', '123459', '07/20/1985', 'M', '511 Aurora Av, Aurora,IL', '400', 60000, '30004', '5')\n",
            "('E1002', 'Alice', 'James', '123457', '07/31/1972', 'F', '980 Berry ln, Elgin,IL', '200', 80000, '30002', '5')\n",
            "('E1010', 'Ann', 'Jacob', '123415', '03/30/1982', 'F', '111 Britany Springs,Elgin,IL', '220', 70000, '30004', '5')\n",
            "('E1001', 'John', 'Thomas', '123456', '01/09/1976', 'M', '5631 Rice, OakPark,IL', '100', 100000, '30001', '2')\n",
            "('E1005', 'Ahmed', 'Hussain', '123410', '01/04/1981', 'M', '216 Oak Tree, Geneva,IL', '500', 70000, '30001', '2')\n",
            "('E1006', 'Nancy', 'Allen', '123411', '02/06/1978', 'F', '111 Green Pl, Elgin,IL', '600', 90000, '30001', '2')\n"
          ],
          "name": "stdout"
        }
      ]
    },
    {
      "cell_type": "markdown",
      "metadata": {
        "id": "bh9Zx-DmupDS"
      },
      "source": [
        "## Query 5A\r\n"
      ]
    },
    {
      "cell_type": "code",
      "metadata": {
        "colab": {
          "base_uri": "https://localhost:8080/"
        },
        "id": "sJwWDCmYupDU",
        "outputId": "0b4480e8-a0ef-41ba-cc85-a0cf9ed9cdbf"
      },
      "source": [
        "cursor.execute(\"\"\"\r\n",
        "select *\r\n",
        "from EMPLOYEES\r\n",
        "group by DEP_ID;\r\n",
        "\"\"\")\r\n",
        "\r\n",
        "for linha in cursor.fetchall():\r\n",
        "  print(linha)"
      ],
      "execution_count": null,
      "outputs": [
        {
          "output_type": "stream",
          "text": [
            "('E1006', 'Nancy', 'Allen', '123411', '02/06/1978', 'F', '111 Green Pl, Elgin,IL', '600', 90000, '30001', '2')\n",
            "('E1010', 'Ann', 'Jacob', '123415', '03/30/1982', 'F', '111 Britany Springs,Elgin,IL', '220', 70000, '30004', '5')\n",
            "('E1009', 'Andrea', 'Jones', '123414', '07/09/1990', 'F', '120 Fall Creek, Gary,IL', '234', 70000, '30003', '7')\n"
          ],
          "name": "stdout"
        }
      ]
    },
    {
      "cell_type": "markdown",
      "metadata": {
        "id": "JQ5zkB0yuv-F"
      },
      "source": [
        "## Query 5B\r\n"
      ]
    },
    {
      "cell_type": "code",
      "metadata": {
        "colab": {
          "base_uri": "https://localhost:8080/"
        },
        "id": "JMoTsfNAuv-G",
        "outputId": "4d83d9c9-e473-4132-dda4-5138cdf447b1"
      },
      "source": [
        "cursor.execute(\"\"\"\r\n",
        "select DEP_ID, COUNT(*), AVG(SALARY)\r\n",
        "from EMPLOYEES\r\n",
        "group by DEP_ID;\r\n",
        "\"\"\")\r\n",
        "\r\n",
        "for linha in cursor.fetchall():\r\n",
        "  print(linha)"
      ],
      "execution_count": null,
      "outputs": [
        {
          "output_type": "stream",
          "text": [
            "('2', 3, 86666.66666666667)\n",
            "('5', 4, 65000.0)\n",
            "('7', 3, 66666.66666666667)\n"
          ],
          "name": "stdout"
        }
      ]
    },
    {
      "cell_type": "markdown",
      "metadata": {
        "id": "lpntqOYUuxY4"
      },
      "source": [
        "## Query 5C\r\n"
      ]
    },
    {
      "cell_type": "code",
      "metadata": {
        "colab": {
          "base_uri": "https://localhost:8080/"
        },
        "id": "DvOU3bhquxY4",
        "outputId": "c6d5289a-6eee-4997-cbed-6606fb5021c7"
      },
      "source": [
        "cursor.execute(\"\"\"\r\n",
        "select DEP_ID, COUNT(*) AS \"NUM_EMPLOYEES\", AVG(SALARY) AS \"AVG_SALARY\"\r\n",
        "from EMPLOYEES\r\n",
        "group by DEP_ID;\r\n",
        "\"\"\")\r\n",
        "\r\n",
        "for linha in cursor.fetchall():\r\n",
        "  print(linha)"
      ],
      "execution_count": null,
      "outputs": [
        {
          "output_type": "stream",
          "text": [
            "('2', 3, 86666.66666666667)\n",
            "('5', 4, 65000.0)\n",
            "('7', 3, 66666.66666666667)\n"
          ],
          "name": "stdout"
        }
      ]
    },
    {
      "cell_type": "markdown",
      "metadata": {
        "id": "5_OixLfYu3zZ"
      },
      "source": [
        "## Query 5D\r\n"
      ]
    },
    {
      "cell_type": "code",
      "metadata": {
        "colab": {
          "base_uri": "https://localhost:8080/"
        },
        "id": "3KOxMAuhu3zZ",
        "outputId": "fed27480-3e76-4ec4-ecd6-32acafb0b9e2"
      },
      "source": [
        "cursor.execute(\"\"\"\r\n",
        "select DEP_ID, COUNT(*) AS \"NUM_EMPLOYEES\", AVG(SALARY) AS \"AVG_SALARY\"\r\n",
        "from EMPLOYEES\r\n",
        "group by DEP_ID\r\n",
        "order by AVG_SALARY;\r\n",
        "\"\"\")\r\n",
        "\r\n",
        "for linha in cursor.fetchall():\r\n",
        "  print(linha)"
      ],
      "execution_count": null,
      "outputs": [
        {
          "output_type": "stream",
          "text": [
            "('5', 4, 65000.0)\n",
            "('7', 3, 66666.66666666667)\n",
            "('2', 3, 86666.66666666667)\n"
          ],
          "name": "stdout"
        }
      ]
    },
    {
      "cell_type": "markdown",
      "metadata": {
        "id": "jtdIigjHu-UV"
      },
      "source": [
        "## Query 5E\r\n"
      ]
    },
    {
      "cell_type": "code",
      "metadata": {
        "colab": {
          "base_uri": "https://localhost:8080/"
        },
        "id": "2swhA5QOu-UV",
        "outputId": "e692573d-0d55-4326-fa61-b9c8271671f7"
      },
      "source": [
        "cursor.execute(\"\"\"\r\n",
        "select DEP_ID, COUNT(*) AS \"NUM_EMPLOYEES\", AVG(SALARY) AS \"AVG_SALARY\"\r\n",
        "from EMPLOYEES\r\n",
        "group by DEP_ID\r\n",
        "having count(*) < 4\r\n",
        "order by AVG_SALARY;\r\n",
        "\"\"\")\r\n",
        "\r\n",
        "for linha in cursor.fetchall():\r\n",
        "  print(linha)"
      ],
      "execution_count": null,
      "outputs": [
        {
          "output_type": "stream",
          "text": [
            "('7', 3, 66666.66666666667)\n",
            "('2', 3, 86666.66666666667)\n"
          ],
          "name": "stdout"
        }
      ]
    },
    {
      "cell_type": "markdown",
      "metadata": {
        "id": "2_iaxNslvNVV"
      },
      "source": [
        "## Query 6\r\n"
      ]
    },
    {
      "cell_type": "code",
      "metadata": {
        "colab": {
          "base_uri": "https://localhost:8080/"
        },
        "id": "4Am5OLlqvNVV",
        "outputId": "b6d311d2-05dc-484c-80b0-f7cbdcac7a31"
      },
      "source": [
        "cursor.execute(\"\"\"\r\n",
        "select D.DEP_NAME , E.F_NAME, E.L_NAME\r\n",
        "from EMPLOYEES as E, DEPARTMENTS as D\r\n",
        "where E.DEP_ID = D.DEPT_ID_DEP\r\n",
        "order by D.DEP_NAME, E.L_NAME desc ;\r\n",
        "\"\"\")\r\n",
        "\r\n",
        "for linha in cursor.fetchall():\r\n",
        "  print(linha)"
      ],
      "execution_count": null,
      "outputs": [
        {
          "output_type": "stream",
          "text": [
            "('Architect Group', 'John', 'Thomas')\n",
            "('Architect Group', 'Ahmed', 'Hussain')\n",
            "('Architect Group', 'Nancy', 'Allen')\n",
            "('Design Team', 'Mary', 'Thomas')\n",
            "('Design Team', 'Andrea', 'Jones')\n",
            "('Design Team', 'Bharath', 'Gupta')\n",
            "('Software Group', 'Steve', 'Wells')\n",
            "('Software Group', 'Santosh', 'Kumar')\n",
            "('Software Group', 'Alice', 'James')\n",
            "('Software Group', 'Ann', 'Jacob')\n"
          ],
          "name": "stdout"
        }
      ]
    },
    {
      "cell_type": "markdown",
      "metadata": {
        "id": "N5BU3bL_v8mh"
      },
      "source": [
        "------------------------------------"
      ]
    },
    {
      "cell_type": "markdown",
      "metadata": {
        "id": "yIHmuVKqwA6j"
      },
      "source": [
        "# LAB 1: Hands-on Lab: Sub-queries, Multiple Tables\r\n"
      ]
    },
    {
      "cell_type": "markdown",
      "metadata": {
        "id": "cOcQ87G-wPfc"
      },
      "source": [
        "### Part A: Sub-Queries and Nested-Selects"
      ]
    },
    {
      "cell_type": "code",
      "metadata": {
        "colab": {
          "base_uri": "https://localhost:8080/",
          "height": 294
        },
        "id": "cNFVsR_gwNmX",
        "outputId": "eae64e1d-74d4-436f-d33d-66e2507b006a"
      },
      "source": [
        "#Query A1: Enter a failing (i.e. which gives an error) to retrieve all employees whose salary is greater than the average salary\r\n",
        "\r\n",
        "cursor.execute(\"\"\"\r\n",
        "select * from employees where salary > AVG(salary)\r\n",
        "\"\"\")\r\n",
        "\r\n",
        "for linha in cursor.fetchall():\r\n",
        "  print(linha)"
      ],
      "execution_count": null,
      "outputs": [
        {
          "output_type": "stream",
          "text": [
            "ERROR:root:An unexpected error occurred while tokenizing input\n",
            "The following traceback may be corrupted or invalid\n",
            "The error message is: ('EOF in multi-line string', (1, 0))\n",
            "\n"
          ],
          "name": "stderr"
        },
        {
          "output_type": "error",
          "ename": "OperationalError",
          "evalue": "ignored",
          "traceback": [
            "\u001b[0;31m---------------------------------------------------------------------------\u001b[0m",
            "\u001b[0;31mOperationalError\u001b[0m                          Traceback (most recent call last)",
            "\u001b[0;32m<ipython-input-165-52f6daca269b>\u001b[0m in \u001b[0;36m<module>\u001b[0;34m()\u001b[0m\n\u001b[1;32m      3\u001b[0m cursor.execute(\"\"\"\n\u001b[1;32m      4\u001b[0m \u001b[0mselect\u001b[0m \u001b[0;34m*\u001b[0m \u001b[0;32mfrom\u001b[0m \u001b[0memployees\u001b[0m \u001b[0mwhere\u001b[0m \u001b[0msalary\u001b[0m \u001b[0;34m>\u001b[0m \u001b[0mAVG\u001b[0m\u001b[0;34m(\u001b[0m\u001b[0msalary\u001b[0m\u001b[0;34m)\u001b[0m\u001b[0;34m\u001b[0m\u001b[0;34m\u001b[0m\u001b[0m\n\u001b[0;32m----> 5\u001b[0;31m \"\"\")\n\u001b[0m\u001b[1;32m      6\u001b[0m \u001b[0;34m\u001b[0m\u001b[0m\n\u001b[1;32m      7\u001b[0m \u001b[0;32mfor\u001b[0m \u001b[0mlinha\u001b[0m \u001b[0;32min\u001b[0m \u001b[0mcursor\u001b[0m\u001b[0;34m.\u001b[0m\u001b[0mfetchall\u001b[0m\u001b[0;34m(\u001b[0m\u001b[0;34m)\u001b[0m\u001b[0;34m:\u001b[0m\u001b[0;34m\u001b[0m\u001b[0;34m\u001b[0m\u001b[0m\n",
            "\u001b[0;31mOperationalError\u001b[0m: misuse of aggregate function AVG()"
          ]
        }
      ]
    },
    {
      "cell_type": "code",
      "metadata": {
        "colab": {
          "base_uri": "https://localhost:8080/"
        },
        "id": "9fw93a1BwaWh",
        "outputId": "aea83f62-aa84-446b-d1de-467b1b2c338e"
      },
      "source": [
        "# Query A2: Enter a working query using a sub-select to retrieve all employees whose salary is greater than the average salary\r\n",
        "\r\n",
        "\r\n",
        "cursor.execute(\"\"\"\r\n",
        "select EMP_ID, F_NAME, L_NAME, SALARY from employees where SALARY > (select AVG(SALARY) from employees);\r\n",
        "\"\"\")\r\n",
        "\r\n",
        "for linha in cursor.fetchall():\r\n",
        "  print(linha)"
      ],
      "execution_count": null,
      "outputs": [
        {
          "output_type": "stream",
          "text": [
            "('E1001', 'John', 'Thomas', 100000)\n",
            "('E1002', 'Alice', 'James', 80000)\n",
            "('E1006', 'Nancy', 'Allen', 90000)\n"
          ],
          "name": "stdout"
        }
      ]
    },
    {
      "cell_type": "code",
      "metadata": {
        "colab": {
          "base_uri": "https://localhost:8080/"
        },
        "id": "awcJmwpywqvF",
        "outputId": "f34849ad-2340-460d-c67c-62d1454cc864"
      },
      "source": [
        "# Query A3: Enter a failing query (i.e. that gives an error) that retrieves all employees records and average salary in every row\r\n",
        "\r\n",
        "cursor.execute(\"\"\"\r\n",
        "select EMP_ID, SALARY, AVG(SALARY) AS AVG_SALARY from employees ;\r\n",
        "\"\"\")\r\n",
        "\r\n",
        "for linha in cursor.fetchall():\r\n",
        "  print(linha)"
      ],
      "execution_count": null,
      "outputs": [
        {
          "output_type": "stream",
          "text": [
            "('E1010', 70000, 72000.0)\n"
          ],
          "name": "stdout"
        }
      ]
    },
    {
      "cell_type": "code",
      "metadata": {
        "colab": {
          "base_uri": "https://localhost:8080/"
        },
        "id": "srHQEcJRwyy2",
        "outputId": "cd673deb-6ef0-4023-a591-51486f25bd41"
      },
      "source": [
        "# Query A4: Enter a Column Expression that retrieves all employees records and average salary in every row\r\n",
        "\r\n",
        "cursor.execute(\"\"\"\r\n",
        "select EMP_ID, SALARY, ( select AVG(SALARY) from employees ) AS AVG_SALARY from employees ;\r\n",
        "\r\n",
        "\"\"\")\r\n",
        "\r\n",
        "for linha in cursor.fetchall():\r\n",
        "  print(linha)"
      ],
      "execution_count": null,
      "outputs": [
        {
          "output_type": "stream",
          "text": [
            "('E1001', 100000, 72000.0)\n",
            "('E1002', 80000, 72000.0)\n",
            "('E1003', 50000, 72000.0)\n",
            "('E1004', 60000, 72000.0)\n",
            "('E1005', 70000, 72000.0)\n",
            "('E1006', 90000, 72000.0)\n",
            "('E1007', 65000, 72000.0)\n",
            "('E1008', 65000, 72000.0)\n",
            "('E1009', 70000, 72000.0)\n",
            "('E1010', 70000, 72000.0)\n"
          ],
          "name": "stdout"
        }
      ]
    },
    {
      "cell_type": "code",
      "metadata": {
        "colab": {
          "base_uri": "https://localhost:8080/"
        },
        "id": "xHkXHwdDw_7Q",
        "outputId": "0730a3ed-e50a-42cc-9348-6e4ae3849713"
      },
      "source": [
        "#Query A5: Enter a Table Expression that retrieves only the columns with non-sensitive employee data\r\n",
        "\r\n",
        "cursor.execute(\"\"\"\r\n",
        "select * from ( select EMP_ID, F_NAME, L_NAME, DEP_ID from employees) AS EMP4ALL ;\r\n",
        "\"\"\")\r\n",
        "\r\n",
        "for linha in cursor.fetchall():\r\n",
        "  print(linha)"
      ],
      "execution_count": null,
      "outputs": [
        {
          "output_type": "stream",
          "text": [
            "('E1001', 'John', 'Thomas', '2')\n",
            "('E1002', 'Alice', 'James', '5')\n",
            "('E1003', 'Steve', 'Wells', '5')\n",
            "('E1004', 'Santosh', 'Kumar', '5')\n",
            "('E1005', 'Ahmed', 'Hussain', '2')\n",
            "('E1006', 'Nancy', 'Allen', '2')\n",
            "('E1007', 'Mary', 'Thomas', '7')\n",
            "('E1008', 'Bharath', 'Gupta', '7')\n",
            "('E1009', 'Andrea', 'Jones', '7')\n",
            "('E1010', 'Ann', 'Jacob', '5')\n"
          ],
          "name": "stdout"
        }
      ]
    },
    {
      "cell_type": "markdown",
      "metadata": {
        "id": "sIJ9uU5bxLN3"
      },
      "source": [
        "### Part B: Accessing Multiple Tables with Sub-Queries\r\n"
      ]
    },
    {
      "cell_type": "code",
      "metadata": {
        "colab": {
          "base_uri": "https://localhost:8080/"
        },
        "id": "_paw4RIHxGSE",
        "outputId": "9f812831-575c-4861-8d03-f09bb304986f"
      },
      "source": [
        "# Query B1: Retrieve only the EMPLOYEES records that correspond to departments in the DEPARTMENTS table\r\n",
        "\r\n",
        "cursor.execute(\"\"\"\r\n",
        "select * from employees where DEP_ID IN ( select DEPT_ID_DEP from departments );\r\n",
        "\"\"\")\r\n",
        "\r\n",
        "for linha in cursor.fetchall():\r\n",
        "  print(linha)"
      ],
      "execution_count": null,
      "outputs": [
        {
          "output_type": "stream",
          "text": [
            "('E1001', 'John', 'Thomas', '123456', '01/09/1976', 'M', '5631 Rice, OakPark,IL', '100', 100000, '30001', '2')\n",
            "('E1002', 'Alice', 'James', '123457', '07/31/1972', 'F', '980 Berry ln, Elgin,IL', '200', 80000, '30002', '5')\n",
            "('E1003', 'Steve', 'Wells', '123458', '08/10/1980', 'M', '291 Springs, Gary,IL', '300', 50000, '30002', '5')\n",
            "('E1004', 'Santosh', 'Kumar', '123459', '07/20/1985', 'M', '511 Aurora Av, Aurora,IL', '400', 60000, '30004', '5')\n",
            "('E1005', 'Ahmed', 'Hussain', '123410', '01/04/1981', 'M', '216 Oak Tree, Geneva,IL', '500', 70000, '30001', '2')\n",
            "('E1006', 'Nancy', 'Allen', '123411', '02/06/1978', 'F', '111 Green Pl, Elgin,IL', '600', 90000, '30001', '2')\n",
            "('E1007', 'Mary', 'Thomas', '123412', '05/05/1975', 'F', '100 Rose Pl, Gary,IL', '650', 65000, '30003', '7')\n",
            "('E1008', 'Bharath', 'Gupta', '123413', '05/06/1985', 'M', '145 Berry Ln, Naperville,IL', '660', 65000, '30003', '7')\n",
            "('E1009', 'Andrea', 'Jones', '123414', '07/09/1990', 'F', '120 Fall Creek, Gary,IL', '234', 70000, '30003', '7')\n",
            "('E1010', 'Ann', 'Jacob', '123415', '03/30/1982', 'F', '111 Britany Springs,Elgin,IL', '220', 70000, '30004', '5')\n"
          ],
          "name": "stdout"
        }
      ]
    },
    {
      "cell_type": "code",
      "metadata": {
        "colab": {
          "base_uri": "https://localhost:8080/"
        },
        "id": "5CMEwvYZxQK_",
        "outputId": "345023f4-531e-4ffc-d54f-732a264d40ec"
      },
      "source": [
        "# Query B2: Retrieve only the list of employees from location L0002\r\n",
        "\r\n",
        "cursor.execute(\"\"\"\r\n",
        "select * from employees where DEP_ID IN ( select DEPT_ID_DEP from departments where LOC_ID = 'L0002' );\r\n",
        "\"\"\")\r\n",
        "\r\n",
        "for linha in cursor.fetchall():\r\n",
        "  print(linha)"
      ],
      "execution_count": null,
      "outputs": [
        {
          "output_type": "stream",
          "text": [
            "('E1002', 'Alice', 'James', '123457', '07/31/1972', 'F', '980 Berry ln, Elgin,IL', '200', 80000, '30002', '5')\n",
            "('E1003', 'Steve', 'Wells', '123458', '08/10/1980', 'M', '291 Springs, Gary,IL', '300', 50000, '30002', '5')\n",
            "('E1004', 'Santosh', 'Kumar', '123459', '07/20/1985', 'M', '511 Aurora Av, Aurora,IL', '400', 60000, '30004', '5')\n",
            "('E1010', 'Ann', 'Jacob', '123415', '03/30/1982', 'F', '111 Britany Springs,Elgin,IL', '220', 70000, '30004', '5')\n"
          ],
          "name": "stdout"
        }
      ]
    },
    {
      "cell_type": "code",
      "metadata": {
        "colab": {
          "base_uri": "https://localhost:8080/"
        },
        "id": "yADIaMyVxVIr",
        "outputId": "8c9352ce-6124-40c8-f0a4-e23cfda65b32"
      },
      "source": [
        "# Query B3: Retrieve the department ID and name for employees who earn more than $70,000\r\n",
        "\r\n",
        "cursor.execute(\"\"\"\r\n",
        "select DEPT_ID_DEP, DEP_NAME from departments where DEPT_ID_DEP IN ( select DEP_ID from employees where SALARY > 70000 ) ;\r\n",
        "\"\"\")\r\n",
        "\r\n",
        "for linha in cursor.fetchall():\r\n",
        "  print(linha)"
      ],
      "execution_count": null,
      "outputs": [
        {
          "output_type": "stream",
          "text": [
            "('2', 'Architect Group')\n",
            "('5', 'Software Group')\n"
          ],
          "name": "stdout"
        }
      ]
    },
    {
      "cell_type": "code",
      "metadata": {
        "colab": {
          "base_uri": "https://localhost:8080/"
        },
        "id": "dfH4nAxNxZS5",
        "outputId": "5092f8b7-6108-4c7e-d170-6eaab385c103"
      },
      "source": [
        "# Query B4: Specify 2 tables in the FROM clause\r\n",
        "\r\n",
        "cursor.execute(\"\"\"\r\n",
        "select * from employees, departments;\r\n",
        "\"\"\")\r\n",
        "\r\n",
        "for linha in cursor.fetchall():\r\n",
        "  print(linha)"
      ],
      "execution_count": null,
      "outputs": [
        {
          "output_type": "stream",
          "text": [
            "('E1001', 'John', 'Thomas', '123456', '01/09/1976', 'M', '5631 Rice, OakPark,IL', '100', 100000, '30001', '2', '2', 'Architect Group', '30001', 'L0001')\n",
            "('E1001', 'John', 'Thomas', '123456', '01/09/1976', 'M', '5631 Rice, OakPark,IL', '100', 100000, '30001', '2', '5', 'Software Group', '30002', 'L0002')\n",
            "('E1001', 'John', 'Thomas', '123456', '01/09/1976', 'M', '5631 Rice, OakPark,IL', '100', 100000, '30001', '2', '7', 'Design Team', '30003', 'L0003')\n",
            "('E1002', 'Alice', 'James', '123457', '07/31/1972', 'F', '980 Berry ln, Elgin,IL', '200', 80000, '30002', '5', '2', 'Architect Group', '30001', 'L0001')\n",
            "('E1002', 'Alice', 'James', '123457', '07/31/1972', 'F', '980 Berry ln, Elgin,IL', '200', 80000, '30002', '5', '5', 'Software Group', '30002', 'L0002')\n",
            "('E1002', 'Alice', 'James', '123457', '07/31/1972', 'F', '980 Berry ln, Elgin,IL', '200', 80000, '30002', '5', '7', 'Design Team', '30003', 'L0003')\n",
            "('E1003', 'Steve', 'Wells', '123458', '08/10/1980', 'M', '291 Springs, Gary,IL', '300', 50000, '30002', '5', '2', 'Architect Group', '30001', 'L0001')\n",
            "('E1003', 'Steve', 'Wells', '123458', '08/10/1980', 'M', '291 Springs, Gary,IL', '300', 50000, '30002', '5', '5', 'Software Group', '30002', 'L0002')\n",
            "('E1003', 'Steve', 'Wells', '123458', '08/10/1980', 'M', '291 Springs, Gary,IL', '300', 50000, '30002', '5', '7', 'Design Team', '30003', 'L0003')\n",
            "('E1004', 'Santosh', 'Kumar', '123459', '07/20/1985', 'M', '511 Aurora Av, Aurora,IL', '400', 60000, '30004', '5', '2', 'Architect Group', '30001', 'L0001')\n",
            "('E1004', 'Santosh', 'Kumar', '123459', '07/20/1985', 'M', '511 Aurora Av, Aurora,IL', '400', 60000, '30004', '5', '5', 'Software Group', '30002', 'L0002')\n",
            "('E1004', 'Santosh', 'Kumar', '123459', '07/20/1985', 'M', '511 Aurora Av, Aurora,IL', '400', 60000, '30004', '5', '7', 'Design Team', '30003', 'L0003')\n",
            "('E1005', 'Ahmed', 'Hussain', '123410', '01/04/1981', 'M', '216 Oak Tree, Geneva,IL', '500', 70000, '30001', '2', '2', 'Architect Group', '30001', 'L0001')\n",
            "('E1005', 'Ahmed', 'Hussain', '123410', '01/04/1981', 'M', '216 Oak Tree, Geneva,IL', '500', 70000, '30001', '2', '5', 'Software Group', '30002', 'L0002')\n",
            "('E1005', 'Ahmed', 'Hussain', '123410', '01/04/1981', 'M', '216 Oak Tree, Geneva,IL', '500', 70000, '30001', '2', '7', 'Design Team', '30003', 'L0003')\n",
            "('E1006', 'Nancy', 'Allen', '123411', '02/06/1978', 'F', '111 Green Pl, Elgin,IL', '600', 90000, '30001', '2', '2', 'Architect Group', '30001', 'L0001')\n",
            "('E1006', 'Nancy', 'Allen', '123411', '02/06/1978', 'F', '111 Green Pl, Elgin,IL', '600', 90000, '30001', '2', '5', 'Software Group', '30002', 'L0002')\n",
            "('E1006', 'Nancy', 'Allen', '123411', '02/06/1978', 'F', '111 Green Pl, Elgin,IL', '600', 90000, '30001', '2', '7', 'Design Team', '30003', 'L0003')\n",
            "('E1007', 'Mary', 'Thomas', '123412', '05/05/1975', 'F', '100 Rose Pl, Gary,IL', '650', 65000, '30003', '7', '2', 'Architect Group', '30001', 'L0001')\n",
            "('E1007', 'Mary', 'Thomas', '123412', '05/05/1975', 'F', '100 Rose Pl, Gary,IL', '650', 65000, '30003', '7', '5', 'Software Group', '30002', 'L0002')\n",
            "('E1007', 'Mary', 'Thomas', '123412', '05/05/1975', 'F', '100 Rose Pl, Gary,IL', '650', 65000, '30003', '7', '7', 'Design Team', '30003', 'L0003')\n",
            "('E1008', 'Bharath', 'Gupta', '123413', '05/06/1985', 'M', '145 Berry Ln, Naperville,IL', '660', 65000, '30003', '7', '2', 'Architect Group', '30001', 'L0001')\n",
            "('E1008', 'Bharath', 'Gupta', '123413', '05/06/1985', 'M', '145 Berry Ln, Naperville,IL', '660', 65000, '30003', '7', '5', 'Software Group', '30002', 'L0002')\n",
            "('E1008', 'Bharath', 'Gupta', '123413', '05/06/1985', 'M', '145 Berry Ln, Naperville,IL', '660', 65000, '30003', '7', '7', 'Design Team', '30003', 'L0003')\n",
            "('E1009', 'Andrea', 'Jones', '123414', '07/09/1990', 'F', '120 Fall Creek, Gary,IL', '234', 70000, '30003', '7', '2', 'Architect Group', '30001', 'L0001')\n",
            "('E1009', 'Andrea', 'Jones', '123414', '07/09/1990', 'F', '120 Fall Creek, Gary,IL', '234', 70000, '30003', '7', '5', 'Software Group', '30002', 'L0002')\n",
            "('E1009', 'Andrea', 'Jones', '123414', '07/09/1990', 'F', '120 Fall Creek, Gary,IL', '234', 70000, '30003', '7', '7', 'Design Team', '30003', 'L0003')\n",
            "('E1010', 'Ann', 'Jacob', '123415', '03/30/1982', 'F', '111 Britany Springs,Elgin,IL', '220', 70000, '30004', '5', '2', 'Architect Group', '30001', 'L0001')\n",
            "('E1010', 'Ann', 'Jacob', '123415', '03/30/1982', 'F', '111 Britany Springs,Elgin,IL', '220', 70000, '30004', '5', '5', 'Software Group', '30002', 'L0002')\n",
            "('E1010', 'Ann', 'Jacob', '123415', '03/30/1982', 'F', '111 Britany Springs,Elgin,IL', '220', 70000, '30004', '5', '7', 'Design Team', '30003', 'L0003')\n"
          ],
          "name": "stdout"
        }
      ]
    },
    {
      "cell_type": "markdown",
      "metadata": {
        "id": "QhfhChcRxkvN"
      },
      "source": [
        "### Accessing Multiple Tables with Implicit Joins\r\n"
      ]
    },
    {
      "cell_type": "code",
      "metadata": {
        "colab": {
          "base_uri": "https://localhost:8080/"
        },
        "id": "0SPPwPBgxel6",
        "outputId": "59445c76-d7f5-4ade-f249-317943e2caa3"
      },
      "source": [
        "# Query B5: Retrieve only the EMPLOYEES records that correspond to departments in the DEPARTMENTS table\r\n",
        "\r\n",
        "cursor.execute(\"\"\"\r\n",
        "select * from employees, departments where employees.DEP_ID = departments.DEPT_ID_DEP;\r\n",
        "\"\"\")\r\n",
        "\r\n",
        "for linha in cursor.fetchall():\r\n",
        "  print(linha)"
      ],
      "execution_count": null,
      "outputs": [
        {
          "output_type": "stream",
          "text": [
            "('E1001', 'John', 'Thomas', '123456', '01/09/1976', 'M', '5631 Rice, OakPark,IL', '100', 100000, '30001', '2', '2', 'Architect Group', '30001', 'L0001')\n",
            "('E1002', 'Alice', 'James', '123457', '07/31/1972', 'F', '980 Berry ln, Elgin,IL', '200', 80000, '30002', '5', '5', 'Software Group', '30002', 'L0002')\n",
            "('E1003', 'Steve', 'Wells', '123458', '08/10/1980', 'M', '291 Springs, Gary,IL', '300', 50000, '30002', '5', '5', 'Software Group', '30002', 'L0002')\n",
            "('E1004', 'Santosh', 'Kumar', '123459', '07/20/1985', 'M', '511 Aurora Av, Aurora,IL', '400', 60000, '30004', '5', '5', 'Software Group', '30002', 'L0002')\n",
            "('E1005', 'Ahmed', 'Hussain', '123410', '01/04/1981', 'M', '216 Oak Tree, Geneva,IL', '500', 70000, '30001', '2', '2', 'Architect Group', '30001', 'L0001')\n",
            "('E1006', 'Nancy', 'Allen', '123411', '02/06/1978', 'F', '111 Green Pl, Elgin,IL', '600', 90000, '30001', '2', '2', 'Architect Group', '30001', 'L0001')\n",
            "('E1007', 'Mary', 'Thomas', '123412', '05/05/1975', 'F', '100 Rose Pl, Gary,IL', '650', 65000, '30003', '7', '7', 'Design Team', '30003', 'L0003')\n",
            "('E1008', 'Bharath', 'Gupta', '123413', '05/06/1985', 'M', '145 Berry Ln, Naperville,IL', '660', 65000, '30003', '7', '7', 'Design Team', '30003', 'L0003')\n",
            "('E1009', 'Andrea', 'Jones', '123414', '07/09/1990', 'F', '120 Fall Creek, Gary,IL', '234', 70000, '30003', '7', '7', 'Design Team', '30003', 'L0003')\n",
            "('E1010', 'Ann', 'Jacob', '123415', '03/30/1982', 'F', '111 Britany Springs,Elgin,IL', '220', 70000, '30004', '5', '5', 'Software Group', '30002', 'L0002')\n"
          ],
          "name": "stdout"
        }
      ]
    },
    {
      "cell_type": "code",
      "metadata": {
        "colab": {
          "base_uri": "https://localhost:8080/"
        },
        "id": "oDQUHPPWxrml",
        "outputId": "3fa7209a-f33d-415c-b15e-fbd71ecb9dba"
      },
      "source": [
        "# Query B6: Use shorter aliases for table names\r\n",
        "\r\n",
        "cursor.execute(\"\"\"\r\n",
        "select * from employees E, departments D where E.DEP_ID = D.DEPT_ID_DEP;\r\n",
        "\"\"\")\r\n",
        "\r\n",
        "for linha in cursor.fetchall():\r\n",
        "  print(linha)"
      ],
      "execution_count": null,
      "outputs": [
        {
          "output_type": "stream",
          "text": [
            "('E1001', 'John', 'Thomas', '123456', '01/09/1976', 'M', '5631 Rice, OakPark,IL', '100', 100000, '30001', '2', '2', 'Architect Group', '30001', 'L0001')\n",
            "('E1002', 'Alice', 'James', '123457', '07/31/1972', 'F', '980 Berry ln, Elgin,IL', '200', 80000, '30002', '5', '5', 'Software Group', '30002', 'L0002')\n",
            "('E1003', 'Steve', 'Wells', '123458', '08/10/1980', 'M', '291 Springs, Gary,IL', '300', 50000, '30002', '5', '5', 'Software Group', '30002', 'L0002')\n",
            "('E1004', 'Santosh', 'Kumar', '123459', '07/20/1985', 'M', '511 Aurora Av, Aurora,IL', '400', 60000, '30004', '5', '5', 'Software Group', '30002', 'L0002')\n",
            "('E1005', 'Ahmed', 'Hussain', '123410', '01/04/1981', 'M', '216 Oak Tree, Geneva,IL', '500', 70000, '30001', '2', '2', 'Architect Group', '30001', 'L0001')\n",
            "('E1006', 'Nancy', 'Allen', '123411', '02/06/1978', 'F', '111 Green Pl, Elgin,IL', '600', 90000, '30001', '2', '2', 'Architect Group', '30001', 'L0001')\n",
            "('E1007', 'Mary', 'Thomas', '123412', '05/05/1975', 'F', '100 Rose Pl, Gary,IL', '650', 65000, '30003', '7', '7', 'Design Team', '30003', 'L0003')\n",
            "('E1008', 'Bharath', 'Gupta', '123413', '05/06/1985', 'M', '145 Berry Ln, Naperville,IL', '660', 65000, '30003', '7', '7', 'Design Team', '30003', 'L0003')\n",
            "('E1009', 'Andrea', 'Jones', '123414', '07/09/1990', 'F', '120 Fall Creek, Gary,IL', '234', 70000, '30003', '7', '7', 'Design Team', '30003', 'L0003')\n",
            "('E1010', 'Ann', 'Jacob', '123415', '03/30/1982', 'F', '111 Britany Springs,Elgin,IL', '220', 70000, '30004', '5', '5', 'Software Group', '30002', 'L0002')\n"
          ],
          "name": "stdout"
        }
      ]
    },
    {
      "cell_type": "code",
      "metadata": {
        "colab": {
          "base_uri": "https://localhost:8080/"
        },
        "id": "ZYa-PYGzxu2O",
        "outputId": "bd682835-f982-4443-ebbf-4159318bfdba"
      },
      "source": [
        "# Query B7: Retrieve only the Employee ID and Department name in the above query\r\n",
        "\r\n",
        "cursor.execute(\"\"\"\r\n",
        "select EMP_ID, DEP_NAME from employees E, departments D where E.DEP_ID = D.DEPT_ID_DEP;\r\n",
        "\"\"\")\r\n",
        "\r\n",
        "for linha in cursor.fetchall():\r\n",
        "  print(linha)"
      ],
      "execution_count": null,
      "outputs": [
        {
          "output_type": "stream",
          "text": [
            "('E1001', 'Architect Group')\n",
            "('E1002', 'Software Group')\n",
            "('E1003', 'Software Group')\n",
            "('E1004', 'Software Group')\n",
            "('E1005', 'Architect Group')\n",
            "('E1006', 'Architect Group')\n",
            "('E1007', 'Design Team')\n",
            "('E1008', 'Design Team')\n",
            "('E1009', 'Design Team')\n",
            "('E1010', 'Software Group')\n"
          ],
          "name": "stdout"
        }
      ]
    },
    {
      "cell_type": "code",
      "metadata": {
        "colab": {
          "base_uri": "https://localhost:8080/"
        },
        "id": "fY2sEvtvx1mZ",
        "outputId": "1b788ad1-f3a6-4a7f-f532-cee11e09ef04"
      },
      "source": [
        "# Query B8: In the above query specify the fully qualified column names with aliases in the SELECT clause\r\n",
        "\r\n",
        "cursor.execute(\"\"\"\r\n",
        "select E.EMP_ID, D.DEP_NAME from employees E, departments D where E.DEP_ID = D.DEPT_ID_DEP\r\n",
        "\"\"\")\r\n",
        "\r\n",
        "for linha in cursor.fetchall():\r\n",
        "  print(linha)"
      ],
      "execution_count": null,
      "outputs": [
        {
          "output_type": "stream",
          "text": [
            "('E1001', 'Architect Group')\n",
            "('E1002', 'Software Group')\n",
            "('E1003', 'Software Group')\n",
            "('E1004', 'Software Group')\n",
            "('E1005', 'Architect Group')\n",
            "('E1006', 'Architect Group')\n",
            "('E1007', 'Design Team')\n",
            "('E1008', 'Design Team')\n",
            "('E1009', 'Design Team')\n",
            "('E1010', 'Software Group')\n"
          ],
          "name": "stdout"
        }
      ]
    }
  ]
}