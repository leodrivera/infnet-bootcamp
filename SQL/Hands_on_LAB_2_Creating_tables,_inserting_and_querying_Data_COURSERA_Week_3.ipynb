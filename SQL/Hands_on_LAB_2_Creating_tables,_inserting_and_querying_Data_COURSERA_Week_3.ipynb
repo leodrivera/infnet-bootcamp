{
  "nbformat": 4,
  "nbformat_minor": 0,
  "metadata": {
    "colab": {
      "name": "Hands-on LAB 2: Creating tables, inserting and querying Data - COURSERA Week 3",
      "provenance": []
    },
    "kernelspec": {
      "name": "python3",
      "display_name": "Python 3"
    }
  },
  "cells": [
    {
      "cell_type": "markdown",
      "metadata": {
        "id": "BRXQ7uox2RgV"
      },
      "source": [
        "## Task 1: Import the `ibm_db` Python library"
      ]
    },
    {
      "cell_type": "code",
      "metadata": {
        "colab": {
          "base_uri": "https://localhost:8080/"
        },
        "id": "Ak4tlR-L00-C",
        "outputId": "a8cefe09-ab50-4ee8-8206-cb91702e1b66"
      },
      "source": [
        "!pip install ibm_db"
      ],
      "execution_count": null,
      "outputs": [
        {
          "output_type": "stream",
          "text": [
            "Collecting ibm_db\n",
            "\u001b[?25l  Downloading https://files.pythonhosted.org/packages/5d/0d/684a44f2449b0b731932a11e98e48085be96af3f44c0b196d56a0ecfdd52/ibm_db-3.0.3.tar.gz (794kB)\n",
            "\r\u001b[K     |▍                               | 10kB 15.8MB/s eta 0:00:01\r\u001b[K     |▉                               | 20kB 21.4MB/s eta 0:00:01\r\u001b[K     |█▎                              | 30kB 11.3MB/s eta 0:00:01\r\u001b[K     |█▋                              | 40kB 9.4MB/s eta 0:00:01\r\u001b[K     |██                              | 51kB 4.4MB/s eta 0:00:01\r\u001b[K     |██▌                             | 61kB 5.0MB/s eta 0:00:01\r\u001b[K     |██▉                             | 71kB 5.1MB/s eta 0:00:01\r\u001b[K     |███▎                            | 81kB 5.4MB/s eta 0:00:01\r\u001b[K     |███▊                            | 92kB 5.8MB/s eta 0:00:01\r\u001b[K     |████▏                           | 102kB 6.1MB/s eta 0:00:01\r\u001b[K     |████▌                           | 112kB 6.1MB/s eta 0:00:01\r\u001b[K     |█████                           | 122kB 6.1MB/s eta 0:00:01\r\u001b[K     |█████▍                          | 133kB 6.1MB/s eta 0:00:01\r\u001b[K     |█████▊                          | 143kB 6.1MB/s eta 0:00:01\r\u001b[K     |██████▏                         | 153kB 6.1MB/s eta 0:00:01\r\u001b[K     |██████▋                         | 163kB 6.1MB/s eta 0:00:01\r\u001b[K     |███████                         | 174kB 6.1MB/s eta 0:00:01\r\u001b[K     |███████▍                        | 184kB 6.1MB/s eta 0:00:01\r\u001b[K     |███████▉                        | 194kB 6.1MB/s eta 0:00:01\r\u001b[K     |████████▎                       | 204kB 6.1MB/s eta 0:00:01\r\u001b[K     |████████▋                       | 215kB 6.1MB/s eta 0:00:01\r\u001b[K     |█████████                       | 225kB 6.1MB/s eta 0:00:01\r\u001b[K     |█████████▌                      | 235kB 6.1MB/s eta 0:00:01\r\u001b[K     |██████████                      | 245kB 6.1MB/s eta 0:00:01\r\u001b[K     |██████████▎                     | 256kB 6.1MB/s eta 0:00:01\r\u001b[K     |██████████▊                     | 266kB 6.1MB/s eta 0:00:01\r\u001b[K     |███████████▏                    | 276kB 6.1MB/s eta 0:00:01\r\u001b[K     |███████████▌                    | 286kB 6.1MB/s eta 0:00:01\r\u001b[K     |████████████                    | 296kB 6.1MB/s eta 0:00:01\r\u001b[K     |████████████▍                   | 307kB 6.1MB/s eta 0:00:01\r\u001b[K     |████████████▉                   | 317kB 6.1MB/s eta 0:00:01\r\u001b[K     |█████████████▏                  | 327kB 6.1MB/s eta 0:00:01\r\u001b[K     |█████████████▋                  | 337kB 6.1MB/s eta 0:00:01\r\u001b[K     |██████████████                  | 348kB 6.1MB/s eta 0:00:01\r\u001b[K     |██████████████▍                 | 358kB 6.1MB/s eta 0:00:01\r\u001b[K     |██████████████▉                 | 368kB 6.1MB/s eta 0:00:01\r\u001b[K     |███████████████▎                | 378kB 6.1MB/s eta 0:00:01\r\u001b[K     |███████████████▊                | 389kB 6.1MB/s eta 0:00:01\r\u001b[K     |████████████████                | 399kB 6.1MB/s eta 0:00:01\r\u001b[K     |████████████████▌               | 409kB 6.1MB/s eta 0:00:01\r\u001b[K     |█████████████████               | 419kB 6.1MB/s eta 0:00:01\r\u001b[K     |█████████████████▎              | 430kB 6.1MB/s eta 0:00:01\r\u001b[K     |█████████████████▊              | 440kB 6.1MB/s eta 0:00:01\r\u001b[K     |██████████████████▏             | 450kB 6.1MB/s eta 0:00:01\r\u001b[K     |██████████████████▋             | 460kB 6.1MB/s eta 0:00:01\r\u001b[K     |███████████████████             | 471kB 6.1MB/s eta 0:00:01\r\u001b[K     |███████████████████▍            | 481kB 6.1MB/s eta 0:00:01\r\u001b[K     |███████████████████▉            | 491kB 6.1MB/s eta 0:00:01\r\u001b[K     |████████████████████▏           | 501kB 6.1MB/s eta 0:00:01\r\u001b[K     |████████████████████▋           | 512kB 6.1MB/s eta 0:00:01\r\u001b[K     |█████████████████████           | 522kB 6.1MB/s eta 0:00:01\r\u001b[K     |█████████████████████▍          | 532kB 6.1MB/s eta 0:00:01\r\u001b[K     |█████████████████████▉          | 542kB 6.1MB/s eta 0:00:01\r\u001b[K     |██████████████████████▎         | 552kB 6.1MB/s eta 0:00:01\r\u001b[K     |██████████████████████▊         | 563kB 6.1MB/s eta 0:00:01\r\u001b[K     |███████████████████████         | 573kB 6.1MB/s eta 0:00:01\r\u001b[K     |███████████████████████▌        | 583kB 6.1MB/s eta 0:00:01\r\u001b[K     |████████████████████████        | 593kB 6.1MB/s eta 0:00:01\r\u001b[K     |████████████████████████▎       | 604kB 6.1MB/s eta 0:00:01\r\u001b[K     |████████████████████████▊       | 614kB 6.1MB/s eta 0:00:01\r\u001b[K     |█████████████████████████▏      | 624kB 6.1MB/s eta 0:00:01\r\u001b[K     |█████████████████████████▋      | 634kB 6.1MB/s eta 0:00:01\r\u001b[K     |██████████████████████████      | 645kB 6.1MB/s eta 0:00:01\r\u001b[K     |██████████████████████████▍     | 655kB 6.1MB/s eta 0:00:01\r\u001b[K     |██████████████████████████▉     | 665kB 6.1MB/s eta 0:00:01\r\u001b[K     |███████████████████████████▏    | 675kB 6.1MB/s eta 0:00:01\r\u001b[K     |███████████████████████████▋    | 686kB 6.1MB/s eta 0:00:01\r\u001b[K     |████████████████████████████    | 696kB 6.1MB/s eta 0:00:01\r\u001b[K     |████████████████████████████▌   | 706kB 6.1MB/s eta 0:00:01\r\u001b[K     |████████████████████████████▉   | 716kB 6.1MB/s eta 0:00:01\r\u001b[K     |█████████████████████████████▎  | 727kB 6.1MB/s eta 0:00:01\r\u001b[K     |█████████████████████████████▊  | 737kB 6.1MB/s eta 0:00:01\r\u001b[K     |██████████████████████████████  | 747kB 6.1MB/s eta 0:00:01\r\u001b[K     |██████████████████████████████▌ | 757kB 6.1MB/s eta 0:00:01\r\u001b[K     |███████████████████████████████ | 768kB 6.1MB/s eta 0:00:01\r\u001b[K     |███████████████████████████████▍| 778kB 6.1MB/s eta 0:00:01\r\u001b[K     |███████████████████████████████▊| 788kB 6.1MB/s eta 0:00:01\r\u001b[K     |████████████████████████████████| 798kB 6.1MB/s \n",
            "\u001b[?25hBuilding wheels for collected packages: ibm-db\n",
            "  Building wheel for ibm-db (setup.py) ... \u001b[?25l\u001b[?25hdone\n",
            "  Created wheel for ibm-db: filename=ibm_db-3.0.3-cp37-cp37m-linux_x86_64.whl size=40998585 sha256=47f9efb95f2bf1bb92894b07bff25804603ace5e531355b5fdc33b0875ea7188\n",
            "  Stored in directory: /root/.cache/pip/wheels/f2/0e/c0/55fd70ce0709cb4eed1b548ce0367531f931aea30ee0abfaf0\n",
            "Successfully built ibm-db\n",
            "Installing collected packages: ibm-db\n",
            "Successfully installed ibm-db-3.0.3\n"
          ],
          "name": "stdout"
        }
      ]
    },
    {
      "cell_type": "code",
      "metadata": {
        "id": "zefqVUAt0HWo"
      },
      "source": [
        "import ibm_db"
      ],
      "execution_count": null,
      "outputs": []
    },
    {
      "cell_type": "markdown",
      "metadata": {
        "id": "ywvOQrrV2Vy7"
      },
      "source": [
        "# Task 2: Identify the database connection credentials"
      ]
    },
    {
      "cell_type": "code",
      "metadata": {
        "id": "oNPuTypq0Isd"
      },
      "source": [
        "dsn_hostname = \"dashdb-txn-sbox-yp-dal09-04.services.dal.bluemix.net\" # e.g.: \"dashdb-txn-sbox-yp-dal09-04.services.dal.bluemix.net\"\r\n",
        "dsn_uid = \"hwq67488\"        # e.g. \"abc12345\"\r\n",
        "dsn_pwd = \"88c-68fwtjfkdl5c\"      # e.g. \"7dBZ3wWt9XN6$o0J\"\r\n",
        "\r\n",
        "dsn_driver = \"{IBM DB2 ODBC DRIVER}\"\r\n",
        "dsn_database = \"BLUDB\"            # e.g. \"BLUDB\"\r\n",
        "dsn_port = \"50000\"                # e.g. \"50000\" \r\n",
        "dsn_protocol = \"TCPIP\"            # i.e. \"TCPIP\"\r\n"
      ],
      "execution_count": null,
      "outputs": []
    },
    {
      "cell_type": "markdown",
      "metadata": {
        "id": "azTnzmQz2gTB"
      },
      "source": [
        "## Task 3: Create the database connection\r\n"
      ]
    },
    {
      "cell_type": "code",
      "metadata": {
        "colab": {
          "base_uri": "https://localhost:8080/"
        },
        "id": "t-HI6GJs0jjR",
        "outputId": "6efa517a-2abe-4cb5-f6c3-160c546b8c97"
      },
      "source": [
        "#DO NOT MODIFY THIS CELL. Just RUN it with Shift + Enter\r\n",
        "#Create the dsn connection string\r\n",
        "dsn = (\r\n",
        "    \"DRIVER={0};\"\r\n",
        "    \"DATABASE={1};\"\r\n",
        "    \"HOSTNAME={2};\"\r\n",
        "    \"PORT={3};\"\r\n",
        "    \"PROTOCOL={4};\"\r\n",
        "    \"UID={5};\"\r\n",
        "    \"PWD={6};\").format(dsn_driver, dsn_database, dsn_hostname, dsn_port, dsn_protocol, dsn_uid, dsn_pwd)\r\n",
        "\r\n",
        "#print the connection string to check correct values are specified\r\n",
        "print(dsn)"
      ],
      "execution_count": null,
      "outputs": [
        {
          "output_type": "stream",
          "text": [
            "DRIVER={IBM DB2 ODBC DRIVER};DATABASE=BLUDB;HOSTNAME=dashdb-txn-sbox-yp-dal09-04.services.dal.bluemix.net;PORT=50000;PROTOCOL=TCPIP;UID=hwq67488;PWD=88c-68fwtjfkdl5c;\n"
          ],
          "name": "stdout"
        }
      ]
    },
    {
      "cell_type": "code",
      "metadata": {
        "colab": {
          "base_uri": "https://localhost:8080/"
        },
        "id": "T2WQdrOt1BFF",
        "outputId": "d21877f7-e9f4-4203-9e9d-338c5696df31"
      },
      "source": [
        "#DO NOT MODIFY THIS CELL. Just RUN it with Shift + Enter\r\n",
        "#Create database connection\r\n",
        "\r\n",
        "try:\r\n",
        "    conn = ibm_db.connect(dsn, \"\", \"\")\r\n",
        "    print (\"Connected to database: \", dsn_database, \"as user: \", dsn_uid, \"on host: \", dsn_hostname)\r\n",
        "\r\n",
        "except:\r\n",
        "    print (\"Unable to connect: \", ibm_db.conn_errormsg() )\r\n"
      ],
      "execution_count": null,
      "outputs": [
        {
          "output_type": "stream",
          "text": [
            "Connected to database:  BLUDB as user:  hwq67488 on host:  dashdb-txn-sbox-yp-dal09-04.services.dal.bluemix.net\n"
          ],
          "name": "stdout"
        }
      ]
    },
    {
      "cell_type": "markdown",
      "metadata": {
        "id": "8pqZKuGr2D1q"
      },
      "source": [
        "## Task 4: Create a table in the database\r\n"
      ]
    },
    {
      "cell_type": "code",
      "metadata": {
        "colab": {
          "base_uri": "https://localhost:8080/",
          "height": 194
        },
        "id": "NIyRnI761DSG",
        "outputId": "81ea91e6-fe02-4dee-ec94-bfa44513f8d7"
      },
      "source": [
        "#Lets first drop the table INSTRUCTOR in case it exists from a previous attempt\r\n",
        "dropQuery = \"drop table INSTRUCTOR\"\r\n",
        "\r\n",
        "#Now execute the drop statment\r\n",
        "dropStmt = ibm_db.exec_immediate(conn, dropQuery)"
      ],
      "execution_count": null,
      "outputs": [
        {
          "output_type": "error",
          "ename": "Exception",
          "evalue": "ignored",
          "traceback": [
            "\u001b[0;31m---------------------------------------------------------------------------\u001b[0m",
            "\u001b[0;31mException\u001b[0m                                 Traceback (most recent call last)",
            "\u001b[0;32m<ipython-input-9-83413676a2ca>\u001b[0m in \u001b[0;36m<module>\u001b[0;34m()\u001b[0m\n\u001b[1;32m      3\u001b[0m \u001b[0;34m\u001b[0m\u001b[0m\n\u001b[1;32m      4\u001b[0m \u001b[0;31m#Now execute the drop statment\u001b[0m\u001b[0;34m\u001b[0m\u001b[0;34m\u001b[0m\u001b[0;34m\u001b[0m\u001b[0m\n\u001b[0;32m----> 5\u001b[0;31m \u001b[0mdropStmt\u001b[0m \u001b[0;34m=\u001b[0m \u001b[0mibm_db\u001b[0m\u001b[0;34m.\u001b[0m\u001b[0mexec_immediate\u001b[0m\u001b[0;34m(\u001b[0m\u001b[0mconn\u001b[0m\u001b[0;34m,\u001b[0m \u001b[0mdropQuery\u001b[0m\u001b[0;34m)\u001b[0m\u001b[0;34m\u001b[0m\u001b[0;34m\u001b[0m\u001b[0m\n\u001b[0m",
            "\u001b[0;31mException\u001b[0m: [IBM][CLI Driver][DB2/LINUXX8664] SQL0204N  \"HWQ67488.INSTRUCTOR\" is an undefined name.  SQLSTATE=42704 SQLCODE=-204"
          ]
        }
      ]
    },
    {
      "cell_type": "code",
      "metadata": {
        "id": "w_PjsyeT1YSa"
      },
      "source": [
        "#Construct the Create Table DDL statement - replace the ... with rest of the statement\r\n",
        "createQuery = \"create table INSTRUCTOR(ID INTEGER PRIMARY KEY NOT NULL, FNAME VARCHAR(20), LNAME VARCHAR(20), CITY VARCHAR(20), CCODE CHAR(2))\"\r\n",
        "\r\n",
        "#Now fill in the name of the method and execute the statement\r\n",
        "createStmt = ibm_db.exec_immediate(conn,createQuery)"
      ],
      "execution_count": null,
      "outputs": []
    },
    {
      "cell_type": "markdown",
      "metadata": {
        "id": "SxtvOHCa2l8U"
      },
      "source": [
        "## Task 5: Insert data into the table\r\n"
      ]
    },
    {
      "cell_type": "code",
      "metadata": {
        "id": "DNUafrJl1jSk"
      },
      "source": [
        "# We will start by inserting just the first row of data, i.e. for instructor Rav Ahuja\r\n",
        "\r\n",
        "insertQuery = \"insert into INSTRUCTOR values (1, 'Rav', 'Ahuja', 'TORONTO', 'CA')\"\r\n",
        "\r\n",
        "insertStmt = ibm_db.exec_immediate(conn, insertQuery)"
      ],
      "execution_count": null,
      "outputs": []
    },
    {
      "cell_type": "code",
      "metadata": {
        "id": "QycRNP322ygP"
      },
      "source": [
        "# Now use a single query to insert the remaining two rows of data\r\n",
        "\r\n",
        "insertQuery2 = \"insert into INSTRUCTOR values (2, 'Raul', 'Chong', 'Markham', 'CA'), (3, 'Hima', 'Vasudevan', 'Chicago', 'US')\"\r\n",
        "\r\n",
        "insertStmt2 = ibm_db.exec_immediate(conn, insertQuery2)"
      ],
      "execution_count": null,
      "outputs": []
    },
    {
      "cell_type": "markdown",
      "metadata": {
        "id": "KVBh6oZP29An"
      },
      "source": [
        "## Task 6: Query data in the table"
      ]
    },
    {
      "cell_type": "code",
      "metadata": {
        "colab": {
          "base_uri": "https://localhost:8080/"
        },
        "id": "VK_7CtoK27OV",
        "outputId": "df11d3e7-528c-49ab-b0bf-2988d2275328"
      },
      "source": [
        "#Construct the query that retrieves all rows from the INSTRUCTOR table\r\n",
        "selectQuery = \"select * from INSTRUCTOR\"\r\n",
        "\r\n",
        "#Execute the statement\r\n",
        "selectStmt = ibm_db.exec_immediate(conn, selectQuery)\r\n",
        "\r\n",
        "#Fetch the Dictionary (for the first row only)\r\n",
        "ibm_db.fetch_both(selectStmt)"
      ],
      "execution_count": null,
      "outputs": [
        {
          "output_type": "execute_result",
          "data": {
            "text/plain": [
              "{0: 1,\n",
              " 1: 'Rav',\n",
              " 2: 'Ahuja',\n",
              " 3: 'TORONTO',\n",
              " 4: 'CA',\n",
              " 'CCODE': 'CA',\n",
              " 'CITY': 'TORONTO',\n",
              " 'FNAME': 'Rav',\n",
              " 'ID': 1,\n",
              " 'LNAME': 'Ahuja'}"
            ]
          },
          "metadata": {
            "tags": []
          },
          "execution_count": 15
        }
      ]
    },
    {
      "cell_type": "code",
      "metadata": {
        "colab": {
          "base_uri": "https://localhost:8080/"
        },
        "id": "hBe2r0fA3BYD",
        "outputId": "362f0b50-2768-47a5-f01a-d00aa8053280"
      },
      "source": [
        "#Fetch the rest of the rows and print the ID and FNAME for those rows\r\n",
        "while ibm_db.fetch_row(selectStmt) != False:\r\n",
        "    print (\" ID:\",  ibm_db.result(selectStmt, 0), \" FNAME:\",  ibm_db.result(selectStmt, \"FNAME\"))"
      ],
      "execution_count": null,
      "outputs": [
        {
          "output_type": "stream",
          "text": [
            " ID: 2  FNAME: Raul\n",
            " ID: 3  FNAME: Hima\n"
          ],
          "name": "stdout"
        }
      ]
    },
    {
      "cell_type": "code",
      "metadata": {
        "id": "T1YP_jfd3HXo"
      },
      "source": [
        "# Bonus: now write and execute an update statement that changes the Rav's CITY to MOOSETOWN\r\n",
        "\r\n",
        "updateQuery = \"update INSTRUCTOR set CITY='MOOSETOWN' where FNAME='Rav'\"\r\n",
        "updateStmt = ibm_db.exec_immediate(conn, updateQuery)"
      ],
      "execution_count": null,
      "outputs": []
    },
    {
      "cell_type": "markdown",
      "metadata": {
        "id": "EWwByy2u3Q8m"
      },
      "source": [
        "## Task 7: Retrieve data into Pandas"
      ]
    },
    {
      "cell_type": "code",
      "metadata": {
        "id": "ZEbBnqQD3M2S"
      },
      "source": [
        "import pandas\r\n",
        "import ibm_db_dbi"
      ],
      "execution_count": null,
      "outputs": []
    },
    {
      "cell_type": "code",
      "metadata": {
        "id": "CfCY68Z63UCj"
      },
      "source": [
        "pconn = ibm_db_dbi.Connection(conn)"
      ],
      "execution_count": null,
      "outputs": []
    },
    {
      "cell_type": "code",
      "metadata": {
        "colab": {
          "base_uri": "https://localhost:8080/",
          "height": 34
        },
        "id": "WGdJ--Y83Vgn",
        "outputId": "f4d803df-1b44-4d78-e356-4593de45472e"
      },
      "source": [
        "#query statement to retrieve all rows in INSTRUCTOR table\r\n",
        "selectQuery = \"select * from INSTRUCTOR\"\r\n",
        "\r\n",
        "#retrieve the query results into a pandas dataframe\r\n",
        "pdf = pandas.read_sql(selectQuery, pconn)\r\n",
        "\r\n",
        "#print just the LNAME for first row in the pandas data frame\r\n",
        "pdf.LNAME[0]"
      ],
      "execution_count": null,
      "outputs": [
        {
          "output_type": "execute_result",
          "data": {
            "application/vnd.google.colaboratory.intrinsic+json": {
              "type": "string"
            },
            "text/plain": [
              "'Ahuja'"
            ]
          },
          "metadata": {
            "tags": []
          },
          "execution_count": 21
        }
      ]
    },
    {
      "cell_type": "code",
      "metadata": {
        "colab": {
          "base_uri": "https://localhost:8080/",
          "height": 137
        },
        "id": "20kR1M5B3XR0",
        "outputId": "04bfeee4-0ee1-47b4-88c8-54d65880b297"
      },
      "source": [
        "#print the entire data frame\r\n",
        "pdf"
      ],
      "execution_count": null,
      "outputs": [
        {
          "output_type": "execute_result",
          "data": {
            "text/html": [
              "<div>\n",
              "<style scoped>\n",
              "    .dataframe tbody tr th:only-of-type {\n",
              "        vertical-align: middle;\n",
              "    }\n",
              "\n",
              "    .dataframe tbody tr th {\n",
              "        vertical-align: top;\n",
              "    }\n",
              "\n",
              "    .dataframe thead th {\n",
              "        text-align: right;\n",
              "    }\n",
              "</style>\n",
              "<table border=\"1\" class=\"dataframe\">\n",
              "  <thead>\n",
              "    <tr style=\"text-align: right;\">\n",
              "      <th></th>\n",
              "      <th>ID</th>\n",
              "      <th>FNAME</th>\n",
              "      <th>LNAME</th>\n",
              "      <th>CITY</th>\n",
              "      <th>CCODE</th>\n",
              "    </tr>\n",
              "  </thead>\n",
              "  <tbody>\n",
              "    <tr>\n",
              "      <th>0</th>\n",
              "      <td>1</td>\n",
              "      <td>Rav</td>\n",
              "      <td>Ahuja</td>\n",
              "      <td>MOOSETOWN</td>\n",
              "      <td>CA</td>\n",
              "    </tr>\n",
              "    <tr>\n",
              "      <th>1</th>\n",
              "      <td>2</td>\n",
              "      <td>Raul</td>\n",
              "      <td>Chong</td>\n",
              "      <td>Markham</td>\n",
              "      <td>CA</td>\n",
              "    </tr>\n",
              "    <tr>\n",
              "      <th>2</th>\n",
              "      <td>3</td>\n",
              "      <td>Hima</td>\n",
              "      <td>Vasudevan</td>\n",
              "      <td>Chicago</td>\n",
              "      <td>US</td>\n",
              "    </tr>\n",
              "  </tbody>\n",
              "</table>\n",
              "</div>"
            ],
            "text/plain": [
              "   ID FNAME      LNAME       CITY CCODE\n",
              "0   1   Rav      Ahuja  MOOSETOWN    CA\n",
              "1   2  Raul      Chong    Markham    CA\n",
              "2   3  Hima  Vasudevan    Chicago    US"
            ]
          },
          "metadata": {
            "tags": []
          },
          "execution_count": 22
        }
      ]
    },
    {
      "cell_type": "markdown",
      "metadata": {
        "id": "zfdGTNup3ldL"
      },
      "source": [
        "## Task 8: Close the Connection"
      ]
    },
    {
      "cell_type": "code",
      "metadata": {
        "colab": {
          "base_uri": "https://localhost:8080/"
        },
        "id": "mC2Z5sCf3Zbw",
        "outputId": "90d00c92-acc9-446f-8600-b4056786bb39"
      },
      "source": [
        "ibm_db.close(conn)"
      ],
      "execution_count": null,
      "outputs": [
        {
          "output_type": "execute_result",
          "data": {
            "text/plain": [
              "True"
            ]
          },
          "metadata": {
            "tags": []
          },
          "execution_count": 23
        }
      ]
    },
    {
      "cell_type": "code",
      "metadata": {
        "id": "YkBZmr8y3oJz"
      },
      "source": [
        ""
      ],
      "execution_count": null,
      "outputs": []
    }
  ]
}