{
  "nbformat": 4,
  "nbformat_minor": 0,
  "metadata": {
    "colab": {
      "name": "SQL_Coursera_hands_on.ipynb",
      "provenance": [],
      "collapsed_sections": [
        "f0Zl9Sh30RoE",
        "INaHP9h5dUF0"
      ]
    },
    "kernelspec": {
      "display_name": "Python 3",
      "language": "python",
      "name": "python3"
    },
    "language_info": {
      "codemirror_mode": {
        "name": "ipython",
        "version": 3
      },
      "file_extension": ".py",
      "mimetype": "text/x-python",
      "name": "python",
      "nbconvert_exporter": "python",
      "pygments_lexer": "ipython3",
      "version": "3.8.5"
    }
  },
  "cells": [
    {
      "cell_type": "markdown",
      "metadata": {
        "id": "mZoctzBlzph5"
      },
      "source": [
        "# Hands on LAB - SQL - COURSERA"
      ]
    },
    {
      "cell_type": "markdown",
      "metadata": {
        "id": "VaP-NTkRCHJU"
      },
      "source": [
        "This notebook records the main SQL practice commands of the IBM Data Science professional certification.\n",
        "Unlike the execution in IBM's cloud based database environment, this notebook uses a Python library that encapsulates SQL."
      ]
    },
    {
      "cell_type": "markdown",
      "metadata": {
        "id": "-nU3BL9izxX-"
      },
      "source": [
        "# A | Composing and Running Basic SQL Queries"
      ]
    },
    {
      "cell_type": "markdown",
      "metadata": {
        "id": "f0Zl9Sh30RoE"
      },
      "source": [
        "### Setup"
      ]
    },
    {
      "cell_type": "code",
      "metadata": {
        "id": "hidden-parade"
      },
      "source": [
        "#importing library that encapsulates SQL in Python\n",
        "import sqlite3\n",
        "\n",
        "#Creating a variable to generate the database file\n",
        "bd = sqlite3.connect('Coursera.db')"
      ],
      "execution_count": null,
      "outputs": []
    },
    {
      "cell_type": "code",
      "metadata": {
        "id": "republican-control"
      },
      "source": [
        "#Creating a variable to easyly call the cursor\n",
        "cursor = bd.cursor()"
      ],
      "execution_count": null,
      "outputs": []
    },
    {
      "cell_type": "markdown",
      "metadata": {
        "id": "6byBX9Xaqzm0"
      },
      "source": [
        "### Task 0: Drop the table INSTRUCTOR from the database in case it already exists, so that we start from a clean state."
      ]
    },
    {
      "cell_type": "code",
      "metadata": {
        "colab": {
          "base_uri": "https://localhost:8080/"
        },
        "id": "jOxYG3uA0bMG",
        "outputId": "cd595103-5e9a-4405-88a3-188c30634b41"
      },
      "source": [
        "cursor.execute('''\n",
        "              DROP TABLE IF EXISTS instructor\n",
        "              ''')"
      ],
      "execution_count": null,
      "outputs": [
        {
          "output_type": "execute_result",
          "data": {
            "text/plain": [
              "<sqlite3.Cursor at 0x7ff34837d730>"
            ]
          },
          "metadata": {
            "tags": []
          },
          "execution_count": 3
        }
      ]
    },
    {
      "cell_type": "markdown",
      "metadata": {
        "id": "xymWOhb6uXZn"
      },
      "source": [
        "### Task 1: Create the INSTRUCTOR table as defined above. Have the ins_id be the primary key, and ensure the lastname and firstname are not null.\n",
        "\n",
        "(Hint: ins_id is of type INTEGER, country of type CHAR(2), and rest of the fields VARCHAR)"
      ]
    },
    {
      "cell_type": "code",
      "metadata": {
        "colab": {
          "base_uri": "https://localhost:8080/"
        },
        "id": "sXiPlzjh1BE0",
        "outputId": "3dac690a-2992-4a25-aedb-bf4e81fd1afb"
      },
      "source": [
        "cursor.execute('''\n",
        "              CREATE TABLE IF NOT EXISTS instructor\n",
        "              (ins_id INTEGER PRIMARY KEY NOT NULL,\n",
        "              last_name VARCHAR(15) NOT NULL,\n",
        "              first_name VARCHAR(15) NOT NULL,\n",
        "              city VARCHAR(15),\n",
        "              country CHAR(2)\n",
        "              )\n",
        "              ''')"
      ],
      "execution_count": null,
      "outputs": [
        {
          "output_type": "execute_result",
          "data": {
            "text/plain": [
              "<sqlite3.Cursor at 0x7ff34837d730>"
            ]
          },
          "metadata": {
            "tags": []
          },
          "execution_count": 4
        }
      ]
    },
    {
      "cell_type": "code",
      "metadata": {
        "colab": {
          "base_uri": "https://localhost:8080/"
        },
        "id": "Y9pbWELf5FLD",
        "outputId": "67de3d8b-a8c1-476a-8924-ca2b32327385"
      },
      "source": [
        "cursor.execute(\"PRAGMA table_info(instructor)\").fetchall()"
      ],
      "execution_count": null,
      "outputs": [
        {
          "output_type": "execute_result",
          "data": {
            "text/plain": [
              "[(0, 'ins_id', 'INTEGER', 1, None, 1),\n",
              " (1, 'last_name', 'VARCHAR(15)', 1, None, 0),\n",
              " (2, 'first_name', 'VARCHAR(15)', 1, None, 0),\n",
              " (3, 'city', 'VARCHAR(15)', 0, None, 0),\n",
              " (4, 'country', 'CHAR(2)', 0, None, 0)]"
            ]
          },
          "metadata": {
            "tags": []
          },
          "execution_count": 5
        }
      ]
    },
    {
      "cell_type": "markdown",
      "metadata": {
        "id": "pd24sGSmudjS"
      },
      "source": [
        "### Task 2: Insert one row into the INSTRUCTOR table for the the instructor Rav Ahuja.\n",
        "\n",
        "(Hint: values for the character fields require a singe quotation mark (') before and after each value)"
      ]
    },
    {
      "cell_type": "code",
      "metadata": {
        "colab": {
          "base_uri": "https://localhost:8080/"
        },
        "id": "3ltsRf3S5Pu6",
        "outputId": "5c5e3cad-922f-4cd4-ee22-ac991739d61c"
      },
      "source": [
        "cursor.execute('''\n",
        "              INSERT INTO instructor\n",
        "              (ins_id, last_name,first_name, city, country)\n",
        "              VALUES\n",
        "              (1, 'Ahuja', 'Rav', 'Toronto', 'CA');\n",
        "              ''')"
      ],
      "execution_count": null,
      "outputs": [
        {
          "output_type": "execute_result",
          "data": {
            "text/plain": [
              "<sqlite3.Cursor at 0x7ff34837d730>"
            ]
          },
          "metadata": {
            "tags": []
          },
          "execution_count": 6
        }
      ]
    },
    {
      "cell_type": "markdown",
      "metadata": {
        "id": "5yIlGBTmug99"
      },
      "source": [
        "### Task 2B: Insert two rows at once in the INSTRUCTOR table for instructors Raul Chong and Hima Vasudevan.\n",
        "\n",
        "(Hint: list the values for the second row after the first row)"
      ]
    },
    {
      "cell_type": "code",
      "metadata": {
        "colab": {
          "base_uri": "https://localhost:8080/"
        },
        "id": "FKcwB6uY8-lL",
        "outputId": "75d6a2da-58f5-42ab-a17e-0347ed195b78"
      },
      "source": [
        "cursor.execute('''\n",
        "              INSERT INTO instructor\n",
        "              VALUES\n",
        "              (2, 'Chong', 'Raul', 'Toronto', 'CA'),\n",
        "              (3, 'Vasudevan', 'Hima', 'Chicago', 'US');\n",
        "              ''')"
      ],
      "execution_count": null,
      "outputs": [
        {
          "output_type": "execute_result",
          "data": {
            "text/plain": [
              "<sqlite3.Cursor at 0x7ff34837d730>"
            ]
          },
          "metadata": {
            "tags": []
          },
          "execution_count": 7
        }
      ]
    },
    {
      "cell_type": "code",
      "metadata": {
        "id": "secret-hampton"
      },
      "source": [
        "#a different solution\n",
        "# instructors = [(2, 'Chong', 'Raul', 'Toronto', 'CA'),(3, 'Vasudevan', 'Hima', 'Chicago', 'US')]\n",
        "# cursor.executemany('INSERT INTO person VALUES(?, ?, ?, ?, ?)', instructors)"
      ],
      "execution_count": null,
      "outputs": []
    },
    {
      "cell_type": "markdown",
      "metadata": {
        "id": "wg9d5wh0umzZ"
      },
      "source": [
        "### Task 3: Select all rows from the INSTRUCTOR table."
      ]
    },
    {
      "cell_type": "code",
      "metadata": {
        "colab": {
          "base_uri": "https://localhost:8080/"
        },
        "id": "Oe-UYwzl-2vE",
        "outputId": "8f630354-39d4-428e-af1d-e68e6ea6aa92"
      },
      "source": [
        "cursor.execute('SELECT * FROM instructor').fetchall()"
      ],
      "execution_count": null,
      "outputs": [
        {
          "output_type": "execute_result",
          "data": {
            "text/plain": [
              "[(1, 'Ahuja', 'Rav', 'Toronto', 'CA'),\n",
              " (2, 'Chong', 'Raul', 'Toronto', 'CA'),\n",
              " (3, 'Vasudevan', 'Hima', 'Chicago', 'US')]"
            ]
          },
          "metadata": {
            "tags": []
          },
          "execution_count": 9
        }
      ]
    },
    {
      "cell_type": "markdown",
      "metadata": {
        "id": "HYoKvzz3uq-Q"
      },
      "source": [
        "### Task 3B: Select the firstname, lastname and country where the city is Toronto"
      ]
    },
    {
      "cell_type": "code",
      "metadata": {
        "colab": {
          "base_uri": "https://localhost:8080/"
        },
        "id": "e0zFL-GK_ZOa",
        "outputId": "571a602a-85db-425d-81d3-d91e048032d4"
      },
      "source": [
        "cursor.execute('SELECT first_name, last_name, country FROM instructor WHERE city = \"Toronto\"').fetchall()"
      ],
      "execution_count": null,
      "outputs": [
        {
          "output_type": "execute_result",
          "data": {
            "text/plain": [
              "[('Rav', 'Ahuja', 'CA'), ('Raul', 'Chong', 'CA')]"
            ]
          },
          "metadata": {
            "tags": []
          },
          "execution_count": 10
        }
      ]
    },
    {
      "cell_type": "markdown",
      "metadata": {
        "id": "GfplQoxzvQKf"
      },
      "source": [
        "### Task 4: Update the row for Rav Ahuja and change his city to Markham."
      ]
    },
    {
      "cell_type": "code",
      "metadata": {
        "colab": {
          "base_uri": "https://localhost:8080/"
        },
        "id": "B3pkoGGeX8Jg",
        "outputId": "71a8d4bc-dc0e-4b89-b119-fc2f467482dd"
      },
      "source": [
        "cursor.execute('SELECT * FROM instructor').fetchall()"
      ],
      "execution_count": null,
      "outputs": [
        {
          "output_type": "execute_result",
          "data": {
            "text/plain": [
              "[(1, 'Ahuja', 'Rav', 'Toronto', 'CA'),\n",
              " (2, 'Chong', 'Raul', 'Toronto', 'CA'),\n",
              " (3, 'Vasudevan', 'Hima', 'Chicago', 'US')]"
            ]
          },
          "metadata": {
            "tags": []
          },
          "execution_count": 11
        }
      ]
    },
    {
      "cell_type": "code",
      "metadata": {
        "colab": {
          "base_uri": "https://localhost:8080/"
        },
        "id": "30X2743NDlTP",
        "outputId": "46b97ae5-cc99-48b9-89ec-3d46c0defa41"
      },
      "source": [
        "cursor.execute('UPDATE instructor SET city = \"Markham\" WHERE ins_id = 1').fetchall()"
      ],
      "execution_count": null,
      "outputs": [
        {
          "output_type": "execute_result",
          "data": {
            "text/plain": [
              "[]"
            ]
          },
          "metadata": {
            "tags": []
          },
          "execution_count": 12
        }
      ]
    },
    {
      "cell_type": "code",
      "metadata": {
        "colab": {
          "base_uri": "https://localhost:8080/"
        },
        "id": "gXAVJOWmXxjh",
        "outputId": "69610886-dc8b-41c5-9b3a-f0b5e84f8ff6"
      },
      "source": [
        "cursor.execute('SELECT * FROM instructor').fetchall()"
      ],
      "execution_count": null,
      "outputs": [
        {
          "output_type": "execute_result",
          "data": {
            "text/plain": [
              "[(1, 'Ahuja', 'Rav', 'Markham', 'CA'),\n",
              " (2, 'Chong', 'Raul', 'Toronto', 'CA'),\n",
              " (3, 'Vasudevan', 'Hima', 'Chicago', 'US')]"
            ]
          },
          "metadata": {
            "tags": []
          },
          "execution_count": 13
        }
      ]
    },
    {
      "cell_type": "markdown",
      "metadata": {
        "id": "qhugy6HVvTYO"
      },
      "source": [
        "### Task 5: Delete the row for Raul Chong from the table."
      ]
    },
    {
      "cell_type": "code",
      "metadata": {
        "colab": {
          "base_uri": "https://localhost:8080/"
        },
        "id": "nqd1xyI_X-AP",
        "outputId": "0dcc2419-c387-4f69-9aee-fb414fa64541"
      },
      "source": [
        "cursor.execute('SELECT * FROM instructor').fetchall()"
      ],
      "execution_count": null,
      "outputs": [
        {
          "output_type": "execute_result",
          "data": {
            "text/plain": [
              "[(1, 'Ahuja', 'Rav', 'Markham', 'CA'),\n",
              " (2, 'Chong', 'Raul', 'Toronto', 'CA'),\n",
              " (3, 'Vasudevan', 'Hima', 'Chicago', 'US')]"
            ]
          },
          "metadata": {
            "tags": []
          },
          "execution_count": 14
        }
      ]
    },
    {
      "cell_type": "code",
      "metadata": {
        "colab": {
          "base_uri": "https://localhost:8080/"
        },
        "id": "jTUOeQacDl05",
        "outputId": "490f5394-2181-4a16-c75e-fe2612d7c64f"
      },
      "source": [
        "cursor.execute('DELETE FROM instructor WHERE ins_id = 2').fetchall()"
      ],
      "execution_count": null,
      "outputs": [
        {
          "output_type": "execute_result",
          "data": {
            "text/plain": [
              "[]"
            ]
          },
          "metadata": {
            "tags": []
          },
          "execution_count": 15
        }
      ]
    },
    {
      "cell_type": "markdown",
      "metadata": {
        "id": "snEna7mlwZ4P"
      },
      "source": [
        "\n",
        "### Task 5B: Retrieve all rows in the INSTRUCTOR table"
      ]
    },
    {
      "cell_type": "code",
      "metadata": {
        "colab": {
          "base_uri": "https://localhost:8080/"
        },
        "id": "dT4OSiCfuluj",
        "outputId": "4f82521b-4aed-478d-bb8b-4ad35d710ed9"
      },
      "source": [
        "cursor.execute('SELECT * FROM instructor').fetchall()"
      ],
      "execution_count": null,
      "outputs": [
        {
          "output_type": "execute_result",
          "data": {
            "text/plain": [
              "[(1, 'Ahuja', 'Rav', 'Markham', 'CA'),\n",
              " (3, 'Vasudevan', 'Hima', 'Chicago', 'US')]"
            ]
          },
          "metadata": {
            "tags": []
          },
          "execution_count": 16
        }
      ]
    },
    {
      "cell_type": "code",
      "metadata": {
        "colab": {
          "base_uri": "https://localhost:8080/"
        },
        "id": "5shYCnsTqpkK",
        "outputId": "e7b4c6e3-3d09-4fd4-da0b-a229af14d124"
      },
      "source": [
        "bd.commit"
      ],
      "execution_count": null,
      "outputs": [
        {
          "output_type": "execute_result",
          "data": {
            "text/plain": [
              "<function Connection.commit>"
            ]
          },
          "metadata": {
            "tags": []
          },
          "execution_count": 17
        }
      ]
    },
    {
      "cell_type": "code",
      "metadata": {
        "id": "VDSj60lGYBDW"
      },
      "source": [
        "bd.close()"
      ],
      "execution_count": null,
      "outputs": []
    },
    {
      "cell_type": "markdown",
      "metadata": {
        "id": "yhMI0LkSfZ_p"
      },
      "source": [
        "# B | String Patterns, Sorting & Grouping"
      ]
    },
    {
      "cell_type": "markdown",
      "metadata": {
        "id": "INaHP9h5dUF0"
      },
      "source": [
        "## Set up"
      ]
    },
    {
      "cell_type": "code",
      "metadata": {
        "id": "2ZI6hycliC5m"
      },
      "source": [
        "#importing library that encapsulates SQL in Python\n",
        "import sqlite3\n",
        "\n",
        "#Creating a variable to generate the database file\n",
        "bd = sqlite3.connect('Coursera.db')"
      ],
      "execution_count": null,
      "outputs": []
    },
    {
      "cell_type": "code",
      "metadata": {
        "id": "HMus6uI9iC5m"
      },
      "source": [
        "#Creating a variable to easyly call the cursor\n",
        "cursor = bd.cursor()"
      ],
      "execution_count": null,
      "outputs": []
    },
    {
      "cell_type": "markdown",
      "metadata": {
        "id": "I0uzlOXjdbxV"
      },
      "source": [
        "## Creating tables"
      ]
    },
    {
      "cell_type": "code",
      "metadata": {
        "id": "heEiS3r9KgtT"
      },
      "source": [
        "#Creating a variable that create the 4 tables\n",
        "\n",
        "SQL = \"\"\" \n",
        "          CREATE TABLE IF NOT EXISTS employees (\n",
        "              emp_id CHAR(9) PRIMARY KEY NOT NULL, \n",
        "              f_name VARCHAR(15) NOT NULL,\n",
        "              l_name VARCHAR(15) NOT NULL,\n",
        "              ssn CHAR(9),\n",
        "              b_date DATE,\n",
        "              sex CHAR,\n",
        "              address VARCHAR(30),\n",
        "              job_id CHAR(9),\n",
        "              salary DECIMAL(10,2),\n",
        "              manager_id CHAR(9),\n",
        "              dep_id CHAR(9) NOT NULL\n",
        "              );\n",
        "                            \n",
        "        CREATE TABLE IF NOT EXISTS job_history (\n",
        "              empl_id CHAR(9) PRIMARY KEY NOT NULL, \n",
        "              start_date DATE,\n",
        "              jobs_id CHAR(9) NOT NULL,\n",
        "              dept_id CHAR(9)\n",
        "              );\n",
        " \n",
        "        CREATE TABLE IF NOT EXISTS jobs (\n",
        "              job_ident CHAR(9) PRIMARY KEY NOT NULL, \n",
        "              job_title VARCHAR(15) ,\n",
        "              min_salary DECIMAL(10,2),\n",
        "              max_salary DECIMAL(10,2)\n",
        "              );\n",
        "\n",
        "        CREATE TABLE IF NOT EXISTS departments (\n",
        "              dept_id_dep CHAR(9) PRIMARY KEY NOT NULL, \n",
        "              dep_name VARCHAR(15),\n",
        "              manager_id CHAR(9),\n",
        "              loc_id CHAR(9)\n",
        "              );\n",
        "\n",
        "        CREATE TABLE IF NOT EXISTS locations (\n",
        "              loct_id CHAR(9) PRIMARY KEY NOT NULL,\n",
        "              dep_id_loc CHAR(9) NOT NULL\n",
        "              );\n",
        "\n",
        "        \"\"\""
      ],
      "execution_count": null,
      "outputs": []
    },
    {
      "cell_type": "code",
      "metadata": {
        "colab": {
          "base_uri": "https://localhost:8080/"
        },
        "id": "environmental-title",
        "outputId": "70b35efb-860b-433c-c397-a2b4450a1731"
      },
      "source": [
        "cursor.executescript(SQL)"
      ],
      "execution_count": null,
      "outputs": [
        {
          "output_type": "execute_result",
          "data": {
            "text/plain": [
              "<sqlite3.Cursor at 0x7ff3483b46c0>"
            ]
          },
          "metadata": {
            "tags": []
          },
          "execution_count": 22
        }
      ]
    },
    {
      "cell_type": "code",
      "metadata": {
        "id": "enCKWAtXaxRB"
      },
      "source": [
        "#updating database\n",
        "bd.commit()"
      ],
      "execution_count": null,
      "outputs": []
    },
    {
      "cell_type": "markdown",
      "metadata": {
        "id": "80BydA26dl88"
      },
      "source": [
        "## Created tables checking"
      ]
    },
    {
      "cell_type": "code",
      "metadata": {
        "colab": {
          "base_uri": "https://localhost:8080/"
        },
        "id": "compliant-priority",
        "outputId": "f2636394-ab6c-436f-da18-1deb49e99ddf"
      },
      "source": [
        "cursor.execute(\"PRAGMA table_info(employees)\").fetchall()"
      ],
      "execution_count": null,
      "outputs": [
        {
          "output_type": "execute_result",
          "data": {
            "text/plain": [
              "[(0, 'emp_id', 'CHAR(9)', 1, None, 1),\n",
              " (1, 'f_name', 'VARCHAR(15)', 1, None, 0),\n",
              " (2, 'l_name', 'VARCHAR(15)', 1, None, 0),\n",
              " (3, 'ssn', 'CHAR(9)', 0, None, 0),\n",
              " (4, 'b_date', 'DATE', 0, None, 0),\n",
              " (5, 'sex', 'CHAR', 0, None, 0),\n",
              " (6, 'address', 'VARCHAR(30)', 0, None, 0),\n",
              " (7, 'job_id', 'CHAR(9)', 0, None, 0),\n",
              " (8, 'salary', 'DECIMAL(10,2)', 0, None, 0),\n",
              " (9, 'manager_id', 'CHAR(9)', 0, None, 0),\n",
              " (10, 'dep_id', 'CHAR(9)', 1, None, 0)]"
            ]
          },
          "metadata": {
            "tags": []
          },
          "execution_count": 24
        }
      ]
    },
    {
      "cell_type": "code",
      "metadata": {
        "colab": {
          "base_uri": "https://localhost:8080/"
        },
        "id": "xUpLgX561nDl",
        "outputId": "d93d52c1-5bae-435c-e9cf-22b80af7cc86"
      },
      "source": [
        "cursor.execute(\"PRAGMA table_info(job_history)\").fetchall()"
      ],
      "execution_count": null,
      "outputs": [
        {
          "output_type": "execute_result",
          "data": {
            "text/plain": [
              "[(0, 'empl_id', 'CHAR(9)', 1, None, 1),\n",
              " (1, 'start_date', 'DATE', 0, None, 0),\n",
              " (2, 'jobs_id', 'CHAR(9)', 1, None, 0),\n",
              " (3, 'dept_id', 'CHAR(9)', 0, None, 0)]"
            ]
          },
          "metadata": {
            "tags": []
          },
          "execution_count": 25
        }
      ]
    },
    {
      "cell_type": "code",
      "metadata": {
        "colab": {
          "base_uri": "https://localhost:8080/"
        },
        "id": "2dSNwpJZR8a5",
        "outputId": "c58a673b-dbdf-427a-f2a0-d730c0107667"
      },
      "source": [
        "cursor.execute(\"PRAGMA table_info(jobs)\").fetchall()"
      ],
      "execution_count": null,
      "outputs": [
        {
          "output_type": "execute_result",
          "data": {
            "text/plain": [
              "[(0, 'job_ident', 'CHAR(9)', 1, None, 1),\n",
              " (1, 'job_title', 'VARCHAR(15)', 0, None, 0),\n",
              " (2, 'min_salary', 'DECIMAL(10,2)', 0, None, 0),\n",
              " (3, 'max_salary', 'DECIMAL(10,2)', 0, None, 0)]"
            ]
          },
          "metadata": {
            "tags": []
          },
          "execution_count": 26
        }
      ]
    },
    {
      "cell_type": "code",
      "metadata": {
        "colab": {
          "base_uri": "https://localhost:8080/"
        },
        "id": "9ylNDUn8R9Az",
        "outputId": "bb661335-a981-46b3-cba1-ca5761dcbcbb"
      },
      "source": [
        "cursor.execute(\"PRAGMA table_info(departments)\").fetchall()"
      ],
      "execution_count": null,
      "outputs": [
        {
          "output_type": "execute_result",
          "data": {
            "text/plain": [
              "[(0, 'dept_id_dep', 'CHAR(9)', 1, None, 1),\n",
              " (1, 'dep_name', 'VARCHAR(15)', 0, None, 0),\n",
              " (2, 'manager_id', 'CHAR(9)', 0, None, 0),\n",
              " (3, 'loc_id', 'CHAR(9)', 0, None, 0)]"
            ]
          },
          "metadata": {
            "tags": []
          },
          "execution_count": 27
        }
      ]
    },
    {
      "cell_type": "code",
      "metadata": {
        "colab": {
          "base_uri": "https://localhost:8080/"
        },
        "id": "PZPwV177n0KK",
        "outputId": "50b6616d-281d-4669-e19b-948b1c4875c2"
      },
      "source": [
        "cursor.execute(\"PRAGMA table_info(locations)\").fetchall()"
      ],
      "execution_count": null,
      "outputs": [
        {
          "output_type": "execute_result",
          "data": {
            "text/plain": [
              "[(0, 'loct_id', 'CHAR(9)', 1, None, 1),\n",
              " (1, 'dep_id_loc', 'CHAR(9)', 1, None, 0)]"
            ]
          },
          "metadata": {
            "tags": []
          },
          "execution_count": 28
        }
      ]
    },
    {
      "cell_type": "markdown",
      "metadata": {
        "id": "QZX4TSYnduEA"
      },
      "source": [
        "## Populating tables from CSV uploaded files"
      ]
    },
    {
      "cell_type": "code",
      "metadata": {
        "id": "4RQxw1I5rR-Q"
      },
      "source": [
        "import csv"
      ],
      "execution_count": null,
      "outputs": []
    },
    {
      "cell_type": "code",
      "metadata": {
        "id": "decent-runner"
      },
      "source": [
        "csv_file = open('/Users/thiagocarvalho/Documents/DataScience_BigData/Bootcamp_infnet/notebooks/SQL/Employees.csv')\n",
        "employees_data = csv.reader(csv_file)"
      ],
      "execution_count": null,
      "outputs": []
    },
    {
      "cell_type": "code",
      "metadata": {
        "colab": {
          "base_uri": "https://localhost:8080/"
        },
        "id": "institutional-engineering",
        "outputId": "41d7ad16-798c-419c-e00e-324181504864"
      },
      "source": [
        "cursor.executemany('INSERT INTO employees VALUES(?, ?, ?, ?, ?, ?, ?, ?, ?, ?, ?)', employees_data)"
      ],
      "execution_count": null,
      "outputs": [
        {
          "output_type": "execute_result",
          "data": {
            "text/plain": [
              "<sqlite3.Cursor at 0x7ff3483b46c0>"
            ]
          },
          "metadata": {
            "tags": []
          },
          "execution_count": 32
        }
      ]
    },
    {
      "cell_type": "code",
      "metadata": {
        "id": "Ay_7giw_zMcI"
      },
      "source": [
        "csv_file = open('/Users/thiagocarvalho/Documents/DataScience_BigData/Coursera/SQL/Job_History.csv')\n",
        "job_history_data = csv.reader(csv_file)"
      ],
      "execution_count": null,
      "outputs": []
    },
    {
      "cell_type": "code",
      "metadata": {
        "colab": {
          "base_uri": "https://localhost:8080/"
        },
        "id": "YlVr7591zg0-",
        "outputId": "71f0419f-28c0-43c6-c6a8-41bc9e364499"
      },
      "source": [
        "cursor.executemany('INSERT INTO job_history VALUES(?, ?, ?, ?)', job_history_data)"
      ],
      "execution_count": null,
      "outputs": [
        {
          "output_type": "execute_result",
          "data": {
            "text/plain": [
              "<sqlite3.Cursor at 0x7ff3483b46c0>"
            ]
          },
          "metadata": {
            "tags": []
          },
          "execution_count": 34
        }
      ]
    },
    {
      "cell_type": "code",
      "metadata": {
        "id": "kKjCvmFRRXk8"
      },
      "source": [
        "csv_file = open('/Users/thiagocarvalho/Documents/DataScience_BigData/Coursera/SQL/Jobs.csv')\n",
        "jobs_data = csv.reader(csv_file)"
      ],
      "execution_count": null,
      "outputs": []
    },
    {
      "cell_type": "code",
      "metadata": {
        "colab": {
          "base_uri": "https://localhost:8080/"
        },
        "id": "bsieEaa-SSxe",
        "outputId": "ceca8ea8-b122-4474-f6e2-01c85787d463"
      },
      "source": [
        "cursor.executemany('INSERT INTO jobs VALUES(?, ?, ?, ?)', jobs_data)"
      ],
      "execution_count": null,
      "outputs": [
        {
          "output_type": "execute_result",
          "data": {
            "text/plain": [
              "<sqlite3.Cursor at 0x7ff3483b46c0>"
            ]
          },
          "metadata": {
            "tags": []
          },
          "execution_count": 36
        }
      ]
    },
    {
      "cell_type": "code",
      "metadata": {
        "id": "yrUufMD5RZhY"
      },
      "source": [
        "csv_file = open('/Users/thiagocarvalho/Documents/DataScience_BigData/Coursera/SQL/Departaments.csv')\n",
        "departments2_data = csv.reader(csv_file)"
      ],
      "execution_count": null,
      "outputs": []
    },
    {
      "cell_type": "code",
      "metadata": {
        "colab": {
          "base_uri": "https://localhost:8080/"
        },
        "id": "CMHvGObfSTUb",
        "outputId": "43a4636e-1b77-461a-f723-03d84143dc34"
      },
      "source": [
        "cursor.executemany('INSERT INTO departments VALUES(?, ?, ?, ?)', departments2_data)\n",
        "# in the original csv there were two departaments with the same Id and Name\n",
        "# and a error result was found -> Unique constraint failed\n",
        "# Solution: change the data record -> 2nd appearance of Software department code was \n",
        "#           manually set as 8 and named with a 2 at the end the CSV file and uploaded again."
      ],
      "execution_count": null,
      "outputs": [
        {
          "output_type": "execute_result",
          "data": {
            "text/plain": [
              "<sqlite3.Cursor at 0x7ff3483b46c0>"
            ]
          },
          "metadata": {
            "tags": []
          },
          "execution_count": 38
        }
      ]
    },
    {
      "cell_type": "code",
      "metadata": {
        "id": "t8aHyjsIonkr"
      },
      "source": [
        "csv_file = open('/Users/thiagocarvalho/Documents/DataScience_BigData/Coursera/SQL/Location.csv')\n",
        "locations_data = csv.reader(csv_file)"
      ],
      "execution_count": null,
      "outputs": []
    },
    {
      "cell_type": "code",
      "metadata": {
        "colab": {
          "base_uri": "https://localhost:8080/"
        },
        "id": "MugEltcYonYV",
        "outputId": "a19a1368-daee-4bf5-9fe4-8d6a4b826a36"
      },
      "source": [
        "cursor.executemany('INSERT INTO locations VALUES(?, ?)', locations_data)"
      ],
      "execution_count": null,
      "outputs": [
        {
          "output_type": "execute_result",
          "data": {
            "text/plain": [
              "<sqlite3.Cursor at 0x7ff3483b46c0>"
            ]
          },
          "metadata": {
            "tags": []
          },
          "execution_count": 40
        }
      ]
    },
    {
      "cell_type": "code",
      "metadata": {
        "id": "q4Skdleua2Jn"
      },
      "source": [
        "#updating database\n",
        "bd.commit()"
      ],
      "execution_count": null,
      "outputs": []
    },
    {
      "cell_type": "markdown",
      "metadata": {
        "id": "z1PoHbWTCHJq"
      },
      "source": [
        "## Inserted data checking"
      ]
    },
    {
      "cell_type": "code",
      "metadata": {
        "id": "RTle15ntCHJq"
      },
      "source": [
        "#creating function to print table lables on selects\n",
        "def header(sql_table):\n",
        "    data = cursor.execute(sql_table)\n",
        "    header =[header[0] for header in data.description]\n",
        "    print(header)\n",
        "    for row in data:\n",
        "      print(row)"
      ],
      "execution_count": null,
      "outputs": []
    },
    {
      "cell_type": "code",
      "metadata": {
        "id": "ESt09m9zCHJr",
        "outputId": "86d48926-498b-476a-98c4-9cea0f11ad26"
      },
      "source": [
        "header(\"SELECT * FROM employees LIMIT 3\")"
      ],
      "execution_count": null,
      "outputs": [
        {
          "output_type": "stream",
          "text": [
            "['emp_id', 'f_name', 'l_name', 'ssn', 'b_date', 'sex', 'address', 'job_id', 'salary', 'manager_id', 'dep_id']\n",
            "('E1001', 'John', 'Thomas', '123456', '01/09/1976', 'M', '5631 Rice, OakPark,IL', '100', 100000, '30001', '2')\n",
            "('E1002', 'Alice', 'James', '123457', '07/31/1972', 'F', '980 Berry ln, Elgin,IL', '200', 80000, '30002', '5')\n",
            "('E1003', 'Steve', 'Wells', '123458', '08/10/1980', 'M', '291 Springs, Gary,IL', '300', 50000, '30002', '5')\n"
          ],
          "name": "stdout"
        }
      ]
    },
    {
      "cell_type": "code",
      "metadata": {
        "id": "a7vu-ctuCHJr",
        "outputId": "f7bfa686-fb2f-40de-d60e-ad5b1ad33391"
      },
      "source": [
        "header(\"SELECT * FROM job_history LIMIT 3\")"
      ],
      "execution_count": null,
      "outputs": [
        {
          "output_type": "stream",
          "text": [
            "['empl_id', 'start_date', 'jobs_id', 'dept_id']\n",
            "('E1001', '08/01/2000', '100', '2')\n",
            "('E1002', '08/01/2001', '200', '5')\n",
            "('E1003', '08/16/2001', '300', '5')\n"
          ],
          "name": "stdout"
        }
      ]
    },
    {
      "cell_type": "code",
      "metadata": {
        "id": "56oMtg0TCHJr",
        "outputId": "ec4e5726-8d55-472b-d972-4053c574bdbd"
      },
      "source": [
        "header(\"SELECT * FROM jobs LIMIT 3\")"
      ],
      "execution_count": null,
      "outputs": [
        {
          "output_type": "stream",
          "text": [
            "['job_ident', 'job_title', 'min_salary', 'max_salary']\n",
            "('100', 'Sr. Architect', 60000, 100000)\n",
            "('200', 'Sr. Software Developer', 60000, 80000)\n",
            "('300', 'Jr.Software Developer', 40000, 60000)\n"
          ],
          "name": "stdout"
        }
      ]
    },
    {
      "cell_type": "code",
      "metadata": {
        "id": "nMHdpO6YCHJs",
        "outputId": "b5e514ad-39a2-4845-adeb-ba201dff9328"
      },
      "source": [
        "header(\"SELECT * FROM departments LIMIT 3\")"
      ],
      "execution_count": null,
      "outputs": [
        {
          "output_type": "stream",
          "text": [
            "['dept_id_dep', 'dep_name', 'manager_id', 'loc_id']\n",
            "('2', 'Architect Group', '30001', 'L0001')\n",
            "('5', 'Software Group', '30002', 'L0002')\n",
            "('7', 'Design Team', '30003', 'L0003')\n"
          ],
          "name": "stdout"
        }
      ]
    },
    {
      "cell_type": "code",
      "metadata": {
        "id": "wC1HIpd3CHJs",
        "outputId": "87247242-d127-41e7-dad6-53a90466335f"
      },
      "source": [
        "header(\"SELECT * FROM locations LIMIT 3\")"
      ],
      "execution_count": null,
      "outputs": [
        {
          "output_type": "stream",
          "text": [
            "['loct_id', 'dep_id_loc']\n",
            "('L0001', '2')\n",
            "('L0002', '5')\n",
            "('L0003', '7')\n"
          ],
          "name": "stdout"
        }
      ]
    },
    {
      "cell_type": "markdown",
      "metadata": {
        "id": "pJR4Sn1qCHJs"
      },
      "source": [
        "## QUERIES"
      ]
    },
    {
      "cell_type": "markdown",
      "metadata": {
        "id": "zf7NAUbECHJs"
      },
      "source": [
        "#### Query 1: Retrieve all employees whose address is in Elgin,IL"
      ]
    },
    {
      "cell_type": "code",
      "metadata": {
        "id": "piMH7wAWCHJt",
        "outputId": "7276eea5-fe7a-4658-c4d6-5295af405e38"
      },
      "source": [
        "header(\"SELECT f_name, l_name FROM employees WHERE address LIKE '%Elgin,IL%'\")"
      ],
      "execution_count": null,
      "outputs": [
        {
          "output_type": "stream",
          "text": [
            "['f_name', 'l_name']\n",
            "('Alice', 'James')\n",
            "('Nancy', 'Allen')\n",
            "('Ann', 'Jacob')\n"
          ],
          "name": "stdout"
        }
      ]
    },
    {
      "cell_type": "markdown",
      "metadata": {
        "id": "gGp_Xch0CHJt"
      },
      "source": [
        "#### Query 2: Retrieve all employees who were born during the 1970's."
      ]
    },
    {
      "cell_type": "code",
      "metadata": {
        "id": "F05dGKTRCHJt",
        "outputId": "d6323cbd-e44e-41db-8a2b-ae522b6c8e04"
      },
      "source": [
        "header(\"SELECT f_name, l_name FROM employees WHERE b_date LIKE '%197%'\")"
      ],
      "execution_count": null,
      "outputs": [
        {
          "output_type": "stream",
          "text": [
            "['f_name', 'l_name']\n",
            "('John', 'Thomas')\n",
            "('Alice', 'James')\n",
            "('Nancy', 'Allen')\n",
            "('Mary', 'Thomas')\n"
          ],
          "name": "stdout"
        }
      ]
    },
    {
      "cell_type": "markdown",
      "metadata": {
        "id": "xDGwLvXaCHJt"
      },
      "source": [
        "#### Query 3: Retrieve all employees in department 5 whose salary is between 60000 and 70000 ."
      ]
    },
    {
      "cell_type": "code",
      "metadata": {
        "id": "qIKRj5jfCHJt",
        "outputId": "d0e4057f-ed0f-4596-8a24-9dc5f62ad7ff"
      },
      "source": [
        "header(\"SELECT * FROM employees WHERE dep_id = 5 AND salary BETWEEN 60000 AND 70000\")"
      ],
      "execution_count": null,
      "outputs": [
        {
          "output_type": "stream",
          "text": [
            "['emp_id', 'f_name', 'l_name', 'ssn', 'b_date', 'sex', 'address', 'job_id', 'salary', 'manager_id', 'dep_id']\n",
            "('E1004', 'Santosh', 'Kumar', '123459', '07/20/1985', 'M', '511 Aurora Av, Aurora,IL', '400', 60000, '30004', '5')\n",
            "('E1010', 'Ann', 'Jacob', '123415', '03/30/1982', 'F', '111 Britany Springs,Elgin,IL', '220', 70000, '30004', '5')\n"
          ],
          "name": "stdout"
        }
      ]
    },
    {
      "cell_type": "markdown",
      "metadata": {
        "id": "hgFs9I7xCHJu"
      },
      "source": [
        "#### Query 4A: Retrieve a list of employees ordered by department ID."
      ]
    },
    {
      "cell_type": "code",
      "metadata": {
        "id": "eIsxWKSMCHJu",
        "outputId": "0417d61c-69ac-4910-f7b3-d3ef0bc2098e"
      },
      "source": [
        "header(\"SELECT f_name, l_name, dep_id FROM employees ORDER BY dep_id\")"
      ],
      "execution_count": null,
      "outputs": [
        {
          "output_type": "stream",
          "text": [
            "['f_name', 'l_name', 'dep_id']\n",
            "('John', 'Thomas', '2')\n",
            "('Ahmed', 'Hussain', '2')\n",
            "('Nancy', 'Allen', '2')\n",
            "('Alice', 'James', '5')\n",
            "('Steve', 'Wells', '5')\n",
            "('Santosh', 'Kumar', '5')\n",
            "('Ann', 'Jacob', '5')\n",
            "('Mary', 'Thomas', '7')\n",
            "('Bharath', 'Gupta', '7')\n",
            "('Andrea', 'Jones', '7')\n"
          ],
          "name": "stdout"
        }
      ]
    },
    {
      "cell_type": "markdown",
      "metadata": {
        "id": "u8aI7EboCHJu"
      },
      "source": [
        "#### Query 4B: Retrieve a list of employees ordered in descending order by department ID and within each department ordered alphabetically in descending order by last name."
      ]
    },
    {
      "cell_type": "code",
      "metadata": {
        "id": "KcUfoyqSCHJu",
        "outputId": "d462a762-4058-4339-a253-12fad08c5f28"
      },
      "source": [
        "header(\"SELECT f_name, l_name, dep_id FROM employees ORDER BY dep_id DESC\")"
      ],
      "execution_count": null,
      "outputs": [
        {
          "output_type": "stream",
          "text": [
            "['f_name', 'l_name', 'dep_id']\n",
            "('Mary', 'Thomas', '7')\n",
            "('Bharath', 'Gupta', '7')\n",
            "('Andrea', 'Jones', '7')\n",
            "('Alice', 'James', '5')\n",
            "('Steve', 'Wells', '5')\n",
            "('Santosh', 'Kumar', '5')\n",
            "('Ann', 'Jacob', '5')\n",
            "('John', 'Thomas', '2')\n",
            "('Ahmed', 'Hussain', '2')\n",
            "('Nancy', 'Allen', '2')\n"
          ],
          "name": "stdout"
        }
      ]
    },
    {
      "cell_type": "markdown",
      "metadata": {
        "id": "NEEUHR0VCHJz"
      },
      "source": [
        "#### Query 5A: For each department ID retrieve the number of employees in the department."
      ]
    },
    {
      "cell_type": "code",
      "metadata": {
        "id": "7uHv9OytCHJz",
        "outputId": "8a290f34-34f7-45c4-8395-b8a7f4a71ad4"
      },
      "source": [
        "header(\"SELECT dep_id, COUNT(f_name) as Employees FROM employees GROUP BY dep_id\")"
      ],
      "execution_count": null,
      "outputs": [
        {
          "output_type": "stream",
          "text": [
            "['dep_id', 'Employees']\n",
            "('2', 3)\n",
            "('5', 4)\n",
            "('7', 3)\n"
          ],
          "name": "stdout"
        }
      ]
    },
    {
      "cell_type": "markdown",
      "metadata": {
        "id": "D2lhSgq1CHJ0"
      },
      "source": [
        "#### Query 5B: For each department retrieve the number of employees in the department, and the average employees salary in the department."
      ]
    },
    {
      "cell_type": "code",
      "metadata": {
        "id": "HnvLG6JPCHJ0",
        "outputId": "53221e21-2cf1-4f63-8f33-190133596424"
      },
      "source": [
        "header(\"SELECT dep_id, COUNT(f_name)as Employees, ROUND(AVG(salary)) as Salary_Average FROM employees GROUP BY dep_id\")"
      ],
      "execution_count": null,
      "outputs": [
        {
          "output_type": "stream",
          "text": [
            "['dep_id', 'Employees', 'Salary_Average']\n",
            "('2', 3, 86667.0)\n",
            "('5', 4, 65000.0)\n",
            "('7', 3, 66667.0)\n"
          ],
          "name": "stdout"
        }
      ]
    },
    {
      "cell_type": "markdown",
      "metadata": {
        "id": "GDkV4c0qCHJ0"
      },
      "source": [
        "#### Query 5C: Label the computed columns in the result set of Query 5B as NUM_EMPLOYEES and AVG_SALARY."
      ]
    },
    {
      "cell_type": "code",
      "metadata": {
        "id": "obgzvNJcCHJ1",
        "outputId": "458f3861-f797-4133-840d-f0572764ddaa"
      },
      "source": [
        "header(\"SELECT dep_id, COUNT(f_name)as NUM_EMPLOYEES, ROUND(AVG(salary)) as AVG_SALARY FROM employees \\\n",
        "GROUP BY dep_id\")"
      ],
      "execution_count": null,
      "outputs": [
        {
          "output_type": "stream",
          "text": [
            "['dep_id', 'NUM_EMPLOYEES', 'AVG_SALARY']\n",
            "('2', 3, 86667.0)\n",
            "('5', 4, 65000.0)\n",
            "('7', 3, 66667.0)\n"
          ],
          "name": "stdout"
        }
      ]
    },
    {
      "cell_type": "markdown",
      "metadata": {
        "id": "sumfOMLHCHJ2"
      },
      "source": [
        "#### Query 5D: In Query 5C order the result set by Average Salary."
      ]
    },
    {
      "cell_type": "code",
      "metadata": {
        "id": "sj9rvY5qCHJ3",
        "outputId": "3477ea12-ef2d-4cb4-fffb-bc66c235871f"
      },
      "source": [
        "header(\"SELECT dep_id, COUNT(f_name)as NUM_EMPLOYEES, ROUND(AVG(salary)) as AVG_SALARY FROM employees \\\n",
        "GROUP BY dep_id \\\n",
        "ORDER BY AVG_SALARY\")"
      ],
      "execution_count": null,
      "outputs": [
        {
          "output_type": "stream",
          "text": [
            "['dep_id', 'NUM_EMPLOYEES', 'AVG_SALARY']\n",
            "('5', 4, 65000.0)\n",
            "('7', 3, 66667.0)\n",
            "('2', 3, 86667.0)\n"
          ],
          "name": "stdout"
        }
      ]
    },
    {
      "cell_type": "markdown",
      "metadata": {
        "id": "-IceMaRDCHJ4"
      },
      "source": [
        "#### Query 5E: In Query 5D limit the result to departments with fewer than 4 employees."
      ]
    },
    {
      "cell_type": "code",
      "metadata": {
        "id": "kRrVYT22CHJ4",
        "outputId": "578bd3e5-736a-404c-bfe0-f00345bdc2b2"
      },
      "source": [
        "header(\"SELECT dep_id, COUNT(f_name)as NUM_EMPLOYEES, ROUND(AVG(salary)) as AVG_SALARY FROM employees \\\n",
        "GROUP BY dep_id \\\n",
        "HAVING COUNT(f_name) < 4 \\\n",
        "ORDER BY AVG_SALARY \")"
      ],
      "execution_count": null,
      "outputs": [
        {
          "output_type": "stream",
          "text": [
            "['dep_id', 'NUM_EMPLOYEES', 'AVG_SALARY']\n",
            "('7', 3, 66667.0)\n",
            "('2', 3, 86667.0)\n"
          ],
          "name": "stdout"
        }
      ]
    },
    {
      "cell_type": "markdown",
      "metadata": {
        "id": "iTA7XFr0CHJ4"
      },
      "source": [
        "#### BONUS Query 6: Similar to 4B but instead of department ID use department name. Retrieve a list of employees ordered by department name, and within each department ordered alphabetically in descending order by last name."
      ]
    },
    {
      "cell_type": "code",
      "metadata": {
        "id": "Jo7S6DjkCHJ4",
        "outputId": "3466bdd2-6b69-460d-e6a7-96d37d6c4b73"
      },
      "source": [
        "header(\"SELECT D.dep_name, E.l_name, E.f_name FROM employees as E, departments as D \\\n",
        "WHERE E.dep_id = D.dept_id_dep \\\n",
        "ORDER BY D.dep_name, E.l_name DESC\")"
      ],
      "execution_count": null,
      "outputs": [
        {
          "output_type": "stream",
          "text": [
            "['dep_name', 'l_name', 'f_name']\n",
            "('Architect Group', 'Thomas', 'John')\n",
            "('Architect Group', 'Hussain', 'Ahmed')\n",
            "('Architect Group', 'Allen', 'Nancy')\n",
            "('Design Team', 'Thomas', 'Mary')\n",
            "('Design Team', 'Jones', 'Andrea')\n",
            "('Design Team', 'Gupta', 'Bharath')\n",
            "('Software Group', 'Wells', 'Steve')\n",
            "('Software Group', 'Kumar', 'Santosh')\n",
            "('Software Group', 'James', 'Alice')\n",
            "('Software Group', 'Jacob', 'Ann')\n"
          ],
          "name": "stdout"
        }
      ]
    },
    {
      "cell_type": "markdown",
      "metadata": {
        "id": "V1lHLAw_CHJ5"
      },
      "source": [
        "# C | Practice Aggregate, Scalar, String, Date & Time Functions"
      ]
    },
    {
      "cell_type": "markdown",
      "metadata": {
        "id": "1fsNxiA3CHJ5"
      },
      "source": [
        "## Set up"
      ]
    },
    {
      "cell_type": "code",
      "metadata": {
        "id": "XWH6v80PCHJ6"
      },
      "source": [
        "#importing library that encapsulates SQL in Python\n",
        "import sqlite3\n",
        "\n",
        "#Creating a variable to generate the database file\n",
        "bd = sqlite3.connect('Coursera.db')"
      ],
      "execution_count": null,
      "outputs": []
    },
    {
      "cell_type": "code",
      "metadata": {
        "id": "u1Eg1kf2CHJ6"
      },
      "source": [
        "#Creating a variable to easyly call the cursor\n",
        "cursor = bd.cursor()"
      ],
      "execution_count": null,
      "outputs": []
    },
    {
      "cell_type": "markdown",
      "metadata": {
        "id": "6kX1d8I0CHJ6"
      },
      "source": [
        "## Creating tables"
      ]
    },
    {
      "cell_type": "code",
      "metadata": {
        "id": "w7dRBI_sCHJ7"
      },
      "source": [
        "#Creating a variable that create the table\n",
        "\n",
        "framework = \"\"\" \n",
        "          CREATE TABLE IF NOT EXISTS petrescue (\n",
        "              id INTEGER PRIMARY KEY NOT NULL,\n",
        "              animal VARCHAR(20),\n",
        "              quantity INTEGER,\n",
        "              cost DECIMAL(6,2),\n",
        "              rescue DATE\n",
        "              );\n",
        "        \"\"\""
      ],
      "execution_count": null,
      "outputs": []
    },
    {
      "cell_type": "code",
      "metadata": {
        "colab": {
          "base_uri": "https://localhost:8080/"
        },
        "id": "IsTrs-uJCHJ7",
        "outputId": "dd06e2e2-bdd3-45f9-8db9-40fa2863a6b7"
      },
      "source": [
        "cursor.executescript(framework)"
      ],
      "execution_count": null,
      "outputs": [
        {
          "output_type": "execute_result",
          "data": {
            "text/plain": [
              "<sqlite3.Cursor at 0x7f03e1883ea0>"
            ]
          },
          "metadata": {
            "tags": []
          },
          "execution_count": 5
        }
      ]
    },
    {
      "cell_type": "code",
      "metadata": {
        "colab": {
          "base_uri": "https://localhost:8080/"
        },
        "id": "5zjoJtsjCHJ8",
        "outputId": "dc160f9f-47ee-4524-9442-f502119760e7"
      },
      "source": [
        "# Created table checking\n",
        "cursor.execute(\"PRAGMA table_info(petrescue)\").fetchall()"
      ],
      "execution_count": null,
      "outputs": [
        {
          "output_type": "execute_result",
          "data": {
            "text/plain": [
              "[(0, 'id', 'INTEGER', 1, None, 1),\n",
              " (1, 'animal', 'VARCHAR(20)', 0, None, 0),\n",
              " (2, 'quantity', 'INTEGER', 0, None, 0),\n",
              " (3, 'cost', 'DECIMAL(6,2)', 0, None, 0),\n",
              " (4, 'rescue', 'DATE', 0, None, 0)]"
            ]
          },
          "metadata": {
            "tags": []
          },
          "execution_count": 6
        }
      ]
    },
    {
      "cell_type": "markdown",
      "metadata": {
        "id": "_FHS92OwCHJ8"
      },
      "source": [
        "## Inserting data"
      ]
    },
    {
      "cell_type": "code",
      "metadata": {
        "id": "SrX8sVlRCHJ8"
      },
      "source": [
        "data = [(1,'Cat',9,450.09,'2018-05-29'), (2,'Dog',3,666.66,'2018-06-01'), (3,'Dog',1,100.00,'2018-06-04'),(4,'Parrot',2,50.00,'2018-06-04'), (5,'Dog',1,75.75,'2018-06-10'), (6,'Hamster',6,60.60,'2018-06-11'), (7,'Cat',1,44.44,'2018-06-11'),(8,'Goldfish',24,48.48,'2018-06-14'), (9,'Dog',2,222.22,'2018-06-15')]"
      ],
      "execution_count": null,
      "outputs": []
    },
    {
      "cell_type": "code",
      "metadata": {
        "colab": {
          "base_uri": "https://localhost:8080/"
        },
        "id": "b2gxjo39CHJ9",
        "outputId": "72dc14e8-6a27-43eb-9614-acbfd0adeb26"
      },
      "source": [
        "cursor.executemany('INSERT INTO petrescue VALUES(?, ?, ?, ?, ?)', data)"
      ],
      "execution_count": null,
      "outputs": [
        {
          "output_type": "execute_result",
          "data": {
            "text/plain": [
              "<sqlite3.Cursor at 0x7f03e1883ea0>"
            ]
          },
          "metadata": {
            "tags": []
          },
          "execution_count": 8
        }
      ]
    },
    {
      "cell_type": "markdown",
      "metadata": {
        "id": "Og--BHZgCHJ9"
      },
      "source": [
        "#### Inserted data checking"
      ]
    },
    {
      "cell_type": "code",
      "metadata": {
        "id": "AuMotZnxCHJ9"
      },
      "source": [
        "#creating function to print table lables on selects\n",
        "def header(sql_table):\n",
        "    data = cursor.execute(sql_table)\n",
        "    header =[header[0] for header in data.description]\n",
        "    print(header)\n",
        "    for row in data:\n",
        "      print(row)"
      ],
      "execution_count": null,
      "outputs": []
    },
    {
      "cell_type": "code",
      "metadata": {
        "colab": {
          "base_uri": "https://localhost:8080/"
        },
        "id": "EPpWb21sCHJ-",
        "outputId": "47a0b30b-5344-4b6d-eb31-6826671a7a45"
      },
      "source": [
        "header(\"SELECT * FROM petrescue\")"
      ],
      "execution_count": null,
      "outputs": [
        {
          "output_type": "stream",
          "text": [
            "['id', 'animal', 'quantity', 'cost', 'rescue']\n",
            "(1, 'Cat', 9, 450.09, '2018-05-29')\n",
            "(2, 'Dog', 3, 666.66, '2018-06-01')\n",
            "(3, 'Dog', 1, 100, '2018-06-04')\n",
            "(4, 'Parrot', 2, 50, '2018-06-04')\n",
            "(5, 'Dog', 1, 75.75, '2018-06-10')\n",
            "(6, 'Hamster', 6, 60.6, '2018-06-11')\n",
            "(7, 'Cat', 1, 44.44, '2018-06-11')\n",
            "(8, 'Goldfish', 24, 48.48, '2018-06-14')\n",
            "(9, 'Dog', 2, 222.22, '2018-06-15')\n"
          ],
          "name": "stdout"
        }
      ]
    },
    {
      "cell_type": "markdown",
      "metadata": {
        "id": "AcZUyrjFCHJ-"
      },
      "source": [
        "## QUERIES"
      ]
    },
    {
      "cell_type": "markdown",
      "metadata": {
        "id": "TsLBtnPpCHJ-"
      },
      "source": [
        "### A | Solutions: Aggregate Functions"
      ]
    },
    {
      "cell_type": "markdown",
      "metadata": {
        "id": "-ZKXwcb2CHJ-"
      },
      "source": [
        "#### Query A1: Enter a function that calculates the total cost of all animal rescues in the PETRESCUE table."
      ]
    },
    {
      "cell_type": "code",
      "metadata": {
        "colab": {
          "base_uri": "https://localhost:8080/"
        },
        "id": "ses128kGCHJ_",
        "outputId": "0d09b134-8153-4a86-b3a3-98bf2345b62e"
      },
      "source": [
        "header(\"SELECT SUM(cost) as Total_Cost FROM petrescue\")"
      ],
      "execution_count": null,
      "outputs": [
        {
          "output_type": "stream",
          "text": [
            "['Total_Cost']\n",
            "(1718.24,)\n"
          ],
          "name": "stdout"
        }
      ]
    },
    {
      "cell_type": "markdown",
      "metadata": {
        "id": "bdgcSRfbCHJ_"
      },
      "source": [
        "#### Query A2: Enter a function that displays the total cost of all animal rescues in the PETRESCUE table in a column called SUM_OF_COST."
      ]
    },
    {
      "cell_type": "code",
      "metadata": {
        "colab": {
          "base_uri": "https://localhost:8080/"
        },
        "id": "bKQ6tU_-CHJ_",
        "outputId": "3e0939e3-b306-4927-932c-b9df6fe3c981"
      },
      "source": [
        "header(\"SELECT SUM(cost) as SUM_OF_COST FROM petrescue\")"
      ],
      "execution_count": null,
      "outputs": [
        {
          "output_type": "stream",
          "text": [
            "['SUM_OF_COST']\n",
            "(1718.24,)\n"
          ],
          "name": "stdout"
        }
      ]
    },
    {
      "cell_type": "markdown",
      "metadata": {
        "id": "92-4aqODCHJ_"
      },
      "source": [
        "#### Query A3: Enter a function that displays the maximum quantity of animals rescued."
      ]
    },
    {
      "cell_type": "code",
      "metadata": {
        "colab": {
          "base_uri": "https://localhost:8080/"
        },
        "id": "HO__6-kfCHKA",
        "outputId": "f739350c-c420-4449-8413-f14422969b4e"
      },
      "source": [
        "header(\"SELECT MAX(quantity) as MAX_QUANT FROM petrescue\")"
      ],
      "execution_count": null,
      "outputs": [
        {
          "output_type": "stream",
          "text": [
            "['MAX_QUANT']\n",
            "(24,)\n"
          ],
          "name": "stdout"
        }
      ]
    },
    {
      "cell_type": "markdown",
      "metadata": {
        "id": "EK5QDL2GCHKA"
      },
      "source": [
        "#### Query A4: Enter a function that displays the average cost of animals rescued."
      ]
    },
    {
      "cell_type": "code",
      "metadata": {
        "colab": {
          "base_uri": "https://localhost:8080/"
        },
        "id": "bsUj_6zxCHKA",
        "outputId": "dbafee7b-0772-4ee4-cca9-029e44495432"
      },
      "source": [
        "header(\"SELECT ROUND(AVG(cost),2) as AVG_COST FROM petrescue\")"
      ],
      "execution_count": null,
      "outputs": [
        {
          "output_type": "stream",
          "text": [
            "['AVG_COST']\n",
            "(190.92,)\n"
          ],
          "name": "stdout"
        }
      ]
    },
    {
      "cell_type": "markdown",
      "metadata": {
        "id": "-xjOTYYTCHKA"
      },
      "source": [
        "#### Query A5: Enter a function that displays the average cost of rescuing a dog."
      ]
    },
    {
      "cell_type": "code",
      "metadata": {
        "colab": {
          "base_uri": "https://localhost:8080/"
        },
        "id": "DAj0UDuiCHKB",
        "outputId": "5cbe3d95-c264-4266-abdd-235aba419b01"
      },
      "source": [
        "header(\"SELECT ROUND(AVG(cost / quantity),2) as AVG_COST_EACH_DOG FROM petrescue\")"
      ],
      "execution_count": null,
      "outputs": [
        {
          "output_type": "stream",
          "text": [
            "['AVG_COST_EACH_DOG']\n",
            "(71.18,)\n"
          ],
          "name": "stdout"
        }
      ]
    },
    {
      "cell_type": "markdown",
      "metadata": {
        "id": "ROnu-P7ACHKB"
      },
      "source": [
        "### B | Scalar and String Functions"
      ]
    },
    {
      "cell_type": "markdown",
      "metadata": {
        "id": "8ZHRNvk-CHKB"
      },
      "source": [
        "#### Query B1: Enter a function that displays the rounded cost of each rescue."
      ]
    },
    {
      "cell_type": "code",
      "metadata": {
        "colab": {
          "base_uri": "https://localhost:8080/"
        },
        "id": "WKD3xFhnCHKB",
        "outputId": "a57725a1-a135-4616-cdc9-e9512ef702f0"
      },
      "source": [
        "header(\"SELECT ROUND(cost) as ROUNDED_COST_EACH_RESCUE FROM petrescue\")"
      ],
      "execution_count": null,
      "outputs": [
        {
          "output_type": "stream",
          "text": [
            "['ROUNDED_COST_EACH_RESCUE']\n",
            "(450.0,)\n",
            "(667.0,)\n",
            "(100.0,)\n",
            "(50.0,)\n",
            "(76.0,)\n",
            "(61.0,)\n",
            "(44.0,)\n",
            "(48.0,)\n",
            "(222.0,)\n"
          ],
          "name": "stdout"
        }
      ]
    },
    {
      "cell_type": "markdown",
      "metadata": {
        "id": "Mroa20tCCHKC"
      },
      "source": [
        "#### Query B2: Enter a function that displays the length of each animal name."
      ]
    },
    {
      "cell_type": "code",
      "metadata": {
        "colab": {
          "base_uri": "https://localhost:8080/"
        },
        "id": "CQh-nUniCHKC",
        "outputId": "b27e7ebc-255c-4c91-d63a-d082c02ccbd1"
      },
      "source": [
        "header(\"SELECT LENGTH(animal) as Length_of_each_animal FROM petrescue\")"
      ],
      "execution_count": null,
      "outputs": [
        {
          "output_type": "stream",
          "text": [
            "['Length_of_each_animal']\n",
            "(3,)\n",
            "(3,)\n",
            "(3,)\n",
            "(6,)\n",
            "(3,)\n",
            "(7,)\n",
            "(3,)\n",
            "(8,)\n",
            "(3,)\n"
          ],
          "name": "stdout"
        }
      ]
    },
    {
      "cell_type": "markdown",
      "metadata": {
        "id": "PE6gsT4jCHKC"
      },
      "source": [
        "#### Query B3: Enter a function that displays the animal name in each rescue in uppercase."
      ]
    },
    {
      "cell_type": "code",
      "metadata": {
        "colab": {
          "base_uri": "https://localhost:8080/"
        },
        "id": "OvFAYQi5CHKC",
        "outputId": "6a157cee-54b1-4c25-9676-2e078a1816e9"
      },
      "source": [
        "header(\"SELECT upper(animal) as ANIMAL FROM petrescue\")"
      ],
      "execution_count": null,
      "outputs": [
        {
          "output_type": "stream",
          "text": [
            "['ANIMAL']\n",
            "('CAT',)\n",
            "('DOG',)\n",
            "('DOG',)\n",
            "('PARROT',)\n",
            "('DOG',)\n",
            "('HAMSTER',)\n",
            "('CAT',)\n",
            "('GOLDFISH',)\n",
            "('DOG',)\n"
          ],
          "name": "stdout"
        }
      ]
    },
    {
      "cell_type": "markdown",
      "metadata": {
        "id": "5fqMmoxtCHKD"
      },
      "source": [
        "#### Query B4: Enter a function that displays the animal name in each rescue in uppercase without duplications."
      ]
    },
    {
      "cell_type": "code",
      "metadata": {
        "colab": {
          "base_uri": "https://localhost:8080/"
        },
        "id": "SAOWbYmwCHKD",
        "outputId": "fc839391-a44e-4083-e8b7-89f707808acb"
      },
      "source": [
        "header(\"SELECT DISTINCT(upper(animal)) as DISTINCT_ANIMALS FROM petrescue\")"
      ],
      "execution_count": null,
      "outputs": [
        {
          "output_type": "stream",
          "text": [
            "['DISTINCT_ANIMALS']\n",
            "('CAT',)\n",
            "('DOG',)\n",
            "('PARROT',)\n",
            "('HAMSTER',)\n",
            "('GOLDFISH',)\n"
          ],
          "name": "stdout"
        }
      ]
    },
    {
      "cell_type": "markdown",
      "metadata": {
        "id": "m5bZWDuJCHKD"
      },
      "source": [
        "#### Query B5: Enter a query that displays all the columns from the PETRESCUE table, where the animal(s) rescued are cats. Use cat in lower case in the query."
      ]
    },
    {
      "cell_type": "code",
      "metadata": {
        "id": "xgiS0rLCCHKD",
        "outputId": "63ab1e02-6803-45c1-d363-099cb6b0f65d"
      },
      "source": [
        "header(\"SELECT * FROM petrescue WHERE lower(animal) = 'cat'\")"
      ],
      "execution_count": null,
      "outputs": [
        {
          "output_type": "stream",
          "text": [
            "['id', 'animal', 'quantity', 'cost', 'rescue']\n",
            "(1, 'Cat', 9, 450.09, '2018-05-29')\n",
            "(7, 'Cat', 1, 44.44, '2018-06-11')\n"
          ],
          "name": "stdout"
        }
      ]
    },
    {
      "cell_type": "markdown",
      "metadata": {
        "id": "UrLPThZ3CHKE"
      },
      "source": [
        "### C | Date and Time Functions"
      ]
    },
    {
      "cell_type": "markdown",
      "metadata": {
        "id": "yOb4tzz8CHKE"
      },
      "source": [
        "#### Query C1: Enter a function that displays the day of the month when cats have been rescued."
      ]
    },
    {
      "cell_type": "code",
      "metadata": {
        "colab": {
          "base_uri": "https://localhost:8080/"
        },
        "id": "hrNtyh53CHKE",
        "outputId": "1cdb5a44-17fd-45cc-e172-2d627d34ad2b"
      },
      "source": [
        "cursor.execute(\"SELECT strftime('%d', rescue) FROM petrescue WHERE animal = 'Cat'\").fetchall()"
      ],
      "execution_count": null,
      "outputs": [
        {
          "output_type": "execute_result",
          "data": {
            "text/plain": [
              "[('29',), ('11',)]"
            ]
          },
          "metadata": {
            "tags": []
          },
          "execution_count": 20
        }
      ]
    },
    {
      "cell_type": "markdown",
      "metadata": {
        "id": "qbLXqR9ICHKE"
      },
      "source": [
        "#### Query C2: Enter a function that displays the number of rescues on the 5th month."
      ]
    },
    {
      "cell_type": "code",
      "metadata": {
        "colab": {
          "base_uri": "https://localhost:8080/"
        },
        "id": "EDqLVEgsCHKE",
        "outputId": "d34bc2ba-34b6-40c9-f5da-4a1709d24abe"
      },
      "source": [
        "header(\"SELECT SUM(quantity) FROM petrescue WHERE strftime('%m', rescue) = '05'\")"
      ],
      "execution_count": null,
      "outputs": [
        {
          "output_type": "stream",
          "text": [
            "['SUM(quantity)']\n",
            "(9,)\n"
          ],
          "name": "stdout"
        }
      ]
    },
    {
      "cell_type": "markdown",
      "metadata": {
        "id": "6tT4HgkSCHKF"
      },
      "source": [
        "#### Query C3: Enter a function that displays the number of rescues on the 14th day of the month."
      ]
    },
    {
      "cell_type": "code",
      "metadata": {
        "colab": {
          "base_uri": "https://localhost:8080/"
        },
        "id": "D80M-FwzCHKF",
        "outputId": "680e35ee-f9ac-4dd3-ed64-baa1546035ae"
      },
      "source": [
        "header(\"SELECT SUM(quantity) as Rescues_on_14h FROM petrescue WHERE strftime('%d', rescue) = '14'\")"
      ],
      "execution_count": null,
      "outputs": [
        {
          "output_type": "stream",
          "text": [
            "['Rescues_on_14h']\n",
            "(24,)\n"
          ],
          "name": "stdout"
        }
      ]
    },
    {
      "cell_type": "markdown",
      "metadata": {
        "id": "V6NrbkC4CHKF"
      },
      "source": [
        "#### Query C4: Animals rescued should see the vet within three days of arrivals. Enter a function that displays the third day from each rescue."
      ]
    },
    {
      "cell_type": "code",
      "metadata": {
        "colab": {
          "base_uri": "https://localhost:8080/"
        },
        "id": "HiMln6sPCHKF",
        "outputId": "47626b36-16b4-4286-d0bc-d90f68c3f66f"
      },
      "source": [
        "header(\"SELECT rescue, date(rescue, '3 days') as Vet_appointment FROM petrescue\")"
      ],
      "execution_count": null,
      "outputs": [
        {
          "output_type": "stream",
          "text": [
            "['rescue', 'Vet_appointment']\n",
            "('2018-05-29', '2018-06-01')\n",
            "('2018-06-01', '2018-06-04')\n",
            "('2018-06-04', '2018-06-07')\n",
            "('2018-06-04', '2018-06-07')\n",
            "('2018-06-10', '2018-06-13')\n",
            "('2018-06-11', '2018-06-14')\n",
            "('2018-06-11', '2018-06-14')\n",
            "('2018-06-14', '2018-06-17')\n",
            "('2018-06-15', '2018-06-18')\n"
          ],
          "name": "stdout"
        }
      ]
    },
    {
      "cell_type": "markdown",
      "metadata": {
        "id": "V91VBs5nCHKG"
      },
      "source": [
        "#### Query C5: Enter a function that displays the length of time the animals have been rescued; the difference between today’s date and the recue date."
      ]
    },
    {
      "cell_type": "code",
      "metadata": {
        "colab": {
          "base_uri": "https://localhost:8080/",
          "height": 298
        },
        "id": "4IB2F3BuV1bK",
        "outputId": "031f91ce-2948-467f-92d6-9931d80390e2"
      },
      "source": [
        "header(\"select TRUNC('now') - rescue from petrescue\")"
      ],
      "execution_count": null,
      "outputs": [
        {
          "output_type": "error",
          "ename": "OperationalError",
          "evalue": "ignored",
          "traceback": [
            "\u001b[0;31m---------------------------------------------------------------------------\u001b[0m",
            "\u001b[0;31mOperationalError\u001b[0m                          Traceback (most recent call last)",
            "\u001b[0;32m<ipython-input-100-75b7caed7bc1>\u001b[0m in \u001b[0;36m<module>\u001b[0;34m()\u001b[0m\n\u001b[0;32m----> 1\u001b[0;31m \u001b[0mheader\u001b[0m\u001b[0;34m(\u001b[0m\u001b[0;34m\"select TRUNC('now') - rescue from petrescue\"\u001b[0m\u001b[0;34m)\u001b[0m\u001b[0;34m\u001b[0m\u001b[0;34m\u001b[0m\u001b[0m\n\u001b[0m",
            "\u001b[0;32m<ipython-input-9-c68e467a063f>\u001b[0m in \u001b[0;36mheader\u001b[0;34m(sql_table)\u001b[0m\n\u001b[1;32m      1\u001b[0m \u001b[0;31m#creating function to print table lables on selects\u001b[0m\u001b[0;34m\u001b[0m\u001b[0;34m\u001b[0m\u001b[0;34m\u001b[0m\u001b[0m\n\u001b[1;32m      2\u001b[0m \u001b[0;32mdef\u001b[0m \u001b[0mheader\u001b[0m\u001b[0;34m(\u001b[0m\u001b[0msql_table\u001b[0m\u001b[0;34m)\u001b[0m\u001b[0;34m:\u001b[0m\u001b[0;34m\u001b[0m\u001b[0;34m\u001b[0m\u001b[0m\n\u001b[0;32m----> 3\u001b[0;31m     \u001b[0mdata\u001b[0m \u001b[0;34m=\u001b[0m \u001b[0mcursor\u001b[0m\u001b[0;34m.\u001b[0m\u001b[0mexecute\u001b[0m\u001b[0;34m(\u001b[0m\u001b[0msql_table\u001b[0m\u001b[0;34m)\u001b[0m\u001b[0;34m\u001b[0m\u001b[0;34m\u001b[0m\u001b[0m\n\u001b[0m\u001b[1;32m      4\u001b[0m     \u001b[0mheader\u001b[0m \u001b[0;34m=\u001b[0m\u001b[0;34m[\u001b[0m\u001b[0mheader\u001b[0m\u001b[0;34m[\u001b[0m\u001b[0;36m0\u001b[0m\u001b[0;34m]\u001b[0m \u001b[0;32mfor\u001b[0m \u001b[0mheader\u001b[0m \u001b[0;32min\u001b[0m \u001b[0mdata\u001b[0m\u001b[0;34m.\u001b[0m\u001b[0mdescription\u001b[0m\u001b[0;34m]\u001b[0m\u001b[0;34m\u001b[0m\u001b[0;34m\u001b[0m\u001b[0m\n\u001b[1;32m      5\u001b[0m     \u001b[0mprint\u001b[0m\u001b[0;34m(\u001b[0m\u001b[0mheader\u001b[0m\u001b[0;34m)\u001b[0m\u001b[0;34m\u001b[0m\u001b[0;34m\u001b[0m\u001b[0m\n",
            "\u001b[0;31mOperationalError\u001b[0m: no such function: TRUNC"
          ]
        }
      ]
    },
    {
      "cell_type": "code",
      "metadata": {
        "colab": {
          "base_uri": "https://localhost:8080/"
        },
        "id": "0IRxrPIVCHKG",
        "outputId": "bb07c685-0110-482b-fa34-9760ac82dd37"
      },
      "source": [
        "header(\" SELECT CAST(( julianday('now') - julianday(rescue) )as integer) as days FROM petrescue;\")"
      ],
      "execution_count": null,
      "outputs": [
        {
          "output_type": "stream",
          "text": [
            "['days']\n",
            "(1008,)\n",
            "(1005,)\n",
            "(1002,)\n",
            "(1002,)\n",
            "(996,)\n",
            "(995,)\n",
            "(995,)\n",
            "(992,)\n",
            "(991,)\n"
          ],
          "name": "stdout"
        }
      ]
    },
    {
      "cell_type": "code",
      "metadata": {
        "id": "Oow-uqJjCHKG"
      },
      "source": [
        ""
      ],
      "execution_count": null,
      "outputs": []
    },
    {
      "cell_type": "code",
      "metadata": {
        "id": "FMX-SUu_CHKH"
      },
      "source": [
        ""
      ],
      "execution_count": null,
      "outputs": []
    }
  ]
}