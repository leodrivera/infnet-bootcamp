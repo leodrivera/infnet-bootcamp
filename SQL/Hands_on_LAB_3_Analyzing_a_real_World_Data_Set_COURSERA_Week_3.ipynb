{
  "nbformat": 4,
  "nbformat_minor": 0,
  "metadata": {
    "colab": {
      "name": "Hands-on LAB 3: Analyzing a real World Data Set - COURSERA Week 3",
      "provenance": []
    },
    "kernelspec": {
      "name": "python3",
      "display_name": "Python 3"
    }
  },
  "cells": [
    {
      "cell_type": "code",
      "metadata": {
        "colab": {
          "base_uri": "https://localhost:8080/"
        },
        "id": "vmV7X9MN63zt",
        "outputId": "9febe95c-2b3b-4c3b-d4ff-7da93f89cc84"
      },
      "source": [
        "!pip install --upgrade ibm_db\r\n",
        "!pip install --upgrade ibm_db_sa\r\n",
        "!pip install --upgrade SQLAlchemy\r\n",
        "\r\n",
        "import ibm_db\r\n",
        "import ibm_db_sa\r\n",
        "import sqlalchemy"
      ],
      "execution_count": null,
      "outputs": [
        {
          "output_type": "stream",
          "text": [
            "Requirement already up-to-date: ibm_db in /usr/local/lib/python3.7/dist-packages (3.0.3)\n",
            "Requirement already up-to-date: ibm_db_sa in /usr/local/lib/python3.7/dist-packages (0.3.6)\n",
            "Requirement already satisfied, skipping upgrade: sqlalchemy>=0.7.3 in /usr/local/lib/python3.7/dist-packages (from ibm_db_sa) (1.3.23)\n",
            "Requirement already satisfied, skipping upgrade: ibm-db>=2.0.0 in /usr/local/lib/python3.7/dist-packages (from ibm_db_sa) (3.0.3)\n",
            "Requirement already up-to-date: SQLAlchemy in /usr/local/lib/python3.7/dist-packages (1.3.23)\n"
          ],
          "name": "stdout"
        }
      ]
    },
    {
      "cell_type": "code",
      "metadata": {
        "id": "lKsYfjdt4AyO"
      },
      "source": [
        "%load_ext sql\r\n"
      ],
      "execution_count": null,
      "outputs": []
    },
    {
      "cell_type": "code",
      "metadata": {
        "colab": {
          "base_uri": "https://localhost:8080/",
          "height": 51
        },
        "id": "LpzJ1m894d30",
        "outputId": "ba4d4e11-8025-474b-83ce-cdf88b744526"
      },
      "source": [
        "%sql db2+ibm_db://hwq67488:88c-68fwtjfkdl5c@dashdb-txn-sbox-yp-dal09-04.services.dal.bluemix.net:50000/BLUDB\r\n",
        "\r\n"
      ],
      "execution_count": null,
      "outputs": [
        {
          "output_type": "stream",
          "text": [
            "DB2/LINUXX8664\n"
          ],
          "name": "stdout"
        },
        {
          "output_type": "execute_result",
          "data": {
            "application/vnd.google.colaboratory.intrinsic+json": {
              "type": "string"
            },
            "text/plain": [
              "'Connected: hwq67488@BLUDB'"
            ]
          },
          "metadata": {
            "tags": []
          },
          "execution_count": 3
        }
      ]
    },
    {
      "cell_type": "code",
      "metadata": {
        "colab": {
          "base_uri": "https://localhost:8080/",
          "height": 51
        },
        "id": "FKVIyZ7e4OOC",
        "outputId": "761d1d22-d0fd-4ed4-e1ef-cdc5f0d3b74a"
      },
      "source": [
        "import pandas\r\n",
        "\r\n",
        "chicago_socioeconomic_data = pandas.read_csv('https://data.cityofchicago.org/resource/jcxq-k9xf.csv')\r\n",
        "\r\n",
        "%sql PERSIST chicago_socioeconomic_data"
      ],
      "execution_count": null,
      "outputs": [
        {
          "output_type": "stream",
          "text": [
            " * db2+ibm_db://hwq67488:***@dashdb-txn-sbox-yp-dal09-04.services.dal.bluemix.net:50000/BLUDB\n"
          ],
          "name": "stdout"
        },
        {
          "output_type": "execute_result",
          "data": {
            "application/vnd.google.colaboratory.intrinsic+json": {
              "type": "string"
            },
            "text/plain": [
              "'Persisted chicago_socioeconomic_data'"
            ]
          },
          "metadata": {
            "tags": []
          },
          "execution_count": 4
        }
      ]
    },
    {
      "cell_type": "code",
      "metadata": {
        "colab": {
          "base_uri": "https://localhost:8080/",
          "height": 157
        },
        "id": "9kcPCZBc4YE5",
        "outputId": "55ee1caf-eb42-424f-b28c-b9e609d2eae4"
      },
      "source": [
        "%sql SELECT * FROM chicago_socioeconomic_data limit 5;"
      ],
      "execution_count": null,
      "outputs": [
        {
          "output_type": "stream",
          "text": [
            " * db2+ibm_db://hwq67488:***@dashdb-txn-sbox-yp-dal09-04.services.dal.bluemix.net:50000/BLUDB\n",
            "Done.\n"
          ],
          "name": "stdout"
        },
        {
          "output_type": "execute_result",
          "data": {
            "text/html": [
              "<table>\n",
              "    <thead>\n",
              "        <tr>\n",
              "            <th>index</th>\n",
              "            <th>ca</th>\n",
              "            <th>community_area_name</th>\n",
              "            <th>percent_of_housing_crowded</th>\n",
              "            <th>percent_households_below_poverty</th>\n",
              "            <th>percent_aged_16_unemployed</th>\n",
              "            <th>percent_aged_25_without_high_school_diploma</th>\n",
              "            <th>percent_aged_under_18_or_over_64</th>\n",
              "            <th>per_capita_income_</th>\n",
              "            <th>hardship_index</th>\n",
              "        </tr>\n",
              "    </thead>\n",
              "    <tbody>\n",
              "        <tr>\n",
              "            <td>0</td>\n",
              "            <td>1.0</td>\n",
              "            <td>Rogers Park</td>\n",
              "            <td>7.7</td>\n",
              "            <td>23.6</td>\n",
              "            <td>8.7</td>\n",
              "            <td>18.2</td>\n",
              "            <td>27.5</td>\n",
              "            <td>23939</td>\n",
              "            <td>39.0</td>\n",
              "        </tr>\n",
              "        <tr>\n",
              "            <td>1</td>\n",
              "            <td>2.0</td>\n",
              "            <td>West Ridge</td>\n",
              "            <td>7.8</td>\n",
              "            <td>17.2</td>\n",
              "            <td>8.8</td>\n",
              "            <td>20.8</td>\n",
              "            <td>38.5</td>\n",
              "            <td>23040</td>\n",
              "            <td>46.0</td>\n",
              "        </tr>\n",
              "        <tr>\n",
              "            <td>2</td>\n",
              "            <td>3.0</td>\n",
              "            <td>Uptown</td>\n",
              "            <td>3.8</td>\n",
              "            <td>24.0</td>\n",
              "            <td>8.9</td>\n",
              "            <td>11.8</td>\n",
              "            <td>22.2</td>\n",
              "            <td>35787</td>\n",
              "            <td>20.0</td>\n",
              "        </tr>\n",
              "        <tr>\n",
              "            <td>3</td>\n",
              "            <td>4.0</td>\n",
              "            <td>Lincoln Square</td>\n",
              "            <td>3.4</td>\n",
              "            <td>10.9</td>\n",
              "            <td>8.2</td>\n",
              "            <td>13.4</td>\n",
              "            <td>25.5</td>\n",
              "            <td>37524</td>\n",
              "            <td>17.0</td>\n",
              "        </tr>\n",
              "        <tr>\n",
              "            <td>4</td>\n",
              "            <td>5.0</td>\n",
              "            <td>North Center</td>\n",
              "            <td>0.3</td>\n",
              "            <td>7.5</td>\n",
              "            <td>5.2</td>\n",
              "            <td>4.5</td>\n",
              "            <td>26.2</td>\n",
              "            <td>57123</td>\n",
              "            <td>6.0</td>\n",
              "        </tr>\n",
              "    </tbody>\n",
              "</table>"
            ],
            "text/plain": [
              "[(0, 1.0, 'Rogers Park', 7.7, 23.6, 8.7, 18.2, 27.5, 23939, 39.0),\n",
              " (1, 2.0, 'West Ridge', 7.8, 17.2, 8.8, 20.8, 38.5, 23040, 46.0),\n",
              " (2, 3.0, 'Uptown', 3.8, 24.0, 8.9, 11.8, 22.2, 35787, 20.0),\n",
              " (3, 4.0, 'Lincoln Square', 3.4, 10.9, 8.2, 13.4, 25.5, 37524, 17.0),\n",
              " (4, 5.0, 'North Center', 0.3, 7.5, 5.2, 4.5, 26.2, 57123, 6.0)]"
            ]
          },
          "metadata": {
            "tags": []
          },
          "execution_count": 6
        }
      ]
    },
    {
      "cell_type": "markdown",
      "metadata": {
        "id": "umaHKw_j8Xnj"
      },
      "source": [
        "### Problem 1\r\n",
        "\r\n",
        "##### How many rows are in the dataset?"
      ]
    },
    {
      "cell_type": "code",
      "metadata": {
        "colab": {
          "base_uri": "https://localhost:8080/",
          "height": 86
        },
        "id": "_A-uUlKY8YIY",
        "outputId": "d775b05f-e88d-41ca-fc52-d3d83a71a8f1"
      },
      "source": [
        "%sql SELECT COUNT(*) FROM chicago_socioeconomic_data;\r\n"
      ],
      "execution_count": null,
      "outputs": [
        {
          "output_type": "stream",
          "text": [
            " * db2+ibm_db://hwq67488:***@dashdb-txn-sbox-yp-dal09-04.services.dal.bluemix.net:50000/BLUDB\n",
            "Done.\n"
          ],
          "name": "stdout"
        },
        {
          "output_type": "execute_result",
          "data": {
            "text/html": [
              "<table>\n",
              "    <thead>\n",
              "        <tr>\n",
              "            <th>1</th>\n",
              "        </tr>\n",
              "    </thead>\n",
              "    <tbody>\n",
              "        <tr>\n",
              "            <td>78</td>\n",
              "        </tr>\n",
              "    </tbody>\n",
              "</table>"
            ],
            "text/plain": [
              "[(Decimal('78'),)]"
            ]
          },
          "metadata": {
            "tags": []
          },
          "execution_count": 7
        }
      ]
    },
    {
      "cell_type": "markdown",
      "metadata": {
        "id": "6mTZd8oE8dPC"
      },
      "source": [
        "### Problem 2\r\n",
        "\r\n",
        "##### How many community areas in Chicago have a hardship index greater than 50.0?"
      ]
    },
    {
      "cell_type": "code",
      "metadata": {
        "colab": {
          "base_uri": "https://localhost:8080/",
          "height": 86
        },
        "id": "_1jCc2YD8ZxD",
        "outputId": "5341f760-89a4-4d10-a01b-f2bfb1ba1587"
      },
      "source": [
        "%sql SELECT COUNT(*) FROM chicago_socioeconomic_data WHERE hardship_index > 50.0;\r\n"
      ],
      "execution_count": null,
      "outputs": [
        {
          "output_type": "stream",
          "text": [
            " * db2+ibm_db://hwq67488:***@dashdb-txn-sbox-yp-dal09-04.services.dal.bluemix.net:50000/BLUDB\n",
            "Done.\n"
          ],
          "name": "stdout"
        },
        {
          "output_type": "execute_result",
          "data": {
            "text/html": [
              "<table>\n",
              "    <thead>\n",
              "        <tr>\n",
              "            <th>1</th>\n",
              "        </tr>\n",
              "    </thead>\n",
              "    <tbody>\n",
              "        <tr>\n",
              "            <td>38</td>\n",
              "        </tr>\n",
              "    </tbody>\n",
              "</table>"
            ],
            "text/plain": [
              "[(Decimal('38'),)]"
            ]
          },
          "metadata": {
            "tags": []
          },
          "execution_count": 8
        }
      ]
    },
    {
      "cell_type": "markdown",
      "metadata": {
        "id": "aWk-D_d78ipz"
      },
      "source": [
        "### Problem 3\r\n",
        "\r\n",
        "##### What is the maximum value of hardship index in this dataset?"
      ]
    },
    {
      "cell_type": "code",
      "metadata": {
        "colab": {
          "base_uri": "https://localhost:8080/",
          "height": 86
        },
        "id": "KhbsUVSG8fix",
        "outputId": "3c3e401b-3511-4a7d-be79-504618c9beb0"
      },
      "source": [
        "%sql SELECT MAX(hardship_index) FROM chicago_socioeconomic_data;"
      ],
      "execution_count": null,
      "outputs": [
        {
          "output_type": "stream",
          "text": [
            " * db2+ibm_db://hwq67488:***@dashdb-txn-sbox-yp-dal09-04.services.dal.bluemix.net:50000/BLUDB\n",
            "Done.\n"
          ],
          "name": "stdout"
        },
        {
          "output_type": "execute_result",
          "data": {
            "text/html": [
              "<table>\n",
              "    <thead>\n",
              "        <tr>\n",
              "            <th>1</th>\n",
              "        </tr>\n",
              "    </thead>\n",
              "    <tbody>\n",
              "        <tr>\n",
              "            <td>98.0</td>\n",
              "        </tr>\n",
              "    </tbody>\n",
              "</table>"
            ],
            "text/plain": [
              "[(98.0,)]"
            ]
          },
          "metadata": {
            "tags": []
          },
          "execution_count": 9
        }
      ]
    },
    {
      "cell_type": "markdown",
      "metadata": {
        "id": "339Z-W_C8m6u"
      },
      "source": [
        "### Problem 4\r\n",
        "\r\n",
        "##### Which community area which has the highest hardship index?"
      ]
    },
    {
      "cell_type": "code",
      "metadata": {
        "colab": {
          "base_uri": "https://localhost:8080/",
          "height": 86
        },
        "id": "djpCSDq18k7R",
        "outputId": "e259f32a-db72-4ed9-c9a8-9f3f6033446a"
      },
      "source": [
        "#We can use the result of the last query to as an input to this query:\r\n",
        "%sql SELECT community_area_name FROM chicago_socioeconomic_data where hardship_index=98.0\r\n",
        "\r\n",
        "#or another option:\r\n",
        "#%sql SELECT community_area_name FROM chicago_socioeconomic_data ORDER BY hardship_index DESC NULLS LAST FETCH FIRST ROW ONLY;\r\n",
        "\r\n",
        "#or you can use a sub-query to determine the max hardship index:\r\n",
        "#%sql select community_area_name from chicago_socioeconomic_data where hardship_index = ( select max(hardship_index) from chicago_socioeconomic_data ) "
      ],
      "execution_count": null,
      "outputs": [
        {
          "output_type": "stream",
          "text": [
            " * db2+ibm_db://hwq67488:***@dashdb-txn-sbox-yp-dal09-04.services.dal.bluemix.net:50000/BLUDB\n",
            "Done.\n"
          ],
          "name": "stdout"
        },
        {
          "output_type": "execute_result",
          "data": {
            "text/html": [
              "<table>\n",
              "    <thead>\n",
              "        <tr>\n",
              "            <th>community_area_name</th>\n",
              "        </tr>\n",
              "    </thead>\n",
              "    <tbody>\n",
              "        <tr>\n",
              "            <td>Riverdale</td>\n",
              "        </tr>\n",
              "    </tbody>\n",
              "</table>"
            ],
            "text/plain": [
              "[('Riverdale',)]"
            ]
          },
          "metadata": {
            "tags": []
          },
          "execution_count": 12
        }
      ]
    },
    {
      "cell_type": "markdown",
      "metadata": {
        "id": "faYCtDx68yIk"
      },
      "source": [
        "### Problem 5\r\n",
        "\r\n",
        "##### Which Chicago community areas have per-capita incomes greater than $60,000?"
      ]
    },
    {
      "cell_type": "code",
      "metadata": {
        "colab": {
          "base_uri": "https://localhost:8080/",
          "height": 140
        },
        "id": "5-hEWhsH8qN4",
        "outputId": "5d382a4d-5080-4472-d4f7-95ed98be3c71"
      },
      "source": [
        "%sql SELECT community_area_name FROM chicago_socioeconomic_data WHERE per_capita_income_ > 60000;"
      ],
      "execution_count": null,
      "outputs": [
        {
          "output_type": "stream",
          "text": [
            " * db2+ibm_db://hwq67488:***@dashdb-txn-sbox-yp-dal09-04.services.dal.bluemix.net:50000/BLUDB\n",
            "Done.\n"
          ],
          "name": "stdout"
        },
        {
          "output_type": "execute_result",
          "data": {
            "text/html": [
              "<table>\n",
              "    <thead>\n",
              "        <tr>\n",
              "            <th>community_area_name</th>\n",
              "        </tr>\n",
              "    </thead>\n",
              "    <tbody>\n",
              "        <tr>\n",
              "            <td>Lake View</td>\n",
              "        </tr>\n",
              "        <tr>\n",
              "            <td>Lincoln Park</td>\n",
              "        </tr>\n",
              "        <tr>\n",
              "            <td>Near North Side</td>\n",
              "        </tr>\n",
              "        <tr>\n",
              "            <td>Loop</td>\n",
              "        </tr>\n",
              "    </tbody>\n",
              "</table>"
            ],
            "text/plain": [
              "[('Lake View',), ('Lincoln Park',), ('Near North Side',), ('Loop',)]"
            ]
          },
          "metadata": {
            "tags": []
          },
          "execution_count": 13
        }
      ]
    },
    {
      "cell_type": "markdown",
      "metadata": {
        "id": "OOz0pbcW82YL"
      },
      "source": [
        "### Problem 6\r\n",
        "\r\n",
        "##### Create a scatter plot using the variables `per_capita_income_` and `hardship_index`. Explain the correlation between the two variables."
      ]
    },
    {
      "cell_type": "code",
      "metadata": {
        "colab": {
          "base_uri": "https://localhost:8080/",
          "height": 474
        },
        "id": "lbvG64Pi80Wc",
        "outputId": "194f19d8-0d78-4654-d4e6-f472d1e5399e"
      },
      "source": [
        "# if the import command gives ModuleNotFoundError: No module named 'seaborn'\r\n",
        "# then uncomment the following line i.e. delete the # to install the seaborn package \r\n",
        "# !pip install seaborn\r\n",
        "\r\n",
        "import matplotlib.pyplot as plt\r\n",
        "%matplotlib inline\r\n",
        "import seaborn as sns\r\n",
        "\r\n",
        "income_vs_hardship = %sql SELECT per_capita_income_, hardship_index FROM chicago_socioeconomic_data;\r\n",
        "plot = sns.jointplot(x='per_capita_income_',y='hardship_index', data=income_vs_hardship.DataFrame())"
      ],
      "execution_count": null,
      "outputs": [
        {
          "output_type": "stream",
          "text": [
            " * db2+ibm_db://hwq67488:***@dashdb-txn-sbox-yp-dal09-04.services.dal.bluemix.net:50000/BLUDB\n",
            "Done.\n"
          ],
          "name": "stdout"
        },
        {
          "output_type": "display_data",
          "data": {
            "image/png": "[encoded data removed]",
            "text/plain": [
              "<Figure size 432x432 with 3 Axes>"
            ]
          },
          "metadata": {
            "tags": [],
            "needs_background": "light"
          }
        }
      ]
    },
    {
      "cell_type": "code",
      "metadata": {
        "id": "rd0zGAV-86BF"
      },
      "source": [
        ""
      ],
      "execution_count": null,
      "outputs": []
    }
  ]
}