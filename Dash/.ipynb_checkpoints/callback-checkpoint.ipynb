{
 "cells": [
  {
   "cell_type": "markdown",
   "metadata": {},
   "source": [
    "# CallBack"
   ]
  },
  {
   "cell_type": "markdown",
   "metadata": {},
   "source": [
    "---"
   ]
  },
  {
   "cell_type": "markdown",
   "metadata": {},
   "source": [
    "Calbacks, são funções responsáveis para gerar interatividade na aplicação. Essas funções recebem inputs e de acordo com esse ou esses inputs, ele muda os gráficos associados. Eles são associados a ids para garantir que uma determinada ação gere uma mudança no gráfico com o id informado."
   ]
  },
  {
   "cell_type": "markdown",
   "metadata": {},
   "source": [
    "## Callback exemplo - 1\n",
    "### Miltiplos inputs e Multiplo Outputs"
   ]
  },
  {
   "cell_type": "code",
   "execution_count": 8,
   "metadata": {},
   "outputs": [
    {
     "name": "stdout",
     "output_type": "stream",
     "text": [
      "Requirement already satisfied: pandas_datareader in c:\\programdata\\anaconda3\\lib\\site-packages (0.9.0)\n",
      "Requirement already satisfied: pandas>=0.23 in c:\\programdata\\anaconda3\\lib\\site-packages (from pandas_datareader) (1.2.0)\n",
      "Requirement already satisfied: requests>=2.19.0 in c:\\programdata\\anaconda3\\lib\\site-packages (from pandas_datareader) (2.24.0)\n",
      "Requirement already satisfied: lxml in c:\\programdata\\anaconda3\\lib\\site-packages (from pandas_datareader) (4.5.2)\n",
      "Requirement already satisfied: numpy>=1.16.5 in c:\\programdata\\anaconda3\\lib\\site-packages (from pandas>=0.23->pandas_datareader) (1.19.4)\n",
      "Requirement already satisfied: python-dateutil>=2.7.3 in c:\\users\\paulo\\appdata\\roaming\\python\\python38\\site-packages (from pandas>=0.23->pandas_datareader) (2.8.1)\n",
      "Requirement already satisfied: pytz>=2017.3 in c:\\programdata\\anaconda3\\lib\\site-packages (from pandas>=0.23->pandas_datareader) (2020.1)\n",
      "Requirement already satisfied: six>=1.5 in c:\\users\\paulo\\appdata\\roaming\\python\\python38\\site-packages (from python-dateutil>=2.7.3->pandas>=0.23->pandas_datareader) (1.15.0)\n",
      "Requirement already satisfied: certifi>=2017.4.17 in c:\\programdata\\anaconda3\\lib\\site-packages (from requests>=2.19.0->pandas_datareader) (2020.6.20)\n",
      "Requirement already satisfied: chardet<4,>=3.0.2 in c:\\programdata\\anaconda3\\lib\\site-packages (from requests>=2.19.0->pandas_datareader) (3.0.4)\n",
      "Requirement already satisfied: idna<3,>=2.5 in c:\\programdata\\anaconda3\\lib\\site-packages (from requests>=2.19.0->pandas_datareader) (2.10)\n",
      "Requirement already satisfied: urllib3!=1.25.0,!=1.25.1,<1.26,>=1.21.1 in c:\\programdata\\anaconda3\\lib\\site-packages (from requests>=2.19.0->pandas_datareader) (1.25.9)\n"
     ]
    }
   ],
   "source": [
    "!pip install pandas_datareader"
   ]
  },
  {
   "cell_type": "code",
   "execution_count": null,
   "metadata": {},
   "outputs": [],
   "source": [
    "import pandas as pd\n",
    "import plotly.express as px\n",
    "\n",
    "import dash\n",
    "import dash_core_components as dcc\n",
    "import dash_html_components as html\n",
    "from dash.dependencies import Input, Output, State\n",
    "import pandas_datareader.data as web\n",
    "import datetime\n",
    "\n"
   ]
  },
  {
   "cell_type": "code",
   "execution_count": null,
   "metadata": {},
   "outputs": [],
   "source": [
    "# https://stooq.com/\n",
    "start = datetime.datetime(2019, 1, 1)\n",
    "end = datetime.datetime(2021, 2, 15)\n",
    "\n",
    "df = web.DataReader(['SVAC','JNJ','PFE','MRNA','BNTX'],\n",
    "                    'stooq', start=start, end=end)\n",
    "\n",
    "df = df.stack().reset_index()\n",
    "\n",
    "cores = [\"black\", \"red\", \"blue\", \"orange\", 'yellow']\n"
   ]
  },
  {
   "cell_type": "code",
   "execution_count": 8,
   "metadata": {},
   "outputs": [
    {
     "data": {
      "text/html": [
       "<div>\n",
       "<style scoped>\n",
       "    .dataframe tbody tr th:only-of-type {\n",
       "        vertical-align: middle;\n",
       "    }\n",
       "\n",
       "    .dataframe tbody tr th {\n",
       "        vertical-align: top;\n",
       "    }\n",
       "\n",
       "    .dataframe thead th {\n",
       "        text-align: right;\n",
       "    }\n",
       "</style>\n",
       "<table border=\"1\" class=\"dataframe\">\n",
       "  <thead>\n",
       "    <tr style=\"text-align: right;\">\n",
       "      <th>Attributes</th>\n",
       "      <th>Date</th>\n",
       "      <th>Symbols</th>\n",
       "      <th>Close</th>\n",
       "      <th>High</th>\n",
       "      <th>Low</th>\n",
       "      <th>Open</th>\n",
       "      <th>Volume</th>\n",
       "    </tr>\n",
       "  </thead>\n",
       "  <tbody>\n",
       "    <tr>\n",
       "      <th>0</th>\n",
       "      <td>2019-01-02</td>\n",
       "      <td>JNJ</td>\n",
       "      <td>120.210</td>\n",
       "      <td>120.810</td>\n",
       "      <td>118.830</td>\n",
       "      <td>120.580</td>\n",
       "      <td>8110385.0</td>\n",
       "    </tr>\n",
       "    <tr>\n",
       "      <th>1</th>\n",
       "      <td>2019-01-02</td>\n",
       "      <td>PFE</td>\n",
       "      <td>39.634</td>\n",
       "      <td>39.863</td>\n",
       "      <td>39.070</td>\n",
       "      <td>39.515</td>\n",
       "      <td>27364131.0</td>\n",
       "    </tr>\n",
       "    <tr>\n",
       "      <th>2</th>\n",
       "      <td>2019-01-02</td>\n",
       "      <td>MRNA</td>\n",
       "      <td>15.330</td>\n",
       "      <td>15.450</td>\n",
       "      <td>14.510</td>\n",
       "      <td>14.930</td>\n",
       "      <td>2318094.0</td>\n",
       "    </tr>\n",
       "    <tr>\n",
       "      <th>3</th>\n",
       "      <td>2019-01-03</td>\n",
       "      <td>JNJ</td>\n",
       "      <td>118.290</td>\n",
       "      <td>120.710</td>\n",
       "      <td>117.960</td>\n",
       "      <td>120.580</td>\n",
       "      <td>9197569.0</td>\n",
       "    </tr>\n",
       "    <tr>\n",
       "      <th>4</th>\n",
       "      <td>2019-01-03</td>\n",
       "      <td>PFE</td>\n",
       "      <td>38.524</td>\n",
       "      <td>39.716</td>\n",
       "      <td>38.442</td>\n",
       "      <td>39.624</td>\n",
       "      <td>29510593.0</td>\n",
       "    </tr>\n",
       "  </tbody>\n",
       "</table>\n",
       "</div>"
      ],
      "text/plain": [
       "Attributes       Date Symbols    Close     High      Low     Open      Volume\n",
       "0          2019-01-02     JNJ  120.210  120.810  118.830  120.580   8110385.0\n",
       "1          2019-01-02     PFE   39.634   39.863   39.070   39.515  27364131.0\n",
       "2          2019-01-02    MRNA   15.330   15.450   14.510   14.930   2318094.0\n",
       "3          2019-01-03     JNJ  118.290  120.710  117.960  120.580   9197569.0\n",
       "4          2019-01-03     PFE   38.524   39.716   38.442   39.624  29510593.0"
      ]
     },
     "execution_count": 8,
     "metadata": {},
     "output_type": "execute_result"
    }
   ],
   "source": [
    "df.head()"
   ]
  },
  {
   "cell_type": "code",
   "execution_count": 9,
   "metadata": {},
   "outputs": [
    {
     "data": {
      "text/plain": [
       "array(['JNJ', 'PFE', 'MRNA', 'BNTX', 'SVAC'], dtype=object)"
      ]
     },
     "execution_count": 9,
     "metadata": {},
     "output_type": "execute_result"
    }
   ],
   "source": [
    "df.Symbols.unique()"
   ]
  },
  {
   "cell_type": "code",
   "execution_count": 13,
   "metadata": {},
   "outputs": [
    {
     "data": {
      "text/html": [
       "<div>\n",
       "<style scoped>\n",
       "    .dataframe tbody tr th:only-of-type {\n",
       "        vertical-align: middle;\n",
       "    }\n",
       "\n",
       "    .dataframe tbody tr th {\n",
       "        vertical-align: top;\n",
       "    }\n",
       "\n",
       "    .dataframe thead th {\n",
       "        text-align: right;\n",
       "    }\n",
       "</style>\n",
       "<table border=\"1\" class=\"dataframe\">\n",
       "  <thead>\n",
       "    <tr style=\"text-align: right;\">\n",
       "      <th>Attributes</th>\n",
       "      <th>Date</th>\n",
       "      <th>Symbols</th>\n",
       "      <th>Close</th>\n",
       "      <th>High</th>\n",
       "      <th>Low</th>\n",
       "      <th>Open</th>\n",
       "      <th>Volume</th>\n",
       "    </tr>\n",
       "  </thead>\n",
       "  <tbody>\n",
       "    <tr>\n",
       "      <th>1</th>\n",
       "      <td>2019-01-02</td>\n",
       "      <td>PFE</td>\n",
       "      <td>39.634</td>\n",
       "      <td>39.863</td>\n",
       "      <td>39.070</td>\n",
       "      <td>39.515</td>\n",
       "      <td>27364131.0</td>\n",
       "    </tr>\n",
       "    <tr>\n",
       "      <th>4</th>\n",
       "      <td>2019-01-03</td>\n",
       "      <td>PFE</td>\n",
       "      <td>38.524</td>\n",
       "      <td>39.716</td>\n",
       "      <td>38.442</td>\n",
       "      <td>39.624</td>\n",
       "      <td>29510593.0</td>\n",
       "    </tr>\n",
       "    <tr>\n",
       "      <th>7</th>\n",
       "      <td>2019-01-04</td>\n",
       "      <td>PFE</td>\n",
       "      <td>39.404</td>\n",
       "      <td>39.721</td>\n",
       "      <td>38.721</td>\n",
       "      <td>38.892</td>\n",
       "      <td>28104451.0</td>\n",
       "    </tr>\n",
       "    <tr>\n",
       "      <th>10</th>\n",
       "      <td>2019-01-07</td>\n",
       "      <td>PFE</td>\n",
       "      <td>39.616</td>\n",
       "      <td>39.973</td>\n",
       "      <td>39.277</td>\n",
       "      <td>39.470</td>\n",
       "      <td>21737296.0</td>\n",
       "    </tr>\n",
       "    <tr>\n",
       "      <th>13</th>\n",
       "      <td>2019-01-08</td>\n",
       "      <td>PFE</td>\n",
       "      <td>39.799</td>\n",
       "      <td>40.046</td>\n",
       "      <td>39.542</td>\n",
       "      <td>39.918</td>\n",
       "      <td>20372429.0</td>\n",
       "    </tr>\n",
       "    <tr>\n",
       "      <th>...</th>\n",
       "      <td>...</td>\n",
       "      <td>...</td>\n",
       "      <td>...</td>\n",
       "      <td>...</td>\n",
       "      <td>...</td>\n",
       "      <td>...</td>\n",
       "      <td>...</td>\n",
       "    </tr>\n",
       "    <tr>\n",
       "      <th>1997</th>\n",
       "      <td>2021-02-10</td>\n",
       "      <td>BNTX</td>\n",
       "      <td>119.350</td>\n",
       "      <td>120.330</td>\n",
       "      <td>117.100</td>\n",
       "      <td>119.055</td>\n",
       "      <td>1397490.0</td>\n",
       "    </tr>\n",
       "    <tr>\n",
       "      <th>2000</th>\n",
       "      <td>2021-02-11</td>\n",
       "      <td>PFE</td>\n",
       "      <td>34.430</td>\n",
       "      <td>34.810</td>\n",
       "      <td>34.280</td>\n",
       "      <td>34.800</td>\n",
       "      <td>30885165.0</td>\n",
       "    </tr>\n",
       "    <tr>\n",
       "      <th>2002</th>\n",
       "      <td>2021-02-11</td>\n",
       "      <td>BNTX</td>\n",
       "      <td>118.030</td>\n",
       "      <td>119.930</td>\n",
       "      <td>115.420</td>\n",
       "      <td>119.000</td>\n",
       "      <td>1352840.0</td>\n",
       "    </tr>\n",
       "    <tr>\n",
       "      <th>2005</th>\n",
       "      <td>2021-02-12</td>\n",
       "      <td>PFE</td>\n",
       "      <td>34.720</td>\n",
       "      <td>34.950</td>\n",
       "      <td>34.360</td>\n",
       "      <td>34.440</td>\n",
       "      <td>25578646.0</td>\n",
       "    </tr>\n",
       "    <tr>\n",
       "      <th>2007</th>\n",
       "      <td>2021-02-12</td>\n",
       "      <td>BNTX</td>\n",
       "      <td>117.560</td>\n",
       "      <td>118.800</td>\n",
       "      <td>115.850</td>\n",
       "      <td>118.490</td>\n",
       "      <td>1028583.0</td>\n",
       "    </tr>\n",
       "  </tbody>\n",
       "</table>\n",
       "<p>873 rows × 7 columns</p>\n",
       "</div>"
      ],
      "text/plain": [
       "Attributes       Date Symbols    Close     High      Low     Open      Volume\n",
       "1          2019-01-02     PFE   39.634   39.863   39.070   39.515  27364131.0\n",
       "4          2019-01-03     PFE   38.524   39.716   38.442   39.624  29510593.0\n",
       "7          2019-01-04     PFE   39.404   39.721   38.721   38.892  28104451.0\n",
       "10         2019-01-07     PFE   39.616   39.973   39.277   39.470  21737296.0\n",
       "13         2019-01-08     PFE   39.799   40.046   39.542   39.918  20372429.0\n",
       "...               ...     ...      ...      ...      ...      ...         ...\n",
       "1997       2021-02-10    BNTX  119.350  120.330  117.100  119.055   1397490.0\n",
       "2000       2021-02-11     PFE   34.430   34.810   34.280   34.800  30885165.0\n",
       "2002       2021-02-11    BNTX  118.030  119.930  115.420  119.000   1352840.0\n",
       "2005       2021-02-12     PFE   34.720   34.950   34.360   34.440  25578646.0\n",
       "2007       2021-02-12    BNTX  117.560  118.800  115.850  118.490   1028583.0\n",
       "\n",
       "[873 rows x 7 columns]"
      ]
     },
     "execution_count": 13,
     "metadata": {},
     "output_type": "execute_result"
    }
   ],
   "source": [
    "df[df[\"Symbols\"].isin(['PFE','BNTX'])]"
   ]
  },
  {
   "cell_type": "code",
   "execution_count": 5,
   "metadata": {},
   "outputs": [],
   "source": [
    "app1 = dash.Dash(__name__)\n",
    "\n",
    "app1.layout = html.Div(\n",
    "\n",
    "        [\n",
    "        \n",
    "        # dash component \n",
    "        html.H1(id = 'output-titulo', children='Valor de Ação - Covid-19',  style={} ),\n",
    "            \n",
    "        # dash component \n",
    "        dcc.Dropdown( id = 'meu-dropdown', multi = True,\n",
    "                    options = [{ 'label': x , 'value': x   } for x in sorted(df.Symbols.unique())  ],\n",
    "                    value =['SVAC','JNJ','PFE','MRNA','BNTX']\n",
    "                    ,style={'text-align': 'center'}  \n",
    "                    ),\n",
    "        # dash component \n",
    "        dcc.Graph(id = 'grafico-output', figure ={}),\n",
    "            \n",
    "        # dash component \n",
    "        dcc.RadioItems(id = 'cores-id', value = 'black', options = [{ 'label': c, 'value': c   } for c in cores]),\n",
    "        ]\n",
    "\n",
    ")\n"
   ]
  },
  {
   "cell_type": "code",
   "execution_count": 6,
   "metadata": {},
   "outputs": [],
   "source": [
    "@app1.callback(\n",
    "    [Output(component_id='output-titulo', component_property='style'),\n",
    "     Output(component_id='grafico-output', component_property='figure')],\n",
    "    \n",
    "    [Input(component_id='cores-id', component_property='value'),\n",
    "    Input(component_id='meu-dropdown', component_property='value')],\n",
    "   # prevent_initial_call=False # True : Não ativa o callback quando a pagina é atualizada\n",
    ")\n",
    "\n",
    "def muda_grafico(titulo_style, dropdown_figure):\n",
    "\n",
    "    if len(dropdown_figure) == 0:\n",
    "        return {\"color\": titulo_style, 'text-align': 'center'}, dash.no_update # faz update em somente um componente quando a página é atualizada - nesse caso a cor e nao o grafico\n",
    "    else:\n",
    "        df_copy = df[df[\"Symbols\"].isin(dropdown_figure)]\n",
    "        fig = px.line(df_copy, x='Date', y='Close', color = 'Symbols')\n",
    "\n",
    "    return {\"color\": titulo_style, 'text-align': 'right', 'background-color': 'powderblue'}, fig\n",
    "\n"
   ]
  },
  {
   "cell_type": "code",
   "execution_count": 7,
   "metadata": {},
   "outputs": [
    {
     "name": "stdout",
     "output_type": "stream",
     "text": [
      "Dash is running on http://127.0.0.1:2/\n",
      "\n",
      " * Serving Flask app \"__main__\" (lazy loading)\n",
      " * Environment: production\n",
      "   WARNING: This is a development server. Do not use it in a production deployment.\n",
      "   Use a production WSGI server instead.\n",
      " * Debug mode: on\n"
     ]
    }
   ],
   "source": [
    "\n",
    "if __name__ == \"__main__\":\n",
    "    app1.run_server(debug=True, port=2, use_reloader=False)"
   ]
  },
  {
   "cell_type": "markdown",
   "metadata": {},
   "source": [
    "---"
   ]
  }
 ],
 "metadata": {
  "kernelspec": {
   "display_name": "Python 3",
   "language": "python",
   "name": "python3"
  },
  "language_info": {
   "codemirror_mode": {
    "name": "ipython",
    "version": 3
   },
   "file_extension": ".py",
   "mimetype": "text/x-python",
   "name": "python",
   "nbconvert_exporter": "python",
   "pygments_lexer": "ipython3",
   "version": "3.8.3"
  }
 },
 "nbformat": 4,
 "nbformat_minor": 4
}
