{
 "cells": [
  {
   "cell_type": "markdown",
   "metadata": {},
   "source": [
    "# Dash Bootstrap"
   ]
  },
  {
   "cell_type": "markdown",
   "metadata": {},
   "source": [
    "---"
   ]
  },
  {
   "cell_type": "markdown",
   "metadata": {},
   "source": [
    "- #!pip install dash_bootstrap_components\n",
    "- [Dash Bootstrap Temas](https://www.bootstrapcdn.com/bootswatch/)\n",
    "- [Documentação Bootstrap](https://dash-bootstrap-components.opensource.faculty.ai/docs/components/alert/)"
   ]
  },
  {
   "cell_type": "code",
   "execution_count": null,
   "metadata": {},
   "outputs": [],
   "source": [
    "import dash\n",
    "import dash_core_components as dcc\n",
    "import dash_html_components as html\n",
    "from dash.dependencies import Output, Input\n",
    "import plotly.express as px\n",
    "import dash_bootstrap_components as dbc # pip install dash_bootstrap_components\n",
    "import pandas as pd\n",
    "import pandas_datareader.data as web\n",
    "import datetime\n"
   ]
  },
  {
   "cell_type": "code",
   "execution_count": 2,
   "metadata": {},
   "outputs": [],
   "source": [
    "# https://stooq.com/\n",
    "start = datetime.datetime(2020, 1, 1)\n",
    "end = datetime.datetime(2020, 12, 3)\n",
    "\n",
    "df = web.DataReader(['AMZN','GOOGL','FB','PFE','MRNA','BNTX'],\n",
    "                    'stooq', start=start, end=end)\n",
    "\n",
    "# df=df.melt(ignore_index=False, value_name=\"price\").reset_index()\n",
    "\n",
    "df = df.stack().reset_index()\n",
    "# print(df[:15])"
   ]
  },
  {
   "cell_type": "code",
   "execution_count": 3,
   "metadata": {},
   "outputs": [],
   "source": [
    "app = dash.Dash( __name__ , external_stylesheets=[dbc.themes.SOLAR],\n",
    "                        # para gerar responsividade - mobile\n",
    "                        meta_tags=[{'name': 'viewport', \n",
    "                                    'content': 'width=device-width, initial-scale=1.0'}]  )\n",
    "                \n"
   ]
  },
  {
   "cell_type": "code",
   "execution_count": 4,
   "metadata": {},
   "outputs": [],
   "source": [
    "                   \n",
    "app.layout = dbc.Container([\n",
    "    dbc.Row([\n",
    "        dbc.Col(html.H1(\"Stock Market Dashboard\", \n",
    "                        className = 'text-center text-primary, mb-4'), \n",
    "                        width = 12  )\n",
    "\n",
    "    ]),\n",
    "\n",
    "    dbc.Row([\n",
    "\n",
    "\n",
    "    ]),\n",
    "\n",
    "    dbc.Row([\n",
    "\n",
    "\n",
    "    ])\n",
    "\n",
    "])\n",
    "\n"
   ]
  },
  {
   "cell_type": "code",
   "execution_count": null,
   "metadata": {},
   "outputs": [
    {
     "name": "stdout",
     "output_type": "stream",
     "text": [
      "Dash is running on http://127.0.0.1:8080/\n",
      "\n",
      " * Serving Flask app \"__main__\" (lazy loading)\n",
      " * Environment: production\n",
      "   WARNING: This is a development server. Do not use it in a production deployment.\n",
      "   Use a production WSGI server instead.\n",
      " * Debug mode: on\n"
     ]
    }
   ],
   "source": [
    "if __name__ == '__main__':\n",
    "    app.run_server(debug=True, port=8080, use_reloader = False)"
   ]
  },
  {
   "cell_type": "code",
   "execution_count": null,
   "metadata": {},
   "outputs": [],
   "source": []
  },
  {
   "cell_type": "code",
   "execution_count": null,
   "metadata": {},
   "outputs": [],
   "source": []
  }
 ],
 "metadata": {
  "kernelspec": {
   "display_name": "Python 3",
   "language": "python",
   "name": "python3"
  },
  "language_info": {
   "codemirror_mode": {
    "name": "ipython",
    "version": 3
   },
   "file_extension": ".py",
   "mimetype": "text/x-python",
   "name": "python",
   "nbconvert_exporter": "python",
   "pygments_lexer": "ipython3",
   "version": "3.8.3"
  }
 },
 "nbformat": 4,
 "nbformat_minor": 4
}
