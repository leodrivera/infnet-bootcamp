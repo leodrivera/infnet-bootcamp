{
 "cells": [
  {
   "cell_type": "markdown",
   "metadata": {},
   "source": [
    "# Dash Components"
   ]
  },
  {
   "cell_type": "markdown",
   "metadata": {},
   "source": [
    "## Dash Core Components"
   ]
  },
  {
   "cell_type": "markdown",
   "metadata": {},
   "source": [
    "---"
   ]
  },
  {
   "cell_type": "markdown",
   "metadata": {},
   "source": [
    "- São os componentes para interatividade com o usuário"
   ]
  },
  {
   "cell_type": "markdown",
   "metadata": {},
   "source": [
    "## Dropdown\n"
   ]
  },
  {
   "cell_type": "markdown",
   "metadata": {},
   "source": [
    "---"
   ]
  },
  {
   "cell_type": "code",
   "execution_count": null,
   "metadata": {},
   "outputs": [],
   "source": [
    "import dash_core_components as dcc\n",
    "\n",
    "dcc.Dropdown(\n",
    "    options=[\n",
    "        {'label': 'New York City', 'value': 'NYC'},\n",
    "        {'label': 'Montréal', 'value': 'MTL'},\n",
    "        {'label': 'San Francisco', 'value': 'SF'}\n",
    "    ],\n",
    "    value='MTL'\n",
    ")  "
   ]
  },
  {
   "cell_type": "code",
   "execution_count": null,
   "metadata": {},
   "outputs": [],
   "source": [
    "import dash_core_components as dcc\n",
    "\n",
    "dcc.Dropdown(\n",
    "    options=[\n",
    "        {'label': 'New York City', 'value': 'NYC'},\n",
    "        {'label': 'Montréal', 'value': 'MTL'},\n",
    "        {'label': 'San Francisco', 'value': 'SF'}\n",
    "    ],\n",
    "    multi=True,\n",
    "    value=\"MTL\"\n",
    ")  "
   ]
  },
  {
   "cell_type": "markdown",
   "metadata": {},
   "source": [
    "## Slider\n",
    "\n"
   ]
  },
  {
   "cell_type": "markdown",
   "metadata": {},
   "source": [
    "---"
   ]
  },
  {
   "cell_type": "code",
   "execution_count": null,
   "metadata": {},
   "outputs": [],
   "source": [
    "import dash_core_components as dcc\n",
    "\n",
    "dcc.Slider(\n",
    "    min=-5,\n",
    "    max=10,\n",
    "    step=0.5,\n",
    "    value=-3\n",
    ")  "
   ]
  },
  {
   "cell_type": "code",
   "execution_count": null,
   "metadata": {},
   "outputs": [],
   "source": [
    "import dash_core_components as dcc\n",
    "\n",
    "dcc.Slider(\n",
    "    min=0,\n",
    "    max=9,\n",
    "    marks={i: 'Label {}'.format(i) for i in range(10)},\n",
    "    value=5,\n",
    ")  "
   ]
  },
  {
   "cell_type": "markdown",
   "metadata": {},
   "source": [
    "---"
   ]
  },
  {
   "cell_type": "markdown",
   "metadata": {},
   "source": [
    "## RangeSlider"
   ]
  },
  {
   "cell_type": "markdown",
   "metadata": {},
   "source": [
    "import dash_core_components as dcc\n",
    "\n",
    "dcc.RangeSlider(\n",
    "    count=1,\n",
    "    min=-5,\n",
    "    max=10,\n",
    "    step=0.5,\n",
    "    value=[-3, 7]\n",
    ")  "
   ]
  },
  {
   "cell_type": "code",
   "execution_count": null,
   "metadata": {},
   "outputs": [],
   "source": [
    "import dash_core_components as dcc\n",
    "\n",
    "dcc.RangeSlider(\n",
    "    marks={i: 'Label {}'.format(i) for i in range(-5, 7)},\n",
    "    min=-5,\n",
    "    max=6,\n",
    "    value=[-3, 4]\n",
    ")  "
   ]
  },
  {
   "cell_type": "markdown",
   "metadata": {},
   "source": [
    "---"
   ]
  },
  {
   "cell_type": "code",
   "execution_count": null,
   "metadata": {},
   "outputs": [],
   "source": [
    "import dash\n",
    "import dash_core_components as dcc\n",
    "import dash_html_components as html \n",
    "\n",
    "app = dash.Dash()\n",
    "\n",
    "app.layout = html.Div([\n",
    "        html.H1('Dropdown'),\n",
    "    \n",
    "        dcc.Dropdown(\n",
    "        options=[\n",
    "            {'label': 'New York City', 'value': 'NYC'},\n",
    "            {'label': 'Montréal', 'value': 'MTL'},\n",
    "            {'label': 'San Francisco', 'value': 'SF'}\n",
    "        ],\n",
    "        value='MTL'   ) , \n",
    "        \n",
    "        html.Br(),\n",
    "\n",
    "        dcc.Dropdown(\n",
    "        options=[\n",
    "            {'label': 'New York City', 'value': 'NYC'},\n",
    "            {'label': 'Montréal', 'value': 'MTL'},\n",
    "            {'label': 'San Francisco', 'value': 'SF'}\n",
    "        ],\n",
    "        multi=True,\n",
    "        value=\"MTL\" ),\n",
    "    \n",
    "        html.Br(),\n",
    "    \n",
    "        html.H1('Slider'),\n",
    "\n",
    "        dcc.Slider(\n",
    "        min=-5,\n",
    "        max=10,\n",
    "        step=0.5,\n",
    "        value=-3 ) , \n",
    "        \n",
    "        html.Br(),\n",
    "        html.Hr(),\n",
    "\n",
    "        dcc.Slider(\n",
    "        min=0,\n",
    "        max=9,\n",
    "        marks={i: 'Label {}'.format(i) for i in range(10)},\n",
    "        value=5 ),\n",
    "    \n",
    "        html.Br(),\n",
    "        html.H1('RangeSlider'),\n",
    "\n",
    "        dcc.RangeSlider(\n",
    "            count=1,\n",
    "            min=-5,\n",
    "            max=10,\n",
    "            step=0.5,\n",
    "            value=[-3, 7]\n",
    "        )  ,\n",
    "        \n",
    "        html.Br(),\n",
    "    \n",
    "        dcc.RangeSlider(\n",
    "        marks={i: 'Label {}'.format(i) for i in range(-5, 7)},\n",
    "        min=-5,\n",
    "        max=6,\n",
    "        value=[-3, 4]    )  \n",
    "\n",
    "\n",
    "])\n",
    "\n",
    "if __name__ == '__main__':\n",
    "    app.run_server(debug=True, port=8000,use_reloader = False)"
   ]
  },
  {
   "cell_type": "markdown",
   "metadata": {},
   "source": [
    "## Input"
   ]
  },
  {
   "cell_type": "code",
   "execution_count": null,
   "metadata": {},
   "outputs": [],
   "source": [
    "import dash_core_components as dcc\n",
    "\n",
    "dcc.Input(\n",
    "    placeholder='Enter a value...',\n",
    "    type='text',\n",
    "    value=''\n",
    ")  "
   ]
  },
  {
   "cell_type": "markdown",
   "metadata": {},
   "source": [
    "---\n"
   ]
  },
  {
   "cell_type": "markdown",
   "metadata": {},
   "source": [
    "## Textarea"
   ]
  },
  {
   "cell_type": "code",
   "execution_count": null,
   "metadata": {},
   "outputs": [],
   "source": [
    "import dash_core_components as dcc\n",
    "\n",
    "dcc.Textarea(\n",
    "    placeholder='Enter a value...',\n",
    "    value='This is a TextArea component',\n",
    "    style={'width': '100%'}\n",
    ")  "
   ]
  },
  {
   "cell_type": "markdown",
   "metadata": {},
   "source": [
    "---"
   ]
  },
  {
   "cell_type": "markdown",
   "metadata": {},
   "source": [
    "## Checkboxes"
   ]
  },
  {
   "cell_type": "code",
   "execution_count": null,
   "metadata": {},
   "outputs": [],
   "source": [
    "import dash_core_components as dcc\n",
    "\n",
    "dcc.Checklist(\n",
    "    options=[\n",
    "        {'label': 'New York City', 'value': 'NYC'},\n",
    "        {'label': 'Montréal', 'value': 'MTL'},\n",
    "        {'label': 'San Francisco', 'value': 'SF'}\n",
    "    ],\n",
    "    value=['MTL', 'SF']\n",
    ")  "
   ]
  },
  {
   "cell_type": "code",
   "execution_count": null,
   "metadata": {},
   "outputs": [],
   "source": [
    "import dash_core_components as dcc\n",
    "\n",
    "dcc.Checklist(\n",
    "    options=[\n",
    "        {'label': 'New York City', 'value': 'NYC'},\n",
    "        {'label': 'Montréal', 'value': 'MTL'},\n",
    "        {'label': 'San Francisco', 'value': 'SF'}\n",
    "    ],\n",
    "    value=['MTL', 'SF'],\n",
    "    labelStyle={'display': 'inline-block'}\n",
    ")  "
   ]
  },
  {
   "cell_type": "markdown",
   "metadata": {},
   "source": [
    "---"
   ]
  },
  {
   "cell_type": "markdown",
   "metadata": {},
   "source": [
    "## Radio Items"
   ]
  },
  {
   "cell_type": "code",
   "execution_count": null,
   "metadata": {},
   "outputs": [],
   "source": [
    "import dash_core_components as dcc\n",
    "\n",
    "dcc.RadioItems(\n",
    "    options=[\n",
    "        {'label': 'New York City', 'value': 'NYC'},\n",
    "        {'label': 'Montréal', 'value': 'MTL'},\n",
    "        {'label': 'San Francisco', 'value': 'SF'}\n",
    "    ],\n",
    "    value='MTL'\n",
    ")  "
   ]
  },
  {
   "cell_type": "code",
   "execution_count": null,
   "metadata": {},
   "outputs": [],
   "source": [
    "import dash_core_components as dcc\n",
    "\n",
    "dcc.RadioItems(\n",
    "    options=[\n",
    "        {'label': 'New York City', 'value': 'NYC'},\n",
    "        {'label': 'Montréal', 'value': 'MTL'},\n",
    "        {'label': 'San Francisco', 'value': 'SF'}\n",
    "    ],\n",
    "    value='MTL',\n",
    "    labelStyle={'display': 'inline-block'}\n",
    ")  "
   ]
  },
  {
   "cell_type": "markdown",
   "metadata": {},
   "source": [
    "---"
   ]
  },
  {
   "cell_type": "markdown",
   "metadata": {},
   "source": [
    "## DatePickerSingle"
   ]
  },
  {
   "cell_type": "code",
   "execution_count": null,
   "metadata": {},
   "outputs": [],
   "source": [
    "import dash_core_components as dcc\n",
    "from datetime import date\n",
    "\n",
    "dcc.DatePickerSingle(\n",
    "    id='date-picker-single',\n",
    "    date=date(1997, 5, 10)\n",
    ")"
   ]
  },
  {
   "cell_type": "markdown",
   "metadata": {},
   "source": [
    "## DatePickerSingleRange"
   ]
  },
  {
   "cell_type": "code",
   "execution_count": null,
   "metadata": {},
   "outputs": [],
   "source": [
    "import dash_core_components as dcc\n",
    "from datetime import date\n",
    "\n",
    "dcc.DatePickerRange(\n",
    "    id='date-picker-range',\n",
    "    start_date=date(1997, 5, 3),\n",
    "    end_date_placeholder_text='Select a date!'\n",
    ")"
   ]
  },
  {
   "cell_type": "markdown",
   "metadata": {},
   "source": [
    "---"
   ]
  },
  {
   "cell_type": "markdown",
   "metadata": {},
   "source": [
    "## Markdown"
   ]
  },
  {
   "cell_type": "code",
   "execution_count": null,
   "metadata": {},
   "outputs": [],
   "source": [
    "import dash_core_components as dcc\n",
    "\n",
    "dcc.Markdown('''\n",
    "#### Dash e Markdown\n",
    "\n",
    "Dash supports [Markdown](http://commonmark.org/help).\n",
    "\n",
    "Markdown is a simple way to write and format text.\n",
    "It includes a syntax for things like **bold text** and *italics*,\n",
    "[links](http://commonmark.org/help), inline `code` snippets, lists,\n",
    "quotes, and more.\n",
    "''')"
   ]
  },
  {
   "cell_type": "markdown",
   "metadata": {},
   "source": [
    "---"
   ]
  },
  {
   "cell_type": "code",
   "execution_count": null,
   "metadata": {},
   "outputs": [
    {
     "name": "stdout",
     "output_type": "stream",
     "text": [
      "Dash is running on http://127.0.0.1:8079/\n",
      "\n",
      " * Serving Flask app \"__main__\" (lazy loading)\n",
      " * Environment: production\n",
      "   WARNING: This is a development server. Do not use it in a production deployment.\n",
      "   Use a production WSGI server instead.\n",
      " * Debug mode: on\n"
     ]
    }
   ],
   "source": [
    "import dash\n",
    "import dash_core_components as dcc\n",
    "import dash_html_components as html \n",
    "from datetime import date\n",
    "\n",
    "app = dash.Dash()\n",
    "\n",
    "app.layout = html.Div([\n",
    "        html.H1('Input'),\n",
    "    \n",
    "        dcc.Input(\n",
    "        placeholder='Enter a value...',\n",
    "        type='text',\n",
    "        value=''\n",
    "                )   , \n",
    "        \n",
    "        html.Br(),\n",
    "        \n",
    "        html.H1('TextArea'),\n",
    "    \n",
    "        dcc.Textarea(\n",
    "            placeholder='Enter a value...',\n",
    "            value='This is a TextArea component',\n",
    "            style={'width': '100%'}\n",
    "        )  ,\n",
    "    \n",
    "        html.Br(),\n",
    "        html.H1('Checkbox'),\n",
    "\n",
    "        \n",
    "        dcc.Checklist(\n",
    "            options=[\n",
    "                {'label': 'New York City', 'value': 'NYC'},\n",
    "                {'label': 'Montréal', 'value': 'MTL'},\n",
    "                {'label': 'San Francisco', 'value': 'SF'}\n",
    "            ],\n",
    "            value=['MTL', 'SF']\n",
    "        )   , \n",
    "        \n",
    "\n",
    "        html.Br(),\n",
    "        html.H1('RadioItems'),\n",
    "\n",
    "        dcc.RadioItems(\n",
    "        options=[\n",
    "            {'label': 'New York City', 'value': 'NYC'},\n",
    "            {'label': 'Montréal', 'value': 'MTL'},\n",
    "            {'label': 'San Francisco', 'value': 'SF'}\n",
    "            ],\n",
    "                value='MTL'\n",
    "            )  ,\n",
    "\n",
    "    \n",
    "        html.Br(),\n",
    "        html.H1('Datepicker'),   \n",
    "\n",
    "        dcc.DatePickerSingle(\n",
    "            id='date-picker-single',\n",
    "            date=date(1997, 5, 10)\n",
    "                                ),\n",
    "        html.Br(),\n",
    "    \n",
    "        dcc.DatePickerRange(\n",
    "        id='date-picker-range',\n",
    "        start_date=date(1997, 5, 3),\n",
    "        end_date_placeholder_text='Select a date!'\n",
    "                            ),\n",
    "    \n",
    "        dcc.Markdown('''\n",
    "            #### Dash e Markdown\n",
    "\n",
    "            Podemos adicionar negrito e itálico **bold text** and *italics*,\n",
    "             ''')\n",
    "\n",
    "\n",
    "])\n",
    "\n",
    "if __name__ == '__main__':\n",
    "    app.run_server(debug=True, port=8079, use_reloader = False)"
   ]
  },
  {
   "cell_type": "code",
   "execution_count": null,
   "metadata": {},
   "outputs": [],
   "source": []
  }
 ],
 "metadata": {
  "kernelspec": {
   "display_name": "Python 3",
   "language": "python",
   "name": "python3"
  },
  "language_info": {
   "codemirror_mode": {
    "name": "ipython",
    "version": 3
   },
   "file_extension": ".py",
   "mimetype": "text/x-python",
   "name": "python",
   "nbconvert_exporter": "python",
   "pygments_lexer": "ipython3",
   "version": "3.8.3"
  }
 },
 "nbformat": 4,
 "nbformat_minor": 4
}
