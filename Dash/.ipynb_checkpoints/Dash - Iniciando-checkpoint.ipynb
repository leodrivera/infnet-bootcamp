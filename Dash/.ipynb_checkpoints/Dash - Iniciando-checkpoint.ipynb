{
 "cells": [
  {
   "cell_type": "code",
   "execution_count": 1,
   "id": "offensive-scroll",
   "metadata": {},
   "outputs": [
    {
     "name": "stdout",
     "output_type": "stream",
     "text": [
      "Collecting jupyter-dash\n",
      "  Downloading jupyter_dash-0.4.0-py3-none-any.whl (20 kB)\n",
      "Requirement already satisfied: requests in c:\\users\\leodr\\anaconda3\\lib\\site-packages (from jupyter-dash) (2.25.1)\n",
      "Requirement already satisfied: retrying in c:\\users\\leodr\\anaconda3\\lib\\site-packages (from jupyter-dash) (1.3.3)\n",
      "Collecting ansi2html\n",
      "  Downloading ansi2html-1.6.0-py3-none-any.whl (14 kB)\n",
      "Requirement already satisfied: ipython in c:\\users\\leodr\\anaconda3\\lib\\site-packages (from jupyter-dash) (7.21.0)\n",
      "Requirement already satisfied: ipykernel in c:\\users\\leodr\\appdata\\roaming\\python\\python38\\site-packages (from jupyter-dash) (5.5.0)\n",
      "Collecting dash\n",
      "  Downloading dash-1.19.0.tar.gz (75 kB)\n",
      "Requirement already satisfied: flask in c:\\users\\leodr\\anaconda3\\lib\\site-packages (from jupyter-dash) (1.1.2)\n",
      "Collecting flask-compress\n",
      "  Downloading Flask_Compress-1.9.0-py3-none-any.whl (7.3 kB)\n",
      "Requirement already satisfied: plotly in c:\\users\\leodr\\anaconda3\\lib\\site-packages (from dash->jupyter-dash) (4.14.3)\n",
      "Collecting dash_renderer==1.9.0\n",
      "  Downloading dash_renderer-1.9.0.tar.gz (1.0 MB)\n",
      "Collecting dash-core-components==1.15.0\n",
      "  Downloading dash_core_components-1.15.0.tar.gz (3.5 MB)\n",
      "Collecting dash-html-components==1.1.2\n",
      "  Downloading dash_html_components-1.1.2.tar.gz (188 kB)\n",
      "Collecting dash-table==4.11.2\n",
      "  Downloading dash_table-4.11.2.tar.gz (1.8 MB)\n",
      "Requirement already satisfied: future in c:\\users\\leodr\\anaconda3\\lib\\site-packages (from dash->jupyter-dash) (0.18.2)\n",
      "Requirement already satisfied: itsdangerous>=0.24 in c:\\users\\leodr\\anaconda3\\lib\\site-packages (from flask->jupyter-dash) (1.1.0)\n",
      "Requirement already satisfied: Jinja2>=2.10.1 in c:\\users\\leodr\\anaconda3\\lib\\site-packages (from flask->jupyter-dash) (2.11.3)\n",
      "Requirement already satisfied: click>=5.1 in c:\\users\\leodr\\anaconda3\\lib\\site-packages (from flask->jupyter-dash) (7.1.2)\n",
      "Requirement already satisfied: Werkzeug>=0.15 in c:\\users\\leodr\\anaconda3\\lib\\site-packages (from flask->jupyter-dash) (1.0.1)\n",
      "Requirement already satisfied: MarkupSafe>=0.23 in c:\\users\\leodr\\anaconda3\\lib\\site-packages (from Jinja2>=2.10.1->flask->jupyter-dash) (1.1.1)\n",
      "Collecting brotli\n",
      "  Downloading Brotli-1.0.9-cp38-cp38-win_amd64.whl (365 kB)\n",
      "Requirement already satisfied: tornado>=4.2 in c:\\users\\leodr\\appdata\\roaming\\python\\python38\\site-packages (from ipykernel->jupyter-dash) (6.1)\n",
      "Requirement already satisfied: traitlets>=4.1.0 in c:\\users\\leodr\\appdata\\roaming\\python\\python38\\site-packages (from ipykernel->jupyter-dash) (5.0.5)\n",
      "Requirement already satisfied: jupyter-client in c:\\users\\leodr\\appdata\\roaming\\python\\python38\\site-packages (from ipykernel->jupyter-dash) (6.1.11)\n",
      "Requirement already satisfied: pickleshare in c:\\users\\leodr\\appdata\\roaming\\python\\python38\\site-packages (from ipython->jupyter-dash) (0.7.5)\n",
      "Requirement already satisfied: pygments in c:\\users\\leodr\\appdata\\roaming\\python\\python38\\site-packages (from ipython->jupyter-dash) (2.8.0)\n",
      "Requirement already satisfied: setuptools>=18.5 in c:\\users\\leodr\\anaconda3\\lib\\site-packages (from ipython->jupyter-dash) (52.0.0.post20210125)\n",
      "Requirement already satisfied: backcall in c:\\users\\leodr\\appdata\\roaming\\python\\python38\\site-packages (from ipython->jupyter-dash) (0.2.0)\n",
      "Requirement already satisfied: jedi>=0.16 in c:\\users\\leodr\\appdata\\roaming\\python\\python38\\site-packages (from ipython->jupyter-dash) (0.18.0)\n",
      "Requirement already satisfied: decorator in c:\\users\\leodr\\appdata\\roaming\\python\\python38\\site-packages (from ipython->jupyter-dash) (4.4.2)\n",
      "Requirement already satisfied: prompt-toolkit!=3.0.0,!=3.0.1,<3.1.0,>=2.0.0 in c:\\users\\leodr\\anaconda3\\lib\\site-packages (from ipython->jupyter-dash) (3.0.17)\n",
      "Requirement already satisfied: colorama in c:\\users\\leodr\\appdata\\roaming\\python\\python38\\site-packages (from ipython->jupyter-dash) (0.4.3)\n",
      "Requirement already satisfied: parso<0.9.0,>=0.8.0 in c:\\users\\leodr\\appdata\\roaming\\python\\python38\\site-packages (from jedi>=0.16->ipython->jupyter-dash) (0.8.1)\n",
      "Requirement already satisfied: wcwidth in c:\\users\\leodr\\appdata\\roaming\\python\\python38\\site-packages (from prompt-toolkit!=3.0.0,!=3.0.1,<3.1.0,>=2.0.0->ipython->jupyter-dash) (0.2.5)\n",
      "Requirement already satisfied: ipython-genutils in c:\\users\\leodr\\appdata\\roaming\\python\\python38\\site-packages (from traitlets>=4.1.0->ipykernel->jupyter-dash) (0.2.0)\n",
      "Requirement already satisfied: python-dateutil>=2.1 in c:\\users\\leodr\\appdata\\roaming\\python\\python38\\site-packages (from jupyter-client->ipykernel->jupyter-dash) (2.8.1)\n",
      "Requirement already satisfied: jupyter-core>=4.6.0 in c:\\users\\leodr\\appdata\\roaming\\python\\python38\\site-packages (from jupyter-client->ipykernel->jupyter-dash) (4.7.1)\n",
      "Requirement already satisfied: pyzmq>=13 in c:\\users\\leodr\\anaconda3\\lib\\site-packages (from jupyter-client->ipykernel->jupyter-dash) (20.0.0)\n",
      "Requirement already satisfied: pywin32>=1.0 in c:\\users\\leodr\\anaconda3\\lib\\site-packages (from jupyter-core>=4.6.0->jupyter-client->ipykernel->jupyter-dash) (227)\n",
      "Requirement already satisfied: six>=1.5 in c:\\users\\leodr\\appdata\\roaming\\python\\python38\\site-packages (from python-dateutil>=2.1->jupyter-client->ipykernel->jupyter-dash) (1.14.0)\n",
      "Requirement already satisfied: chardet<5,>=3.0.2 in c:\\users\\leodr\\anaconda3\\lib\\site-packages (from requests->jupyter-dash) (4.0.0)\n",
      "Requirement already satisfied: certifi>=2017.4.17 in c:\\users\\leodr\\anaconda3\\lib\\site-packages (from requests->jupyter-dash) (2020.12.5)\n",
      "Requirement already satisfied: idna<3,>=2.5 in c:\\users\\leodr\\anaconda3\\lib\\site-packages (from requests->jupyter-dash) (2.10)\n",
      "Requirement already satisfied: urllib3<1.27,>=1.21.1 in c:\\users\\leodr\\anaconda3\\lib\\site-packages (from requests->jupyter-dash) (1.26.4)\n",
      "Building wheels for collected packages: dash, dash-core-components, dash-html-components, dash-renderer, dash-table\n",
      "  Building wheel for dash (setup.py): started\n",
      "  Building wheel for dash (setup.py): finished with status 'done'\n",
      "  Created wheel for dash: filename=dash-1.19.0-py3-none-any.whl size=84011 sha256=447a54729076b3e79008f7726c937103cad5a9c05500f14f57ab4bec3d3cc781\n",
      "  Stored in directory: c:\\users\\leodr\\appdata\\local\\pip\\cache\\wheels\\e7\\27\\2f\\a9f9bf858843b5365bcb311a80f0b2379737caf4ec50b2ae3a\n",
      "  Building wheel for dash-core-components (setup.py): started\n",
      "  Building wheel for dash-core-components (setup.py): finished with status 'done'\n",
      "  Created wheel for dash-core-components: filename=dash_core_components-1.15.0-py3-none-any.whl size=3527011 sha256=fb9c80fc39e760ab5a223ad1d5bfa418ec59e2367a386c9a8a88bb8c26d47039\n",
      "  Stored in directory: c:\\users\\leodr\\appdata\\local\\pip\\cache\\wheels\\e3\\e6\\0e\\759ca580c568aad2436521fa6df67f53a141dc1ab8f040c4c7\n",
      "  Building wheel for dash-html-components (setup.py): started\n",
      "  Building wheel for dash-html-components (setup.py): finished with status 'done'\n",
      "  Created wheel for dash-html-components: filename=dash_html_components-1.1.2-py3-none-any.whl size=427831 sha256=4f20974b2e6cc46e2db7eac463c09c42a779ead1a5e5371ba5520d55bd3dd559\n",
      "  Stored in directory: c:\\users\\leodr\\appdata\\local\\pip\\cache\\wheels\\8a\\bc\\a8\\7ad1d354777cfe77413fd7a092e07d7cc82f88f98997f4c463\n",
      "  Building wheel for dash-renderer (setup.py): started\n",
      "  Building wheel for dash-renderer (setup.py): finished with status 'done'\n",
      "  Created wheel for dash-renderer: filename=dash_renderer-1.9.0-py3-none-any.whl size=1014872 sha256=ba30e296c1ee282fa9058458f38dcdbf7cbc075103eb9fda0319d7e9dbb038b9\n",
      "  Stored in directory: c:\\users\\leodr\\appdata\\local\\pip\\cache\\wheels\\08\\94\\09\\e11ba8ae5d97e1c8ff5be0ac1f7cf42642eec6ea94ed1e4b44\n",
      "  Building wheel for dash-table (setup.py): started\n",
      "  Building wheel for dash-table (setup.py): finished with status 'done'\n",
      "  Created wheel for dash-table: filename=dash_table-4.11.2-py3-none-any.whl size=1839869 sha256=5e49b1953c80d2e31a55068a855db2bebb827c436ee1fb91cf021b0e45cf5570\n",
      "  Stored in directory: c:\\users\\leodr\\appdata\\local\\pip\\cache\\wheels\\cc\\1d\\a0\\720dcf854e410eddbe44f8434f4d3a6332fdd085178eeac4f9\n",
      "Successfully built dash dash-core-components dash-html-components dash-renderer dash-table\n",
      "Installing collected packages: brotli, flask-compress, dash-table, dash-renderer, dash-html-components, dash-core-components, dash, ansi2html, jupyter-dash\n",
      "Successfully installed ansi2html-1.6.0 brotli-1.0.9 dash-1.19.0 dash-core-components-1.15.0 dash-html-components-1.1.2 dash-renderer-1.9.0 dash-table-4.11.2 flask-compress-1.9.0 jupyter-dash-0.4.0\n"
     ]
    }
   ],
   "source": [
    "!pip install jupyter-dash"
   ]
  },
  {
   "cell_type": "code",
   "execution_count": 10,
   "id": "marked-confirmation",
   "metadata": {},
   "outputs": [],
   "source": [
    "import dash\n",
    "from jupyter_dash import JupyterDash"
   ]
  },
  {
   "cell_type": "code",
   "execution_count": 11,
   "id": "excellent-seeking",
   "metadata": {},
   "outputs": [],
   "source": [
    "app = JupyterDash('Meu primeiro Dash')"
   ]
  },
  {
   "cell_type": "markdown",
   "id": "renewable-newfoundland",
   "metadata": {},
   "source": [
    "## Dash HTML Components"
   ]
  },
  {
   "cell_type": "code",
   "execution_count": 12,
   "id": "significant-peoples",
   "metadata": {},
   "outputs": [],
   "source": [
    "import dash_html_components as html"
   ]
  },
  {
   "cell_type": "code",
   "execution_count": 13,
   "id": "established-thought",
   "metadata": {},
   "outputs": [],
   "source": [
    "app.layout = html.H1('Hello World!')"
   ]
  },
  {
   "cell_type": "code",
   "execution_count": 14,
   "id": "preceding-spain",
   "metadata": {},
   "outputs": [],
   "source": [
    "app.layout = html.Div([\n",
    "    html.H1('Hello World'),\n",
    "    html.P('Meu primeiro Dash!')\n",
    "])"
   ]
  },
  {
   "cell_type": "code",
   "execution_count": 15,
   "id": "familiar-program",
   "metadata": {},
   "outputs": [],
   "source": [
    "app.layout = html.Div([\n",
    "    html.H1('Hello World'),\n",
    "    html.Div([\n",
    "        html.P('Este parágrafo está dentro de outra DIV')\n",
    "    ]),\n",
    "    html.H1('Outro Título'),\n",
    "    html.Div([\n",
    "        html.P('Este parágrafo está dentro de outra DIV')\n",
    "    ])\n",
    "])"
   ]
  },
  {
   "cell_type": "code",
   "execution_count": 16,
   "id": "dramatic-victorian",
   "metadata": {},
   "outputs": [],
   "source": [
    "app.layout = html.Div([\n",
    "    html.P('Este parágrafo é bonito.', style={'color':'blue', 'font-size':40}),\n",
    "    html.Div([\n",
    "        html.P('Este prágrafo está dentro da DIV')\n",
    "    ], className='container')\n",
    "])"
   ]
  },
  {
   "cell_type": "code",
   "execution_count": 17,
   "id": "aboriginal-accommodation",
   "metadata": {},
   "outputs": [],
   "source": [
    "app.layout = html.Div([\n",
    "    html.P('Este parágrafo é bonito.', style={'color':'blue', 'font-size':40}),\n",
    "    html.Div([\n",
    "        html.P('Este prágrafo está dentro da DIV')\n",
    "    ], className='container')\n",
    "])"
   ]
  },
  {
   "cell_type": "code",
   "execution_count": 18,
   "id": "fifteen-import",
   "metadata": {},
   "outputs": [
    {
     "data": {
      "text/html": [
       "\n",
       "        <iframe\n",
       "            width=\"100%\"\n",
       "            height=\"650\"\n",
       "            src=\"http://127.0.0.1:8069/\"\n",
       "            frameborder=\"0\"\n",
       "            allowfullscreen\n",
       "        ></iframe>\n",
       "        "
      ],
      "text/plain": [
       "<IPython.lib.display.IFrame at 0x13a84223970>"
      ]
     },
     "metadata": {},
     "output_type": "display_data"
    }
   ],
   "source": [
    "app.run_server(mode='inline', port=8069)\n",
    "#app.run_server(mode='external', port=8069)"
   ]
  },
  {
   "cell_type": "markdown",
   "id": "fantastic-horror",
   "metadata": {},
   "source": [
    "### Utilizando CSS externo"
   ]
  },
  {
   "cell_type": "code",
   "execution_count": 19,
   "id": "advanced-number",
   "metadata": {},
   "outputs": [],
   "source": [
    "bootstrap = ['https://cdn.jsdelivr.net/npm/bootstrap@5.0.0-beta3/dist/css/bootstrap.min.css']"
   ]
  },
  {
   "cell_type": "code",
   "execution_count": 20,
   "id": "narrow-smith",
   "metadata": {},
   "outputs": [],
   "source": [
    "app2 = JupyterDash('Dash Bootstrap', external_stylesheets=bootstrap)"
   ]
  },
  {
   "cell_type": "code",
   "execution_count": 23,
   "id": "numerical-offering",
   "metadata": {},
   "outputs": [],
   "source": [
    "app2.layout = html.Div([\n",
    "    html.H1('Hello World'),\n",
    "    html.P('Meu primeiro bootstrap'),\n",
    "    html.Div([\n",
    "        html.P('Vai ter um gráfico aqui em breve.')\n",
    "    ])\n",
    "])"
   ]
  },
  {
   "cell_type": "code",
   "execution_count": null,
   "id": "functional-founder",
   "metadata": {},
   "outputs": [],
   "source": []
  },
  {
   "cell_type": "code",
   "execution_count": 24,
   "id": "activated-noise",
   "metadata": {
    "scrolled": true
   },
   "outputs": [
    {
     "data": {
      "text/html": [
       "\n",
       "        <iframe\n",
       "            width=\"100%\"\n",
       "            height=\"650\"\n",
       "            src=\"http://127.0.0.1:8065/\"\n",
       "            frameborder=\"0\"\n",
       "            allowfullscreen\n",
       "        ></iframe>\n",
       "        "
      ],
      "text/plain": [
       "<IPython.lib.display.IFrame at 0x13a8456b310>"
      ]
     },
     "metadata": {},
     "output_type": "display_data"
    }
   ],
   "source": [
    "app2.run_server(mode='inline', port=8065)\n",
    "#app.run_server(mode='external', port=8065)"
   ]
  },
  {
   "cell_type": "markdown",
   "id": "circular-intensity",
   "metadata": {},
   "source": [
    "### Dash Core Components"
   ]
  },
  {
   "cell_type": "code",
   "execution_count": 27,
   "id": "affecting-light",
   "metadata": {},
   "outputs": [],
   "source": [
    "import dash_core_components as dcc"
   ]
  },
  {
   "cell_type": "markdown",
   "id": "sufficient-welsh",
   "metadata": {},
   "source": [
    "<select name=\"cars\" id=\"cars\">\n",
    "    <option value=\"volvo\">Volvo</option>\n",
    "    <option value=\"mercedes\">Mercedes</option>\n",
    "</select>"
   ]
  },
  {
   "cell_type": "code",
   "execution_count": 43,
   "id": "phantom-weather",
   "metadata": {},
   "outputs": [],
   "source": [
    "app3 = JupyterDash('Dash Bootstrap', external_stylesheets=bootstrap)"
   ]
  },
  {
   "cell_type": "code",
   "execution_count": 60,
   "id": "victorian-planning",
   "metadata": {},
   "outputs": [],
   "source": [
    "DD1= dcc.Dropdown(\n",
    "            options=[\n",
    "                {'label':'Volvo Geração 3','value':'volvo'},\n",
    "                {'label':'Saab','value':'saab'},\n",
    "                {'label':'Mercedes','value':'mercedes'},\n",
    "                {'label':'Audi','value':'audi'}\n",
    "            ], \n",
    "            value='mercedes',\n",
    "            className='col-md-3'\n",
    "        )"
   ]
  },
  {
   "cell_type": "code",
   "execution_count": 61,
   "id": "particular-publication",
   "metadata": {},
   "outputs": [],
   "source": [
    "app3.layout = html.Div([\n",
    "    html.H1('Meu primeiro componente'),\n",
    "    html.Div([\n",
    "        dcc.Dropdown(\n",
    "            options=[\n",
    "                {'label':'Volvo Geração 3','value':'volvo'},\n",
    "                {'label':'Saab','value':'saab'},\n",
    "                {'label':'Mercedes','value':'mercedes'},\n",
    "                {'label':'Audi','value':'audi'}\n",
    "            ], \n",
    "            value='mercedes',\n",
    "            className='col-md-3'\n",
    "        )\n",
    "    ])\n",
    "])"
   ]
  },
  {
   "cell_type": "code",
   "execution_count": 62,
   "id": "primary-support",
   "metadata": {},
   "outputs": [
    {
     "data": {
      "text/html": [
       "\n",
       "        <iframe\n",
       "            width=\"100%\"\n",
       "            height=\"650\"\n",
       "            src=\"http://127.0.0.1:8030/\"\n",
       "            frameborder=\"0\"\n",
       "            allowfullscreen\n",
       "        ></iframe>\n",
       "        "
      ],
      "text/plain": [
       "<IPython.lib.display.IFrame at 0x13a841ebfd0>"
      ]
     },
     "metadata": {},
     "output_type": "display_data"
    }
   ],
   "source": [
    "app3.run_server(mode='inline', port=8030)\n",
    "#app.run_server(mode='external', port=8055)"
   ]
  },
  {
   "cell_type": "code",
   "execution_count": null,
   "id": "automated-newsletter",
   "metadata": {},
   "outputs": [],
   "source": []
  }
 ],
 "metadata": {
  "kernelspec": {
   "display_name": "Python 3",
   "language": "python",
   "name": "python3"
  },
  "language_info": {
   "codemirror_mode": {
    "name": "ipython",
    "version": 3
   },
   "file_extension": ".py",
   "mimetype": "text/x-python",
   "name": "python",
   "nbconvert_exporter": "python",
   "pygments_lexer": "ipython3",
   "version": "3.8.8"
  }
 },
 "nbformat": 4,
 "nbformat_minor": 5
}
