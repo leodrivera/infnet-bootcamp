{
 "cells": [
  {
   "cell_type": "markdown",
   "metadata": {},
   "source": [
    "# Dash Components"
   ]
  },
  {
   "cell_type": "markdown",
   "metadata": {},
   "source": [
    "## HTLP Components"
   ]
  },
  {
   "cell_type": "markdown",
   "metadata": {},
   "source": [
    "- O html components faz com que a gente consiga montar o layout do dashboard utilizando componentes html porém utilizando python."
   ]
  },
  {
   "cell_type": "markdown",
   "metadata": {},
   "source": [
    "#### - html.Div"
   ]
  },
  {
   "cell_type": "markdown",
   "metadata": {},
   "source": [
    "- O **html.Div** é utilizado como um container que envolve os demais componentes do layout. O *html.Div* sozinho não representa muita coisa, porém quando possui algum componente envolvido, facilita no controle e na implementação de estilos."
   ]
  },
  {
   "cell_type": "code",
   "execution_count": null,
   "metadata": {},
   "outputs": [],
   "source": [
    "html.Div(\n",
    "    children=[],\n",
    "    id='',\n",
    "    className='',\n",
    "    style={},\n",
    "    n_clicks=0, \n",
    ")"
   ]
  },
  {
   "cell_type": "markdown",
   "metadata": {},
   "source": [
    "---"
   ]
  },
  {
   "cell_type": "markdown",
   "metadata": {},
   "source": [
    "#### - html.H1\n",
    "#### - html.H2\n",
    "#### - html.H3\n",
    "#### - html.H4\n",
    "#### - html.H5\n",
    "#### - html.H6"
   ]
  },
  {
   "cell_type": "markdown",
   "metadata": {},
   "source": [
    "- A presenta 6 tamanhos ou níveis de título ou cabeçalhos onde o menor nível é o H6"
   ]
  },
  {
   "cell_type": "markdown",
   "metadata": {},
   "source": [
    "---"
   ]
  },
  {
   "cell_type": "code",
   "execution_count": 1,
   "metadata": {},
   "outputs": [
    {
     "name": "stdout",
     "output_type": "stream",
     "text": [
      "Dash is running on http://127.0.0.1:8080/\n",
      "\n",
      " * Serving Flask app \"__main__\" (lazy loading)\n",
      " * Environment: production\n",
      "   WARNING: This is a development server. Do not use it in a production deployment.\n",
      "   Use a production WSGI server instead.\n",
      " * Debug mode: on\n"
     ]
    }
   ],
   "source": [
    "import dash\n",
    "import dash_core_components as dcc\n",
    "import dash_html_components as html \n",
    "\n",
    "\n",
    "app = dash.Dash()\n",
    "\n",
    "app.layout = html.Div([\n",
    "\n",
    "    # Título do layout\n",
    "    html.H1('html.H1', style={ 'color':'blue'}),\n",
    "    \n",
    "    html.H2('html.H2', style={ 'color':'black'}),\n",
    "    \n",
    "    html.H3('html.H3', style={ 'color':'yellow'}),\n",
    "    \n",
    "    html.H4('html.H4', style={ 'color':'red'}),\n",
    "    \n",
    "    html.H5('html.H5', style={ 'color':'orange'}),\n",
    "    \n",
    "    html.H5('html.H6', style={ 'color':'black'}),\n",
    "\n",
    "    \n",
    "\n",
    "])\n",
    "\n",
    "if __name__ == '__main__':\n",
    "    app.run_server(debug=True, port=8080, use_reloader = False)"
   ]
  },
  {
   "cell_type": "markdown",
   "metadata": {},
   "source": [
    "---"
   ]
  },
  {
   "cell_type": "markdown",
   "metadata": {},
   "source": [
    "#### - html.p\n",
    "\n",
    "- Cria parágrafo para texto"
   ]
  },
  {
   "cell_type": "code",
   "execution_count": null,
   "metadata": {},
   "outputs": [],
   "source": [
    "html.P( \n",
    "    children=[],\n",
    "    id='',\n",
    "    className='',\n",
    "    style={}\n",
    ")"
   ]
  },
  {
   "cell_type": "markdown",
   "metadata": {},
   "source": [
    "---"
   ]
  },
  {
   "cell_type": "markdown",
   "metadata": {},
   "source": [
    "#### - html.Button\n",
    "\n",
    "- Cria componente Botão"
   ]
  },
  {
   "cell_type": "code",
   "execution_count": null,
   "metadata": {},
   "outputs": [],
   "source": [
    "html.Button(\n",
    "    children=[],\n",
    "    id='',\n",
    "    className='',\n",
    "    n_clicks=0)"
   ]
  },
  {
   "cell_type": "markdown",
   "metadata": {},
   "source": [
    "---"
   ]
  },
  {
   "cell_type": "markdown",
   "metadata": {},
   "source": [
    "#### - html.Hr\n",
    "\n",
    "- Cria linha horizontal"
   ]
  },
  {
   "cell_type": "code",
   "execution_count": null,
   "metadata": {},
   "outputs": [],
   "source": [
    "html.Hr(\n",
    "    children=[],\n",
    "    id='',\n",
    "    className='',\n",
    ")"
   ]
  },
  {
   "cell_type": "markdown",
   "metadata": {},
   "source": [
    "---"
   ]
  },
  {
   "cell_type": "markdown",
   "metadata": {},
   "source": [
    "#### - html.Br\n",
    "\n",
    "- Reproduz uma quebra de linha no texto"
   ]
  },
  {
   "cell_type": "markdown",
   "metadata": {},
   "source": [
    "html.Br(\n",
    "    children=[],\n",
    "    id='',\n",
    "    className='',\n",
    ")"
   ]
  },
  {
   "cell_type": "markdown",
   "metadata": {},
   "source": [
    "---"
   ]
  },
  {
   "cell_type": "markdown",
   "metadata": {},
   "source": [
    "#### - html.Tr\n",
    "\n",
    "- Cria tabela"
   ]
  },
  {
   "cell_type": "code",
   "execution_count": null,
   "metadata": {},
   "outputs": [],
   "source": [
    "html.Table(\n",
    "    [\n",
    "        html.Tr(\n",
    "            [\n",
    "                html.Th('Coluna 1'),\n",
    "                html.Th('Coluna 2'),\n",
    "                html.Th('Coluna 3'),\n",
    "                html.Th('COluna 4')\n",
    "            ]\n",
    "        ),\n",
    "        html.Tr(\n",
    "            [\n",
    "                html.Td('elemento 11'),\n",
    "                html.Td('elemento 12'),\n",
    "                html.Td('elemento 13'),\n",
    "                html.Td('elemento 14')\n",
    "            ]\n",
    "        ),\n",
    "        html.Tr(\n",
    "            [\n",
    "                html.Td('elemento 21'),\n",
    "                html.Td('elemento 22'),\n",
    "                html.Td('elemento 23'),\n",
    "                html.Td('elemento 24')\n",
    "            ]\n",
    "        ),\n",
    "    ]\n",
    ")"
   ]
  },
  {
   "cell_type": "markdown",
   "metadata": {},
   "source": [
    "---"
   ]
  },
  {
   "cell_type": "code",
   "execution_count": null,
   "metadata": {},
   "outputs": [
    {
     "name": "stdout",
     "output_type": "stream",
     "text": [
      "Dash is running on http://127.0.0.1:8080/\n",
      "\n",
      "Dash is running on http://127.0.0.1:8080/\n",
      "\n",
      " * Serving Flask app \"__main__\" (lazy loading)\n",
      " * Environment: production\n",
      "   WARNING: This is a development server. Do not use it in a production deployment.\n",
      "   Use a production WSGI server instead.\n",
      " * Debug mode: on\n"
     ]
    }
   ],
   "source": [
    "import dash\n",
    "import dash_core_components as dcc\n",
    "import dash_html_components as html \n",
    "\n",
    "\n",
    "app = dash.Dash()\n",
    "\n",
    "app.layout = html.Div([\n",
    "\n",
    "    # Título do layout\n",
    "    html.H1('html.H1', style={ 'color':'blue'}),\n",
    "    \n",
    "    html.P(children=['Parágrafo']),\n",
    "    \n",
    "    html.Button(children=['Esse é um botão'], n_clicks=0),\n",
    "    \n",
    "    html.Hr( children=[], id='',  className=''),\n",
    "    \n",
    "    html.Br(children=[]),\n",
    "    \n",
    "    html.Table(\n",
    "                [\n",
    "                    html.Tr(\n",
    "                        [\n",
    "                            html.Th('Coluna 1'),\n",
    "                            html.Th('Coluna 2'),\n",
    "                            html.Th('Coluna 3'),\n",
    "                            html.Th('COluna 4')\n",
    "                        ]\n",
    "                    ),\n",
    "                    html.Tr(\n",
    "                        [\n",
    "                            html.Td('elemento 11'),\n",
    "                            html.Td('elemento 12'),\n",
    "                            html.Td('elemento 13'),\n",
    "                            html.Td('elemento 14')\n",
    "                        ]\n",
    "                    ),\n",
    "                    html.Tr(\n",
    "                        [\n",
    "                            html.Td('elemento 21'),\n",
    "                            html.Td('elemento 22'),\n",
    "                            html.Td('elemento 23'),\n",
    "                            html.Td('elemento 24')\n",
    "                        ]\n",
    "                    ),\n",
    "                ]\n",
    "            )\n",
    "\n",
    "    \n",
    "\n",
    "])\n",
    "\n",
    "if __name__ == '__main__':\n",
    "    app.run_server(debug=True, port=8080, use_reloader = False)"
   ]
  },
  {
   "cell_type": "markdown",
   "metadata": {},
   "source": [
    "---"
   ]
  }
 ],
 "metadata": {
  "kernelspec": {
   "display_name": "Python 3",
   "language": "python",
   "name": "python3"
  },
  "language_info": {
   "codemirror_mode": {
    "name": "ipython",
    "version": 3
   },
   "file_extension": ".py",
   "mimetype": "text/x-python",
   "name": "python",
   "nbconvert_exporter": "python",
   "pygments_lexer": "ipython3",
   "version": "3.8.3"
  }
 },
 "nbformat": 4,
 "nbformat_minor": 4
}
